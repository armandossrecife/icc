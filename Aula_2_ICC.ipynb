{
  "nbformat": 4,
  "nbformat_minor": 0,
  "metadata": {
    "colab": {
      "provenance": [],
      "include_colab_link": true
    },
    "kernelspec": {
      "name": "python3",
      "display_name": "Python 3.6.3 64-bit"
    },
    "language_info": {
      "name": "python",
      "version": "3.6.3",
      "mimetype": "text/x-python",
      "codemirror_mode": {
        "name": "ipython",
        "version": 3
      },
      "pygments_lexer": "ipython3",
      "nbconvert_exporter": "python",
      "file_extension": ".py"
    },
    "interpreter": {
      "hash": "58bc13ec4dd135858b8220102d0ad3358f57eb64d131366ec25c4d4365eacf63"
    }
  },
  "cells": [
    {
      "cell_type": "markdown",
      "metadata": {
        "id": "view-in-github",
        "colab_type": "text"
      },
      "source": [
        "<a href=\"https://colab.research.google.com/github/armandossrecife/icc/blob/main/Aula_2_ICC.ipynb\" target=\"_parent\"><img src=\"https://colab.research.google.com/assets/colab-badge.svg\" alt=\"Open In Colab\"/></a>"
      ]
    },
    {
      "cell_type": "markdown",
      "source": [
        "# Bem vindo ao Google Colab!"
      ],
      "metadata": {
        "id": "A7jpp-TMarTd"
      }
    },
    {
      "cell_type": "markdown",
      "metadata": {
        "id": "SwNyaT41kkWl"
      },
      "source": [
        "# A linguagem de programação Python"
      ]
    },
    {
      "cell_type": "markdown",
      "metadata": {
        "id": "zitwKS4wk3Aw"
      },
      "source": [
        "**Características**\n",
        "\n",
        "*   Interpretada\n",
        "*   Código legível\n",
        "*   Mutiparadígma (Programação estrutura, Programação Imperativa, Programação Orientada a Objetos, Programação Funcional)\n",
        "*   Tipos dinâmicos\n",
        "*   Blocos baseados em indentação"
      ]
    },
    {
      "cell_type": "markdown",
      "metadata": {
        "id": "eV_A1H-ll0eP"
      },
      "source": [
        "Criada por [Guido Van Rossum](https://en.wikipedia.org/wiki/Guido_van_Rossum) nos anos 80 e lançada no anos 90."
      ]
    },
    {
      "cell_type": "markdown",
      "metadata": {
        "id": "PBRCy01Ll8iq"
      },
      "source": [
        "O **Python 3** foi lançado em 2008. O Python 2.7.18 foi descontinuado em 2020. Com isso, é bom usar os padrões adotados pelo Python 3, pois não existe retrocompatibilidade entre o Python 3 e o Python 2. "
      ]
    },
    {
      "cell_type": "markdown",
      "metadata": {
        "id": "P6AVMiP-ngIF"
      },
      "source": [
        "A linguagem python é uma das linguagens mais populares (quantidade de buscas na Internet em 2020 - 1o lugar: C (11,83%) , 2o. lugar Python (11,67%), 3o. lugar Java (11,12%) ) do mundo segundo o índice Tiobe (https://www.tiobe.com/tiobe-index/)\n",
        "\n",
        "Segundo o survey 2021 stackoverflow (https://insights.stackoverflow.com/survey/2021) python ocupa o 3o. lugar (48%), JavaScript 1o lugar (64%) e html/css 2o. lugar (56%)"
      ]
    },
    {
      "cell_type": "markdown",
      "metadata": {
        "id": "sxGT1iuZdc9t"
      },
      "source": [
        "Bibliotecas, Frameworks e plataformas mais famosas baseadas em python: \n",
        "\n",
        "Desenvolvimento web: [Django](https://www.djangoproject.com/), [Flask](https://flask.palletsprojects.com/en/2.0.x/)\n",
        "\n",
        "Data Science: [Pandas](https://pandas.pydata.org/), [Matplotlib](https://matplotlib.org/)\n",
        "\n",
        "Machine Learning: [Scikit learn](https://scikit-learn.org/stable/), [PyTorch](https://pytorch.org/)\n",
        "\n",
        "Deep Learning e Redes Neurais: [TensorFlow](https://www.tensorflow.org/federated), [Keras](https://keras.io/)"
      ]
    },
    {
      "cell_type": "markdown",
      "metadata": {
        "id": "ejpv03SbqKB4"
      },
      "source": [
        "Site oficial: https://www.python.org/"
      ]
    },
    {
      "cell_type": "markdown",
      "metadata": {
        "id": "bMVwjDMtE3pv"
      },
      "source": [
        "Documentação Python: https://docs.python.org/3/"
      ]
    },
    {
      "cell_type": "markdown",
      "metadata": {
        "id": "CshlEZtoqUJv"
      },
      "source": [
        "Instale o python no seu sistema operacional https://www.python.org/downloads/"
      ]
    },
    {
      "cell_type": "markdown",
      "metadata": {
        "id": "E81UOWWEqflT"
      },
      "source": [
        "Versão estável: 3.9.x (setembro/2021)"
      ]
    },
    {
      "cell_type": "markdown",
      "metadata": {
        "id": "69AoWSqPrBHv"
      },
      "source": [
        "Chamando o interpretador python3 no mac: \n",
        "https://asciinema.org/a/439546\n",
        "\n",
        "Executando um script python via CLI (Command-line Interface): https://asciinema.org/a/439547"
      ]
    },
    {
      "cell_type": "markdown",
      "metadata": {
        "id": "HQQzWJ_8ukj5"
      },
      "source": [
        "Para o desenvolvimento de aplicações mais complexas é aconselhável usar uma IDE (Integrated Development Environment) para facilitar a organização, testes, depuração e empacotamento da aplicação. As mais usadas pela comunidade python: Pycharm (https://www.jetbrains.com/pt-br/pycharm/) e Visual Studio Code (https://code.visualstudio.com/). No caso o VSCode é aconselhável instalar uma [extensão python](https://code.visualstudio.com/docs/languages/python) para ajudar com features como IntelliSense, debugging, code navigation, code formatting e etc."
      ]
    },
    {
      "cell_type": "markdown",
      "metadata": {
        "id": "KPD9VRY2wLG3"
      },
      "source": [
        "Também é possível usar notebooks on-line para a execução em forma de interpretação de sequências de scripts python como por exemplo o google colab (https://colab.research.google.com/). Ele é muito usado para quem faz análise de dados (Data Science). Outro exemplo de notebook é o Kaggle (https://www.kaggle.com/) - muito usado pela comunidade de machine learning e data science. "
      ]
    },
    {
      "cell_type": "markdown",
      "metadata": {
        "id": "ujk5DO-zK0Lx"
      },
      "source": [
        "# 1) Saída padrao"
      ]
    },
    {
      "cell_type": "code",
      "metadata": {
        "colab": {
          "base_uri": "https://localhost:8080/"
        },
        "id": "Yk0VBGqIbJ9-",
        "outputId": "a61b66ff-7fbc-4865-e945-aeccda1bfbee"
      },
      "source": [
        "#Output\n",
        "print('Saída padrão')\n",
        "print('Armando')"
      ],
      "execution_count": null,
      "outputs": [
        {
          "output_type": "stream",
          "name": "stdout",
          "text": [
            "Saída padrão\n",
            "Armando\n"
          ]
        }
      ]
    },
    {
      "cell_type": "code",
      "source": [
        "print(\"Seu nome...\")"
      ],
      "metadata": {
        "colab": {
          "base_uri": "https://localhost:8080/"
        },
        "id": "qP-z3jDhbDlt",
        "outputId": "649e6b0e-b179-42d5-edce-56fbf7c0f511"
      },
      "execution_count": null,
      "outputs": [
        {
          "output_type": "stream",
          "name": "stdout",
          "text": [
            "Seu nome...\n"
          ]
        }
      ]
    },
    {
      "cell_type": "code",
      "source": [
        "print(\"Armando Soares Sousa\")"
      ],
      "metadata": {
        "colab": {
          "base_uri": "https://localhost:8080/"
        },
        "id": "kVlBwhd-Lcl-",
        "outputId": "ace81533-5a4f-4244-a924-bfba93414df7"
      },
      "execution_count": 10,
      "outputs": [
        {
          "output_type": "stream",
          "name": "stdout",
          "text": [
            "Armando Soares Sousa\n"
          ]
        }
      ]
    },
    {
      "cell_type": "markdown",
      "source": [
        "# 2) Blocos de código"
      ],
      "metadata": {
        "id": "XDxKY-hyHPqW"
      }
    },
    {
      "cell_type": "markdown",
      "source": [
        "Indentação do Python: refere-se aos espaços no início de uma linha de código.\n",
        "\n",
        "Python usa indentação para indicar um bloco de código."
      ],
      "metadata": {
        "id": "WWGgMc6wHTS_"
      }
    },
    {
      "cell_type": "code",
      "source": [
        "nome = \"Maria Joaquina\"\n",
        "idade = 20\n",
        "\n",
        "if idade >= 16:\n",
        "  print(\"Você pode tirar o título de eleitor!\")\n",
        "if idade >= 18: \n",
        "  print(\"Você pode tirar a habilitação!\")"
      ],
      "metadata": {
        "colab": {
          "base_uri": "https://localhost:8080/"
        },
        "id": "gvfPUqc1Hf0h",
        "outputId": "87440fdf-399d-45fd-becc-6102112fb2bd"
      },
      "execution_count": 12,
      "outputs": [
        {
          "output_type": "stream",
          "name": "stdout",
          "text": [
            "Você pode tirar o título de eleitor!\n",
            "Você pode tirar a habilitação!\n"
          ]
        }
      ]
    },
    {
      "cell_type": "markdown",
      "metadata": {
        "id": "dV39ZD2gK0L8"
      },
      "source": [
        "# 3) Variaveis e tipos de dados"
      ]
    },
    {
      "cell_type": "markdown",
      "metadata": {
        "id": "nfdSX4S9yggN"
      },
      "source": [
        "|Type|Mutability|Description|Syntax examples|\n",
        "|--- |--- |--- |--- |\n",
        "|bool|immutable|Boolean value|TrueFalse|\n",
        "|bytearray|mutable|Sequence of bytes|bytearray(b'Some ASCII')bytearray(b\"Some ASCII\")bytearray([119, 105, 107, 105])|\n",
        "|bytes|immutable|Sequence of bytes|b'Some ASCII'b\"Some ASCII\"bytes([119, 105, 107, 105])|\n",
        "|complex|immutable|Complex number with real and imaginary parts|3+2.7j3 + 2.7j|\n",
        "|dict|mutable|Associative array (or dictionary) of key and value pairs; can contain mixed types (keys and values), keys must be a hashable type|{'key1': 1.0, 3: False}{}|\n",
        "|ellipsisa|immutable|An ellipsis placeholder to be used as an index in NumPy arrays|...Ellipsis|\n",
        "|float|immutable|Double-precision floating-point number. The precision is machine-dependent but in practice is generally implemented as a 64-bit IEEE 754 number with 53 bits of precision.[99]|1.33333|\n",
        "|frozenset|immutable|Unordered set, contains no duplicates; can contain mixed types, if hashable|frozenset([4.0, 'string', True])|\n",
        "|int|immutable|Integer of unlimited magnitude[100]|42|\n",
        "|list|mutable|List, can contain mixed types|[4.0, 'string', True][]|\n",
        "|NoneTypea|immutable|An object representing the absence of a value, often called null in other languages|None|\n",
        "|NotImplementedTypea|immutable|A placeholder that can be returned from overloaded operators to indicate unsupported operand types.|NotImplemented|\n",
        "|range|immutable|A Sequence of numbers commonly used for looping specific number of times in for loops[101]|range(-1, 10)range(10, -5, -2)|\n",
        "|set|mutable|Unordered set, contains no duplicates; can contain mixed types, if hashable|{4.0, 'string', True}set()|\n",
        "|str|immutable|A character string: sequence of Unicode codepoints|\n",
        "|tuple|immutable|Can contain mixed types|(4.0, 'string', True)('single element',)()|\n"
      ]
    },
    {
      "cell_type": "markdown",
      "source": [
        "## Tipos mais importantes"
      ],
      "metadata": {
        "id": "Axhk3Xq4Dfo5"
      }
    },
    {
      "cell_type": "markdown",
      "source": [
        "Uma variável é criada no momento em que você atribui um valor a ela."
      ],
      "metadata": {
        "id": "bBDpxoYOH4Dy"
      }
    },
    {
      "cell_type": "markdown",
      "source": [
        "### Strings\n",
        "\n",
        "Usado para armazenar caracteres, palavras e frases"
      ],
      "metadata": {
        "id": "hZn5LunCDuH8"
      }
    },
    {
      "cell_type": "code",
      "source": [
        "# guarda um caractere\n",
        "meu_caractere = 'A'\n",
        "\n",
        "# guarda uma palavra\n",
        "meu_nome = 'Armando'\n",
        "\n",
        "# guarda uma frase\n",
        "minha_frase = 'Nada resiste ao trabalho'"
      ],
      "metadata": {
        "id": "COH69JGEEAqd"
      },
      "execution_count": 2,
      "outputs": []
    },
    {
      "cell_type": "markdown",
      "source": [
        "### Numéricos"
      ],
      "metadata": {
        "id": "qt4_018FFyX7"
      }
    },
    {
      "cell_type": "markdown",
      "source": [
        "int - representa um número inteiro\n",
        "\n",
        "float - representa um número real"
      ],
      "metadata": {
        "id": "7Edv1vTqMUN2"
      }
    },
    {
      "cell_type": "code",
      "source": [
        "# guarda um inteiro\n",
        "minha_idade = 43\n",
        "\n",
        "# guarda um número real\n",
        "pi = 3.14"
      ],
      "metadata": {
        "id": "EwAkPkVzMWes"
      },
      "execution_count": 13,
      "outputs": []
    },
    {
      "cell_type": "code",
      "metadata": {
        "colab": {
          "base_uri": "https://localhost:8080/"
        },
        "id": "XeV3xh_dhPCR",
        "outputId": "e18a6989-cce8-422b-c303-e9675ff51d87"
      },
      "source": [
        "# Tipos numéricos\n",
        "\n",
        "# int\t  long (python2)  float\t    complex\n",
        "# 10\t  51924361L\t      0.0\t      3.14j\n",
        "# 100\t  -0x19323L\t      15.20\t    45.j\n",
        "# -786\t0122L\t          -21.9\t    9.322e-36j\n",
        "\n",
        "meu_inteiro_maior = (2 ** 31) - 1\n",
        "meu_inteiro_menor = -1 * meu_inteiro_maior\n",
        "\n",
        "print(f'inteiro maior: {meu_inteiro_maior}, type: { type(meu_inteiro_maior) }')\n",
        "print(f'inteiro menor: {meu_inteiro_menor}, type: { type(meu_inteiro_menor) }')"
      ],
      "execution_count": null,
      "outputs": [
        {
          "output_type": "stream",
          "name": "stdout",
          "text": [
            "inteiro maior: 2147483647, type: <class 'int'>\n",
            "inteiro menor: -2147483647, type: <class 'int'>\n"
          ]
        }
      ]
    },
    {
      "cell_type": "code",
      "metadata": {
        "colab": {
          "base_uri": "https://localhost:8080/"
        },
        "id": "AX-8YW0Fllyk",
        "outputId": "a7c67481-e58f-4296-f5d9-694b70fd716d"
      },
      "source": [
        "# para armazenar floats\n",
        "meu_float = 1.15\n",
        "print(f'Float : {meu_float}, { type(meu_float) }')"
      ],
      "execution_count": null,
      "outputs": [
        {
          "output_type": "stream",
          "name": "stdout",
          "text": [
            "Float : 1.15, <class 'float'>\n"
          ]
        }
      ]
    },
    {
      "cell_type": "code",
      "metadata": {
        "colab": {
          "base_uri": "https://localhost:8080/"
        },
        "id": "fd0JqhZMnDj2",
        "outputId": "69b58a95-b494-4c84-d9f7-beeb19af06c0"
      },
      "source": [
        "# para armazenar números complexos\n",
        "meu_numero_complexo = 3.14j\n",
        "print(f'Numero complexo: {meu_numero_complexo}, type: { type(meu_numero_complexo) }')"
      ],
      "execution_count": null,
      "outputs": [
        {
          "output_type": "stream",
          "name": "stdout",
          "text": [
            "Numero complexo: 3.14j, type: <class 'complex'>\n"
          ]
        }
      ]
    },
    {
      "cell_type": "markdown",
      "source": [
        "## Exemplos de usos de variáveis"
      ],
      "metadata": {
        "id": "UtSBNl9IFUTJ"
      }
    },
    {
      "cell_type": "code",
      "metadata": {
        "colab": {
          "base_uri": "https://localhost:8080/"
        },
        "id": "L8ux1A4Tfd_Q",
        "outputId": "8e0b3c56-9204-481b-8264-4b652eb57f83"
      },
      "source": [
        "nome = 'Armando Soares Sousa'\n",
        "data_nascimento = '19/02/1979'\n",
        "altura = 1.68\n",
        "peso =  70\n",
        "vacinado_covid_1a_dose = True\n",
        "vacinado_covid_2a_dose = True\n",
        "\n",
        "print(f'Nome: {nome}, data de nascimento: {data_nascimento}, altura: {altura}m , peso: {peso}kg')"
      ],
      "execution_count": 14,
      "outputs": [
        {
          "output_type": "stream",
          "name": "stdout",
          "text": [
            "Nome: Armando Soares Sousa, data de nascimento: 19/02/1979, altura: 1.68m , peso: 70kg\n"
          ]
        }
      ]
    },
    {
      "cell_type": "code",
      "metadata": {
        "colab": {
          "base_uri": "https://localhost:8080/"
        },
        "id": "Wj34LUwru8El",
        "outputId": "faa9bff6-8d22-40b8-fe69-5e0da5d7a8af"
      },
      "source": [
        "print(f'nome: {nome}')\n",
        "teste = f'nome do cliente: {nome}'\n",
        "print(teste)"
      ],
      "execution_count": null,
      "outputs": [
        {
          "output_type": "stream",
          "name": "stdout",
          "text": [
            "nome: Armando Soares Sousa\n",
            "nome do cliente: Armando Soares Sousa\n"
          ]
        }
      ]
    },
    {
      "cell_type": "code",
      "metadata": {
        "colab": {
          "base_uri": "https://localhost:8080/"
        },
        "id": "B1ZKaEWqelOo",
        "outputId": "c3367727-d01b-4d3d-c44b-dace4e005d94"
      },
      "source": [
        "# comando if\n",
        "\n",
        "idade = 18\n",
        "\n",
        "if idade >= 18:\n",
        "  print('Pode tirar a habilitação para dirigir')\n",
        "else:\n",
        "  print('Ainda não pode dirigir')"
      ],
      "execution_count": 1,
      "outputs": [
        {
          "output_type": "stream",
          "name": "stdout",
          "text": [
            "Pode tirar a habilitação para dirigir\n"
          ]
        }
      ]
    },
    {
      "cell_type": "markdown",
      "source": [
        "## Múltiplas associações\n",
        "\n",
        "Python permite fazer várias atribuições simultâneas"
      ],
      "metadata": {
        "id": "RG0xdQeVFiIH"
      }
    },
    {
      "cell_type": "code",
      "metadata": {
        "colab": {
          "base_uri": "https://localhost:8080/"
        },
        "id": "npwmTGuEgdnJ",
        "outputId": "43b18c2f-e4cf-45b3-bfcf-f0153eff3749"
      },
      "source": [
        "# Multiplas associações\n",
        "\n",
        "a = b = c = 10\n",
        "\n",
        "nome, data_nascimento, altura, peso = 'Maria Silva', '10/10/2000', 1.70, 70 \n",
        "\n",
        "print(f'a: {a}, b: {b}, c: {c}')\n",
        "\n",
        "print(f'Nome: {nome}, data de nascimento: {data_nascimento}, altura: {altura}m , peso: {peso}kg')"
      ],
      "execution_count": null,
      "outputs": [
        {
          "output_type": "stream",
          "name": "stdout",
          "text": [
            "a: 10, b: 10, c: 10\n",
            "Nome: Maria Silva, data de nascimento: 10/10/2000, altura: 1.7m , peso: 70kg\n"
          ]
        }
      ]
    },
    {
      "cell_type": "code",
      "metadata": {
        "id": "Mv02BOCYvhBe"
      },
      "source": [
        "x, y = 10, 20"
      ],
      "execution_count": null,
      "outputs": []
    },
    {
      "cell_type": "markdown",
      "source": [
        "## Convertendo (Casting) tipos "
      ],
      "metadata": {
        "id": "NB790muHF6y9"
      }
    },
    {
      "cell_type": "code",
      "source": [
        "# int()\n",
        "x = int(1)   # x will be 1\n",
        "y = int(2.8) # y will be 2\n",
        "z = int(\"3\") # z will be 3"
      ],
      "metadata": {
        "id": "lcKt9ctrF-2M"
      },
      "execution_count": null,
      "outputs": []
    },
    {
      "cell_type": "code",
      "source": [
        "# float()\n",
        "x = float(1)     # x will be 1.0\n",
        "y = float(2.8)   # y will be 2.8\n",
        "z = float(\"3\")   # z will be 3.0\n",
        "w = float(\"4.2\") # w will be 4.2"
      ],
      "metadata": {
        "id": "t3_w0B1hGCee"
      },
      "execution_count": null,
      "outputs": []
    },
    {
      "cell_type": "code",
      "source": [
        "# str()\n",
        "x = str(\"s1\") # x will be 's1'\n",
        "y = str(2)    # y will be '2'\n",
        "z = str(3.0)  # z will be '3.0'"
      ],
      "metadata": {
        "id": "0AUPvHnCGF8E"
      },
      "execution_count": null,
      "outputs": []
    },
    {
      "cell_type": "markdown",
      "source": [
        "#4) Valores Booleanos"
      ],
      "metadata": {
        "id": "hBQ4zwJTIsEB"
      }
    },
    {
      "cell_type": "markdown",
      "source": [
        "Na programação, muitas vezes você precisa saber se uma expressão é Verdadeira (True) ou Falsa (False)."
      ],
      "metadata": {
        "id": "QBPHtlZnIaEK"
      }
    },
    {
      "cell_type": "code",
      "source": [
        "verdadeiro = True\n",
        "falso = False\n",
        "\n",
        "print(verdadeiro, falso)\n",
        "print(f'Verdadeiro: {verdadeiro}, Falso: {falso}')"
      ],
      "metadata": {
        "colab": {
          "base_uri": "https://localhost:8080/"
        },
        "id": "ElV9uEWnIudW",
        "outputId": "981e2735-399f-4d7f-f0c9-62baec2d3c6b"
      },
      "execution_count": null,
      "outputs": [
        {
          "output_type": "stream",
          "name": "stdout",
          "text": [
            "True False\n",
            "Verdadeiro: True, Falso: False\n"
          ]
        }
      ]
    },
    {
      "cell_type": "code",
      "source": [
        "print(10 > 9)\n",
        "print(10 == 9)\n",
        "print(10 < 9)"
      ],
      "metadata": {
        "colab": {
          "base_uri": "https://localhost:8080/"
        },
        "id": "_RYKDRP_JFhj",
        "outputId": "4824dbb3-ea1f-48af-aa92-993135eedb5e"
      },
      "execution_count": null,
      "outputs": [
        {
          "output_type": "stream",
          "name": "stdout",
          "text": [
            "True\n",
            "False\n",
            "False\n"
          ]
        }
      ]
    },
    {
      "cell_type": "markdown",
      "metadata": {
        "id": "SUxJjixrK0Mc"
      },
      "source": [
        "# 5) Operacoes aritmeticas"
      ]
    },
    {
      "cell_type": "markdown",
      "source": [
        "Operadores aritméticos são usados com valores numéricos para executar operações matemáticas comuns."
      ],
      "metadata": {
        "id": "vAcXIZElIqTr"
      }
    },
    {
      "cell_type": "markdown",
      "metadata": {
        "id": "VxDxEZXoSz6U"
      },
      "source": [
        "https://docs.python.org/3/library/stdtypes.html#numeric-types-int-float-complex"
      ]
    },
    {
      "cell_type": "code",
      "metadata": {
        "colab": {
          "base_uri": "https://localhost:8080/"
        },
        "id": "CN26Y5PXjTl9",
        "outputId": "b41462c4-36ee-4783-a1e2-14ec21fd502e"
      },
      "source": [
        "# Operações aritiméticas simples\n",
        "\n",
        "a = 21\n",
        "b = 10\n",
        "c = 0\n",
        "\n",
        "print(f'a = {a}')\n",
        "print(f'b = {b}')\n",
        "print('')\n",
        "\n",
        "c = a + b\n",
        "print(f\"a + b = {c}\")\n",
        "\n",
        "c = a - b\n",
        "print(f\"a - b = {c}\")\n",
        "\n",
        "c = a * b\n",
        "print(f\"a * b = {c}\")\n",
        "\n",
        "c = a / b\n",
        "print(f\"a / b =  {c}\")\n",
        "\n",
        "a = 2\n",
        "b = 3\n",
        "c = a**b \n",
        "print(f\"a**b= {c}\")"
      ],
      "execution_count": null,
      "outputs": [
        {
          "output_type": "stream",
          "name": "stdout",
          "text": [
            "a = 21\n",
            "b = 10\n",
            "\n",
            "a + b = 31\n",
            "a - b = 11\n",
            "a * b = 210\n",
            "a / b =  2.1\n",
            "a módulo b = 1\n",
            "a**b= 8\n",
            "a//b = 2\n"
          ]
        }
      ]
    },
    {
      "cell_type": "markdown",
      "metadata": {
        "id": "Fgzyck-zK0Me"
      },
      "source": [
        "# 6) Operacoes de comparacao"
      ]
    },
    {
      "cell_type": "markdown",
      "source": [
        "Operadores de comparação são usados para comparar dois valores."
      ],
      "metadata": {
        "id": "0ADemF4mIysU"
      }
    },
    {
      "cell_type": "markdown",
      "source": [
        "Condições do Python e instruções If\n",
        "\n",
        "Igual a: a == b\n",
        "\n",
        "Diferentes: a != b\n",
        "\n",
        "Menor que: a < b\n",
        "\n",
        "Menor ou igual a: a <= b\n",
        "\n",
        "Maior que: a > b\n",
        "\n",
        "Maior ou igual a: a >= b\n",
        "\n",
        "Essas condições podem ser usadas de várias maneiras, mais comumente em \"declarações if\""
      ],
      "metadata": {
        "id": "pM5_80pUJDkX"
      }
    },
    {
      "cell_type": "code",
      "source": [
        "# Operações de comparação\n",
        "\n",
        "a = 21\n",
        "b = 10\n",
        "c = 0\n",
        "\n",
        "if ( a == b ):\n",
        "   print(\"Line 1 - a is equal to b\")\n",
        "else:\n",
        "   print(\"Line 1 - a is not equal to b\")\n",
        "\n",
        "if ( a != b ):\n",
        "   print(\"Line 2 - a is not equal to b\")\n",
        "else:\n",
        "   print(\"Line 2 - a is equal to b\")\n",
        "\n",
        "if ( a < b ):\n",
        "   print(\"Line 4 - a is less than b\")\n",
        "else:\n",
        "   print(\"Line 4 - a is not less than b\")\n",
        "\n",
        "if ( a > b ):\n",
        "   print(\"Line 5 - a is greater than b\")\n",
        "else:\n",
        "   print(\"Line 5 - a is not greater than b\")\n",
        "\n",
        "a = 5\n",
        "b = 20\n",
        "if ( a <= b ):\n",
        "   print(\"Line 6 - a is either less than or equal to  b\")\n",
        "else:\n",
        "   print(\"Line 6 - a is neither less than nor equal to  b\")\n",
        "\n",
        "if ( b >= a ):\n",
        "   print(\"Line 7 - b is either greater than  or equal to b\")\n",
        "else:\n",
        "   print(\"Line 7 - b is neither greater than  nor equal to b\")"
      ],
      "metadata": {
        "colab": {
          "base_uri": "https://localhost:8080/"
        },
        "id": "hXZBB5lRFlGL",
        "outputId": "585b2d80-6ac1-4d7a-da37-2ce3e8f72e5c"
      },
      "execution_count": 4,
      "outputs": [
        {
          "output_type": "stream",
          "name": "stdout",
          "text": [
            "Line 1 - a is not equal to b\n",
            "Line 2 - a is not equal to b\n",
            "Line 4 - a is not less than b\n",
            "Line 5 - a is greater than b\n",
            "Line 6 - a is either less than or equal to  b\n",
            "Line 7 - b is either greater than  or equal to b\n"
          ]
        }
      ]
    },
    {
      "cell_type": "markdown",
      "metadata": {
        "id": "V-bMtnieK0Mj"
      },
      "source": [
        "# 7) Input"
      ]
    },
    {
      "cell_type": "markdown",
      "source": [
        "Como obter a entrada do usuário?\n",
        "\n",
        "A função input() é usada para obter entrada do usuário."
      ],
      "metadata": {
        "id": "RGGbzYdJJf5n"
      }
    },
    {
      "cell_type": "markdown",
      "metadata": {
        "id": "YzQv3H3oUJSB"
      },
      "source": [
        "https://docs.python.org/3/library/functions.html#input"
      ]
    },
    {
      "cell_type": "code",
      "source": [
        "nome = input('Qual o seu nome? ')"
      ],
      "metadata": {
        "colab": {
          "base_uri": "https://localhost:8080/"
        },
        "id": "QuL22JNrFw3R",
        "outputId": "ae9e2de7-afcf-406f-a996-44ea0c38676c"
      },
      "execution_count": 5,
      "outputs": [
        {
          "name": "stdout",
          "output_type": "stream",
          "text": [
            "Qual o seu nome? Armando Soares\n"
          ]
        }
      ]
    },
    {
      "cell_type": "code",
      "source": [
        "print(f'O nome digitado foi {nome}')"
      ],
      "metadata": {
        "colab": {
          "base_uri": "https://localhost:8080/"
        },
        "id": "k4R0CwftF2TL",
        "outputId": "77c4662e-2e5a-4fe0-c36c-5055bf40dd76"
      },
      "execution_count": 6,
      "outputs": [
        {
          "output_type": "stream",
          "name": "stdout",
          "text": [
            "O nome digitado foi Armando Soares\n"
          ]
        }
      ]
    },
    {
      "cell_type": "code",
      "source": [
        "ano_nascimento = input('Qual o seu ano de nascimento? ')\n",
        "print(ano_nascimento)"
      ],
      "metadata": {
        "colab": {
          "base_uri": "https://localhost:8080/"
        },
        "id": "22O9PF1LF-4J",
        "outputId": "fa10243e-8b0d-4ef6-bb98-3889edaac1b0"
      },
      "execution_count": 7,
      "outputs": [
        {
          "output_type": "stream",
          "name": "stdout",
          "text": [
            "Qual o seu ano de nascimento? 1979\n",
            "1979\n"
          ]
        }
      ]
    },
    {
      "cell_type": "markdown",
      "metadata": {
        "id": "boxoTHMqWq2h"
      },
      "source": [
        "## Entrada de dados do tipo string"
      ]
    },
    {
      "cell_type": "code",
      "metadata": {
        "id": "mtnixjfDWq2h",
        "outputId": "19b9cfee-d289-4e70-ce60-dd7ee08f73c8",
        "colab": {
          "base_uri": "https://localhost:8080/"
        }
      },
      "source": [
        "opcao = input('Digite sua opcao: y/n: ')\n",
        "\n",
        "if opcao.upper() == 'Y':\n",
        "    print('Você escolheu a opcao y')\n",
        "else:\n",
        "    if opcao.upper() == 'N':\n",
        "        print('Você escolheu a opcao n')\n",
        "    else: \n",
        "        print('Opcao invalida!')"
      ],
      "execution_count": null,
      "outputs": [
        {
          "output_type": "stream",
          "name": "stdout",
          "text": [
            "Digite sua opcao: y/n: y\n",
            "Você escolheu a opcao y\n"
          ]
        }
      ]
    },
    {
      "cell_type": "markdown",
      "metadata": {
        "id": "n3UPxNIxWq2h"
      },
      "source": [
        "## Entrada de dados do tipo inteiro"
      ]
    },
    {
      "cell_type": "code",
      "metadata": {
        "colab": {
          "base_uri": "https://localhost:8080/"
        },
        "id": "E23y2QfRrBSD",
        "outputId": "351cf35c-477f-4cd1-de94-30defbad5d4d"
      },
      "source": [
        "valor = input('Digite um número inteiro ') \n",
        "n = int(valor)\n",
        "print(f'O número {n}')"
      ],
      "execution_count": null,
      "outputs": [
        {
          "output_type": "stream",
          "name": "stdout",
          "text": [
            "Digite um número inteiro10\n",
            "O número 10\n"
          ]
        }
      ]
    },
    {
      "cell_type": "markdown",
      "metadata": {
        "id": "eJPzIfqUWq2i"
      },
      "source": [
        "## Entrada de dados do tipo float"
      ]
    },
    {
      "cell_type": "code",
      "metadata": {
        "colab": {
          "base_uri": "https://localhost:8080/"
        },
        "id": "puje6ZuUdu4E",
        "outputId": "b863280f-ff6f-4260-ca60-7456faaeecb3"
      },
      "source": [
        "valor = input('Digite o valor de PI: ')\n",
        "\n",
        "n = float(valor)\n",
        "print(f'número {n}')"
      ],
      "execution_count": null,
      "outputs": [
        {
          "output_type": "stream",
          "name": "stdout",
          "text": [
            "Digite um número qualquer10.45\n",
            "número 10.45\n"
          ]
        }
      ]
    },
    {
      "cell_type": "markdown",
      "metadata": {
        "id": "sFwU6kk5K0MI"
      },
      "source": [
        "# 8) String"
      ]
    },
    {
      "cell_type": "markdown",
      "source": [
        "É uma sequência ligada de caracteres"
      ],
      "metadata": {
        "id": "D89IeS7PLA_r"
      }
    },
    {
      "cell_type": "markdown",
      "source": [
        "![Captura de Tela 2023-01-12 às 10.28.32.png](data:image/png;base64,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)"
      ],
      "metadata": {
        "id": "zTYwoSViKyUx"
      }
    },
    {
      "cell_type": "code",
      "metadata": {
        "colab": {
          "base_uri": "https://localhost:8080/"
        },
        "id": "nR6UMdw0oW4S",
        "outputId": "7b2cb409-2781-4d1d-bd7a-f6087b8d265c"
      },
      "source": [
        "# Trabalhando com strings\n",
        "\n",
        "str_texto = 'Armando Soares Sousa'\n",
        "\n",
        "print(str_texto)          # Prints complete string\n",
        "print(str_texto[0])       # Prints first character of the string\n",
        "print(str_texto[2:5])     # Prints characters starting from 3rd to 5th\n",
        "print(str_texto[2:])      # Prints string starting from 3rd character\n",
        "print(str_texto * 2)      # Prints string two times\n",
        "print(str_texto * 3)      # Prints string tree times\n",
        "print(str_texto + \"TEST\") # Prints concatenated string"
      ],
      "execution_count": null,
      "outputs": [
        {
          "output_type": "stream",
          "name": "stdout",
          "text": [
            "Armando Soares Sousa\n",
            "A\n",
            "man\n",
            "mando Soares Sousa\n",
            "Armando Soares SousaArmando Soares Sousa\n",
            "Armando Soares SousaArmando Soares SousaArmando Soares Sousa\n",
            "Armando Soares SousaTEST\n"
          ]
        }
      ]
    },
    {
      "cell_type": "code",
      "source": [
        "nome = \"Maria Joaquina\"\n",
        "len(nome)"
      ],
      "metadata": {
        "colab": {
          "base_uri": "https://localhost:8080/"
        },
        "id": "HojNt4ZldQM4",
        "outputId": "e0aedd15-365b-4655-c72e-da3f41d3aad1"
      },
      "execution_count": null,
      "outputs": [
        {
          "output_type": "execute_result",
          "data": {
            "text/plain": [
              "14"
            ]
          },
          "metadata": {},
          "execution_count": 6
        }
      ]
    },
    {
      "cell_type": "code",
      "metadata": {
        "id": "mKcnULSLwmP8"
      },
      "source": [
        "str_teste = 'Bem vindo'"
      ],
      "execution_count": null,
      "outputs": []
    },
    {
      "cell_type": "code",
      "source": [
        "for i in range(1, 4):\n",
        "  print(i)"
      ],
      "metadata": {
        "id": "sn7zv_zSoL3J",
        "outputId": "ef1efaf8-a432-412f-8de5-b83c1c82739c",
        "colab": {
          "base_uri": "https://localhost:8080/"
        }
      },
      "execution_count": null,
      "outputs": [
        {
          "output_type": "stream",
          "name": "stdout",
          "text": [
            "1\n",
            "2\n",
            "3\n"
          ]
        }
      ]
    },
    {
      "cell_type": "code",
      "metadata": {
        "colab": {
          "base_uri": "https://localhost:8080/"
        },
        "id": "gydyWpRywrEs",
        "outputId": "4800cad8-5d26-4312-bce2-71e1483063b9"
      },
      "source": [
        "len(str_teste)"
      ],
      "execution_count": null,
      "outputs": [
        {
          "output_type": "execute_result",
          "data": {
            "text/plain": [
              "9"
            ]
          },
          "metadata": {},
          "execution_count": 18
        }
      ]
    },
    {
      "cell_type": "code",
      "metadata": {
        "colab": {
          "base_uri": "https://localhost:8080/"
        },
        "id": "UFVFwSdQwwW8",
        "outputId": "82a0362b-eafc-447b-cb2b-05ff116f9ee3"
      },
      "source": [
        "print(f'Imprime os 3 primeiros caracters da string \"{str_teste}\": {str_teste[:3]}')\n",
        "print(f'Imprime do 5o caractere em diante: {str_teste[4:]}')"
      ],
      "execution_count": null,
      "outputs": [
        {
          "output_type": "stream",
          "name": "stdout",
          "text": [
            "Imprime os 3 primeiros caracters da string \"Bem vindo\": Bem\n",
            "Imprime do 5o caractere em diante: vindo\n"
          ]
        }
      ]
    },
    {
      "cell_type": "code",
      "metadata": {
        "colab": {
          "base_uri": "https://localhost:8080/"
        },
        "id": "eGOfPso6OxcG",
        "outputId": "d0cae1d7-7091-4619-a6cb-a3376c013bb5"
      },
      "source": [
        "meu_nome = str_texto[:7]\n",
        "print(f'Dada a string \"{str_texto}\" imprime os 7 primeiros caracters: {meu_nome}')  "
      ],
      "execution_count": null,
      "outputs": [
        {
          "output_type": "stream",
          "name": "stdout",
          "text": [
            "Dada a string \"Armando Soares Sousa\" imprime os 7 primeiros caracters: Armando\n"
          ]
        }
      ]
    },
    {
      "cell_type": "code",
      "source": [
        "para_str = \"\"\"this is a long string that is made up of\n",
        "several lines and non-printable characters such as\n",
        "TAB ( \\t ) and they will show up that way when displayed.\n",
        "NEWLINEs within the string, whether explicitly given like\n",
        "this within the brackets [ \\n ], or just a NEWLINE within\n",
        "the variable assignment will also show up.\n",
        "\"\"\"\n",
        "print(para_str)"
      ],
      "metadata": {
        "colab": {
          "base_uri": "https://localhost:8080/"
        },
        "id": "FlOhAmgkPMfG",
        "outputId": "f54c31c6-b718-4b92-d955-b06a562995d0"
      },
      "execution_count": null,
      "outputs": [
        {
          "output_type": "stream",
          "name": "stdout",
          "text": [
            "this is a long string that is made up of\n",
            "several lines and non-printable characters such as\n",
            "TAB ( \t ) and they will show up that way when displayed.\n",
            "NEWLINEs within the string, whether explicitly given like\n",
            "this within the brackets [ \n",
            " ], or just a NEWLINE within\n",
            "the variable assignment will also show up.\n",
            "\n"
          ]
        }
      ]
    },
    {
      "cell_type": "markdown",
      "metadata": {
        "id": "hWE0X9PCNkf9"
      },
      "source": [
        "## String methods"
      ]
    },
    {
      "cell_type": "markdown",
      "metadata": {
        "id": "7c-x0lOfRZpm"
      },
      "source": [
        "https://docs.python.org/3/library/stdtypes.html#text-sequence-type-str"
      ]
    },
    {
      "cell_type": "code",
      "metadata": {
        "colab": {
          "base_uri": "https://localhost:8080/"
        },
        "id": "yVp3U6WzNex6",
        "outputId": "d4ca310c-7f84-477e-f790-1a65fc27085e"
      },
      "source": [
        "print(str_texto.upper() )\n",
        "print(str_texto.lower() )\n",
        "print(str_texto.capitalize() )\n",
        "print(str_texto.find(\"Sousa\") )\n",
        "print(str_texto.index('Sousa'))\n",
        "print(str_texto.isalpha() )\n",
        "print(meu_nome.isalpha() )\n",
        "print(str_texto.endswith(\"Sousa\"))"
      ],
      "execution_count": null,
      "outputs": [
        {
          "output_type": "stream",
          "name": "stdout",
          "text": [
            "ARMANDO SOARES SOUSA\n",
            "armando soares sousa\n",
            "Armando soares sousa\n",
            "15\n",
            "15\n",
            "False\n",
            "True\n",
            "True\n"
          ]
        }
      ]
    },
    {
      "cell_type": "code",
      "metadata": {
        "id": "rTbTce-HxxLC"
      },
      "source": [
        "str_python = 'Bem vindo ao python'"
      ],
      "execution_count": null,
      "outputs": []
    },
    {
      "cell_type": "code",
      "metadata": {
        "colab": {
          "base_uri": "https://localhost:8080/"
        },
        "id": "_RTmL1h5x4F_",
        "outputId": "74976f60-0877-4a37-84fc-e65f63699fb4"
      },
      "source": [
        "str_python.find('python')"
      ],
      "execution_count": null,
      "outputs": [
        {
          "output_type": "execute_result",
          "data": {
            "text/plain": [
              "13"
            ]
          },
          "metadata": {},
          "execution_count": 23
        }
      ]
    },
    {
      "cell_type": "code",
      "metadata": {
        "colab": {
          "base_uri": "https://localhost:8080/"
        },
        "id": "ZCNMXFFsyC7g",
        "outputId": "a91272c9-19f0-4da8-c32c-5b201fc30cde"
      },
      "source": [
        "str_python.index('python')"
      ],
      "execution_count": null,
      "outputs": [
        {
          "output_type": "execute_result",
          "data": {
            "text/plain": [
              "13"
            ]
          },
          "metadata": {},
          "execution_count": 24
        }
      ]
    },
    {
      "cell_type": "markdown",
      "source": [
        "## Caracteres de Escape"
      ],
      "metadata": {
        "id": "6k1zhOuuHPxQ"
      }
    },
    {
      "cell_type": "code",
      "source": [
        "# \\'\tSingle Quote\t\n",
        "# \\\\\tBackslash\t\n",
        "# \\n\tNew Line\t\n",
        "\n",
        "my_single_quote = \"\\'Talk is easy, show the code\\' - Linus Torvalds\"\n",
        "print(my_single_quote)\n",
        "\n",
        "my_backslash = \"[\\\\]\"\n",
        "print(my_backslash)\n",
        "\n",
        "my_new_line = \"Linux is an open-source Unix-like operating system based on the Linux kernel, an operating system kernel \\n first released on September 17, 1991, by Linus Torvalds.\"\n",
        "print(my_new_line)"
      ],
      "metadata": {
        "colab": {
          "base_uri": "https://localhost:8080/"
        },
        "id": "t6TXNYHXHTDC",
        "outputId": "83fb5a1c-e345-4e2d-bf38-9a691caf8582"
      },
      "execution_count": null,
      "outputs": [
        {
          "output_type": "stream",
          "name": "stdout",
          "text": [
            "'Talk is easy, show the code' - Linus Torvalds\n",
            "[\\]\n",
            "Linux is an open-source Unix-like operating system based on the Linux kernel, an operating system kernel \n",
            " first released on September 17, 1991, by Linus Torvalds.\n"
          ]
        }
      ]
    }
  ]
}