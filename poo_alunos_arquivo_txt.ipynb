{
  "nbformat": 4,
  "nbformat_minor": 0,
  "metadata": {
    "colab": {
      "provenance": [],
      "authorship_tag": "ABX9TyMeJu1czYXvkAA0SqLcxljs",
      "include_colab_link": true
    },
    "kernelspec": {
      "name": "python3",
      "display_name": "Python 3"
    },
    "language_info": {
      "name": "python"
    }
  },
  "cells": [
    {
      "cell_type": "markdown",
      "metadata": {
        "id": "view-in-github",
        "colab_type": "text"
      },
      "source": [
        "<a href=\"https://colab.research.google.com/github/armandossrecife/icc/blob/main/poo_alunos_arquivo_txt.ipynb\" target=\"_parent\"><img src=\"https://colab.research.google.com/assets/colab-badge.svg\" alt=\"Open In Colab\"/></a>"
      ]
    },
    {
      "cell_type": "markdown",
      "source": [
        "Define a classe Aluno"
      ],
      "metadata": {
        "id": "1ErWPPKUKFMk"
      }
    },
    {
      "cell_type": "code",
      "execution_count": 3,
      "metadata": {
        "id": "0kwXVlTEKAtW"
      },
      "outputs": [],
      "source": [
        "class Aluno:\n",
        "  def __init__(self, matricula, nome, notas):\n",
        "    self.matricula = matricula\n",
        "    self.nome = nome\n",
        "    self.notas = notas\n",
        "\n",
        "  def calcula_media(self):\n",
        "    soma_notas = sum(self.notas)\n",
        "    qtd_notas = len(self.notas)\n",
        "    media = soma_notas/qtd_notas\n",
        "    return media\n",
        "\n",
        "  def __str__(self):\n",
        "    return '(' + self.matricula + ',' + self.nome + ')'"
      ]
    },
    {
      "cell_type": "markdown",
      "source": [
        "função para converter lista de notas de um aluno em uma string separada por virgulas"
      ],
      "metadata": {
        "id": "ZbDNqMxKKIf0"
      }
    },
    {
      "cell_type": "code",
      "source": [
        "def converte_notas_para_str(aluno):\n",
        "  notas_string = ''\n",
        "  for nota in aluno.notas:\n",
        "    notas_string = notas_string + str(nota) + ','\n",
        "  return notas_string"
      ],
      "metadata": {
        "id": "lJGtEwETKGiD"
      },
      "execution_count": 1,
      "outputs": []
    },
    {
      "cell_type": "markdown",
      "source": [
        "Salva 3 alunos em um arquivo texto"
      ],
      "metadata": {
        "id": "dKDPDI2NKVru"
      }
    },
    {
      "cell_type": "code",
      "source": [
        "# 1 criar os 3 alunos\n",
        "aluno1 = Aluno('1231231', 'Daniel', [10, 9, 8])\n",
        "aluno2 = Aluno('23423423', 'Clara', [10, 7, 9, 10])\n",
        "aluno3 = Aluno('3443234534', 'Zara', [10, 10])"
      ],
      "metadata": {
        "id": "zFuaBEn8KTbH"
      },
      "execution_count": 5,
      "outputs": []
    },
    {
      "cell_type": "code",
      "source": [
        "# Salva os 3 alunos em um arquivo .txt\n",
        "# Criar um arquivo no modo append\n",
        "f_alunos = open('meus_alunos.txt', 'a')\n",
        "dados_aluno1 = aluno1.matricula + '#' + aluno1.nome + '#'+  converte_notas_para_str(aluno1) + str(aluno1.calcula_media()) + '\\n'\n",
        "f_alunos.write(dados_aluno1)\n",
        "dados_aluno2 = aluno2.matricula + '#' + aluno2.nome + '#'+  converte_notas_para_str(aluno2) + str(aluno2.calcula_media()) + '\\n'\n",
        "f_alunos.write(dados_aluno2)\n",
        "dados_aluno3 = aluno3.matricula + '#' + aluno3.nome + '#'+  converte_notas_para_str(aluno3) + str(aluno3.calcula_media()) + '\\n'\n",
        "f_alunos.write(dados_aluno3)\n",
        "f_alunos.close()"
      ],
      "metadata": {
        "id": "nhq6o21HKZEA"
      },
      "execution_count": 6,
      "outputs": []
    },
    {
      "cell_type": "markdown",
      "source": [
        "Ler os dados do arquivo .txt"
      ],
      "metadata": {
        "id": "LRUIenQCKliK"
      }
    },
    {
      "cell_type": "code",
      "source": [
        "f_ler_alunos = open('meus_alunos.txt', 'r')\n",
        "for linha in f_ler_alunos:\n",
        "  print(linha)\n",
        "f_ler_alunos.close()"
      ],
      "metadata": {
        "colab": {
          "base_uri": "https://localhost:8080/"
        },
        "id": "E1o9tsgIKnIp",
        "outputId": "089a8259-ebd9-41b1-870d-cc057847c325"
      },
      "execution_count": 7,
      "outputs": [
        {
          "output_type": "stream",
          "name": "stdout",
          "text": [
            "1231231#Daniel#10,9,8,9.0\n",
            "\n",
            "23423423#Clara#10,7,9,10,9.0\n",
            "\n",
            "3443234534#Zara#10,10,10.0\n",
            "\n"
          ]
        }
      ]
    },
    {
      "cell_type": "code",
      "source": [],
      "metadata": {
        "id": "LtEMuXoLKpV8"
      },
      "execution_count": null,
      "outputs": []
    }
  ]
}