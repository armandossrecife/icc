{
  "nbformat": 4,
  "nbformat_minor": 0,
  "metadata": {
    "colab": {
      "provenance": [],
      "authorship_tag": "ABX9TyO32IOuCKoUci+bYcZuichf",
      "include_colab_link": true
    },
    "kernelspec": {
      "name": "python3",
      "display_name": "Python 3"
    },
    "language_info": {
      "name": "python"
    }
  },
  "cells": [
    {
      "cell_type": "markdown",
      "metadata": {
        "id": "view-in-github",
        "colab_type": "text"
      },
      "source": [
        "<a href=\"https://colab.research.google.com/github/armandossrecife/icc/blob/main/Pratica_3.ipynb\" target=\"_parent\"><img src=\"https://colab.research.google.com/assets/colab-badge.svg\" alt=\"Open In Colab\"/></a>"
      ]
    },
    {
      "cell_type": "markdown",
      "source": [
        "# Prática 3 - Manipulando os alunos e as notas de uma disciplina"
      ],
      "metadata": {
        "id": "CURyKkWYhYO3"
      }
    },
    {
      "cell_type": "markdown",
      "source": [
        "## 1. Informações de um aluno\n",
        "Um aluno tem uma matrícula, um nome e 4 notas\n",
        "\n",
        "Um aluno pode ser representado por uma tupla ('Nome', lista_de_notas)\n",
        "\n",
        "tupla aluno = ('Nome do aluno', lista_de_notas)\n",
        "\n",
        "Por exemplo:\n",
        " \n",
        "aluno1 = ('Nome do aluno1', [10, 8, 7, 9])"
      ],
      "metadata": {
        "id": "6H01bFYYhh5K"
      }
    },
    {
      "cell_type": "code",
      "source": [
        "aluno1 = ('Maria Joaquina', [10, 9,8,7])\n",
        "aluno2 = ('Ana Carla', [10, 10,8,8])\n",
        "aluno3 = ('Maria Júlia', [10, 10,10,10])"
      ],
      "metadata": {
        "id": "EJ3cTjwzzMzX"
      },
      "execution_count": 1,
      "outputs": []
    },
    {
      "cell_type": "markdown",
      "source": [
        "## 2. Informações de uma disciplina\n",
        "\n",
        "Uma disciplina pode ser representada por um dicionário de alunos, onde cada item tem como chave a matrícula do aluno e o valor é a tupla que representa o aluno.\n",
        "\n",
        "Por exemplo: \n",
        "\n",
        "alunos_lp = {\n",
        "    'matricula1': ('aluno1', [10, 8, 7, 5]),\n",
        "    'matricula2': ('aluno2', [8, 8, 9, 6]),\n",
        "    'matricula3': ('aluno3', [9, 8, 6, 7]),\n",
        "}"
      ],
      "metadata": {
        "id": "IgI7BWKaysHy"
      }
    },
    {
      "cell_type": "code",
      "execution_count": 2,
      "metadata": {
        "id": "zeBP7lvrcw7P"
      },
      "outputs": [],
      "source": [
        "dicionario_alunos = {}"
      ]
    },
    {
      "cell_type": "code",
      "source": [
        "dicionario_alunos['20220001'] = aluno1\n",
        "dicionario_alunos['20200202'] = aluno2\n",
        "dicionario_alunos['20210002'] = aluno3"
      ],
      "metadata": {
        "id": "lVek2vmBzbCq"
      },
      "execution_count": 4,
      "outputs": []
    },
    {
      "cell_type": "markdown",
      "source": [
        "## 3. Liste todas as matrículas dos alunos matriculados na disciplina\n",
        "\n",
        "Dica: liste apenas as chaves (keys) do dicionário"
      ],
      "metadata": {
        "id": "2UFZaKJtzkUC"
      }
    },
    {
      "cell_type": "code",
      "source": [
        "for matricula in dicionario_alunos.keys():\n",
        "  print(matricula)"
      ],
      "metadata": {
        "id": "E7SQ0QHHc_gO",
        "outputId": "6d1c29a0-f4fc-4c5c-a870-efccfeaf60ff",
        "colab": {
          "base_uri": "https://localhost:8080/"
        }
      },
      "execution_count": 7,
      "outputs": [
        {
          "output_type": "stream",
          "name": "stdout",
          "text": [
            "20220001\n",
            "20200202\n",
            "20210002\n"
          ]
        }
      ]
    },
    {
      "cell_type": "markdown",
      "source": [
        "## 4. Liste todos os alunos matriculados na disciplina\n",
        "\n",
        "Dica: liste apenas os valores (values) do dicionário"
      ],
      "metadata": {
        "id": "NaU0kXBazw0D"
      }
    },
    {
      "cell_type": "code",
      "source": [
        "for aluno in dicionario_alunos.values():\n",
        "  print(aluno)"
      ],
      "metadata": {
        "id": "8JNo2FF9dso4",
        "outputId": "95f78196-ac69-4d00-ba69-35a643379b32",
        "colab": {
          "base_uri": "https://localhost:8080/"
        }
      },
      "execution_count": 15,
      "outputs": [
        {
          "output_type": "stream",
          "name": "stdout",
          "text": [
            "('Maria Joaquina', [10, 9, 8, 7])\n",
            "('Ana Carla', [10, 10, 8, 8])\n",
            "('Maria Júlia', [10, 10, 10, 10])\n"
          ]
        }
      ]
    },
    {
      "cell_type": "markdown",
      "source": [
        "## 5. Liste apenas os nomes dos alunos matriculados\n",
        "Dica: para cada valor, mostre apenas o 1o. elemento da tupla"
      ],
      "metadata": {
        "id": "ZQKJFhaSz4o9"
      }
    },
    {
      "cell_type": "code",
      "source": [
        "for k, v in dicionario_alunos.items():\n",
        "  print(f'Nome: {v[0]}')"
      ],
      "metadata": {
        "id": "LO6-4EIXeOIg",
        "outputId": "8be75d38-d69b-4873-859d-02ad9a2ca132",
        "colab": {
          "base_uri": "https://localhost:8080/"
        }
      },
      "execution_count": 13,
      "outputs": [
        {
          "output_type": "stream",
          "name": "stdout",
          "text": [
            "Nome: Maria Joaquina\n",
            "Nome: Ana Carla\n",
            "Nome: Maria Júlia\n"
          ]
        }
      ]
    },
    {
      "cell_type": "markdown",
      "source": [
        "## 6. Liste os nomes dos alunos com suas respetivas notas\n",
        "\n",
        "Dica: liste apenas os valores do dicionário"
      ],
      "metadata": {
        "id": "OzY_pjVW0IlV"
      }
    },
    {
      "cell_type": "code",
      "source": [
        "for k, v in dicionario_alunos.items():\n",
        "  print(f'Nome: {v[0]}, Notas: {v[1]}')"
      ],
      "metadata": {
        "id": "6CfN1mV00NRu",
        "outputId": "0edd6d77-356a-4a5f-ba37-c64507f73ba1",
        "colab": {
          "base_uri": "https://localhost:8080/"
        }
      },
      "execution_count": 14,
      "outputs": [
        {
          "output_type": "stream",
          "name": "stdout",
          "text": [
            "Nome: Maria Joaquina, Notas: [10, 9, 8, 7]\n",
            "Nome: Ana Carla, Notas: [10, 10, 8, 8]\n",
            "Nome: Maria Júlia, Notas: [10, 10, 10, 10]\n"
          ]
        }
      ]
    },
    {
      "cell_type": "markdown",
      "source": [
        "## 7. Liste os nomes dos alunos, suas notas e a média final\n",
        "\n",
        "Dica: liste apenas os valores do dicionário\n",
        "\n",
        "Obs: faça um loop dentro da lista de notas para calcular a média"
      ],
      "metadata": {
        "id": "Vimkvt3I0kML"
      }
    },
    {
      "cell_type": "code",
      "source": [],
      "metadata": {
        "id": "Jqq9G3iPeeVs"
      },
      "execution_count": null,
      "outputs": []
    },
    {
      "cell_type": "markdown",
      "source": [
        "## 8. Calcule a média aritmética geral da turma\n",
        "\n",
        "Dica: liste apenas os valores do dicionário\n",
        "\n",
        "Obs1: faça um loop dentro da lista de notas para calcular a média. Pode usar len(lista de notas) para pegar a quantidade de notas\n",
        "\n",
        "Obs2: acumule as médias dos alunos e ao final divida pela quantidade de alunos (len(dicionario))"
      ],
      "metadata": {
        "id": "xzTycItP09tN"
      }
    },
    {
      "cell_type": "code",
      "source": [],
      "metadata": {
        "id": "3gSscVrVfI87"
      },
      "execution_count": null,
      "outputs": []
    }
  ]
}