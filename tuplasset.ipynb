{
  "nbformat": 4,
  "nbformat_minor": 0,
  "metadata": {
    "colab": {
      "provenance": [],
      "authorship_tag": "ABX9TyPzewNLOnUnoZVSS9gCFF8m",
      "include_colab_link": true
    },
    "kernelspec": {
      "name": "python3",
      "display_name": "Python 3"
    },
    "language_info": {
      "name": "python"
    }
  },
  "cells": [
    {
      "cell_type": "markdown",
      "metadata": {
        "id": "view-in-github",
        "colab_type": "text"
      },
      "source": [
        "<a href=\"https://colab.research.google.com/github/armandossrecife/icc/blob/main/tuplasset.ipynb\" target=\"_parent\"><img src=\"https://colab.research.google.com/assets/colab-badge.svg\" alt=\"Open In Colab\"/></a>"
      ]
    },
    {
      "cell_type": "code",
      "execution_count": 1,
      "metadata": {
        "id": "GE0FgFQFAcc6"
      },
      "outputs": [],
      "source": [
        "aluno1 = ('123456', 'Maria Joaquina', [7, 8, 9])\n",
        "\n",
        "aluno2 = ('2342342', 'Ana Clara', [7, 7, 7])"
      ]
    },
    {
      "cell_type": "code",
      "source": [
        "print(aluno1)\n",
        "print(aluno2)"
      ],
      "metadata": {
        "colab": {
          "base_uri": "https://localhost:8080/"
        },
        "id": "Wwh8TAEyAwLu",
        "outputId": "d85f6962-4598-49b5-cf7a-cb8435417d28"
      },
      "execution_count": 2,
      "outputs": [
        {
          "output_type": "stream",
          "name": "stdout",
          "text": [
            "('123456', 'Maria Joaquina', [7, 8, 9])\n",
            "('2342342', 'Ana Clara', [7, 7, 7])\n"
          ]
        }
      ]
    },
    {
      "cell_type": "code",
      "source": [
        "print(f\"Elemento 1 do aluno1: {aluno1[0]}\")"
      ],
      "metadata": {
        "colab": {
          "base_uri": "https://localhost:8080/"
        },
        "id": "OsQl1q8vA22i",
        "outputId": "05db246a-7e91-4f01-c509-5ac0922c075e"
      },
      "execution_count": 3,
      "outputs": [
        {
          "output_type": "stream",
          "name": "stdout",
          "text": [
            "Elemento 1 do aluno1: 123456\n"
          ]
        }
      ]
    },
    {
      "cell_type": "code",
      "source": [
        "print(f\"Elemento 2 do aluno1: {aluno1[1]}\")"
      ],
      "metadata": {
        "colab": {
          "base_uri": "https://localhost:8080/"
        },
        "id": "EN0p31DnA6nC",
        "outputId": "868b912b-4218-4dca-8862-287bccd5f548"
      },
      "execution_count": 5,
      "outputs": [
        {
          "output_type": "stream",
          "name": "stdout",
          "text": [
            "Elemento 2 do aluno1: Maria Joaquina\n"
          ]
        }
      ]
    },
    {
      "cell_type": "code",
      "source": [
        "print(f\"Elemento 3 do aluno1: {aluno1[2]}\")"
      ],
      "metadata": {
        "colab": {
          "base_uri": "https://localhost:8080/"
        },
        "id": "XQdaTStwA9LU",
        "outputId": "08b2072a-44a6-49f1-df02-45f68aece851"
      },
      "execution_count": 6,
      "outputs": [
        {
          "output_type": "stream",
          "name": "stdout",
          "text": [
            "Elemento 3 do aluno1: [7, 8, 9]\n"
          ]
        }
      ]
    },
    {
      "cell_type": "code",
      "source": [
        "aluno1_alterado = (aluno1[0], \"Novo nome...\", aluno1[2])\n",
        "\n",
        "print(aluno1_alterado)"
      ],
      "metadata": {
        "colab": {
          "base_uri": "https://localhost:8080/"
        },
        "id": "BQw9yKPKBBl-",
        "outputId": "6c6a1ffd-7724-4072-e982-b11653875237"
      },
      "execution_count": 8,
      "outputs": [
        {
          "output_type": "stream",
          "name": "stdout",
          "text": [
            "('123456', 'Novo nome...', [7, 8, 9])\n"
          ]
        }
      ]
    },
    {
      "cell_type": "code",
      "source": [
        "retangulo = (50, 10)"
      ],
      "metadata": {
        "id": "DUwxfV80BKSX"
      },
      "execution_count": 9,
      "outputs": []
    },
    {
      "cell_type": "code",
      "source": [
        "print(retangulo)"
      ],
      "metadata": {
        "colab": {
          "base_uri": "https://localhost:8080/"
        },
        "id": "6oFp2oyHBfsQ",
        "outputId": "90d134c8-a17d-4df7-fc0e-039c0caab26d"
      },
      "execution_count": 10,
      "outputs": [
        {
          "output_type": "stream",
          "name": "stdout",
          "text": [
            "(50, 10)\n"
          ]
        }
      ]
    },
    {
      "cell_type": "code",
      "source": [
        "area_retangulo = retangulo[0] * retangulo[1]"
      ],
      "metadata": {
        "id": "OhXmnXFLBhV9"
      },
      "execution_count": 11,
      "outputs": []
    },
    {
      "cell_type": "code",
      "source": [
        "print(area_retangulo)"
      ],
      "metadata": {
        "colab": {
          "base_uri": "https://localhost:8080/"
        },
        "id": "VMT3ETPXBpfO",
        "outputId": "f891165d-1a3a-45fc-b870-50f834b51734"
      },
      "execution_count": 12,
      "outputs": [
        {
          "output_type": "stream",
          "name": "stdout",
          "text": [
            "500\n"
          ]
        }
      ]
    },
    {
      "cell_type": "code",
      "source": [
        "coordenada2d = (10, 5)"
      ],
      "metadata": {
        "id": "UpXs1bruBrb6"
      },
      "execution_count": 14,
      "outputs": []
    },
    {
      "cell_type": "code",
      "source": [
        "print(coordenada2d)"
      ],
      "metadata": {
        "colab": {
          "base_uri": "https://localhost:8080/"
        },
        "id": "GXNjya2tBuvi",
        "outputId": "e8209430-469d-489c-dc26-6015090fbc33"
      },
      "execution_count": 15,
      "outputs": [
        {
          "output_type": "stream",
          "name": "stdout",
          "text": [
            "(10, 5)\n"
          ]
        }
      ]
    },
    {
      "cell_type": "code",
      "source": [
        "for elemento in aluno1:\n",
        "  print(elemento)"
      ],
      "metadata": {
        "colab": {
          "base_uri": "https://localhost:8080/"
        },
        "id": "u4qJbvUKBz0X",
        "outputId": "8304ed19-e860-4d8b-cf9d-b94abd1b49bd"
      },
      "execution_count": 16,
      "outputs": [
        {
          "output_type": "stream",
          "name": "stdout",
          "text": [
            "123456\n",
            "Maria Joaquina\n",
            "[7, 8, 9]\n"
          ]
        }
      ]
    },
    {
      "cell_type": "code",
      "source": [
        "projeto1 = aluno1+aluno2"
      ],
      "metadata": {
        "id": "jOhtfapJDa1M"
      },
      "execution_count": 17,
      "outputs": []
    },
    {
      "cell_type": "code",
      "source": [
        "projeto1"
      ],
      "metadata": {
        "colab": {
          "base_uri": "https://localhost:8080/"
        },
        "id": "gRBZoEmsDfv9",
        "outputId": "bb1905d1-6ea6-436f-d233-ce3692664d5b"
      },
      "execution_count": 18,
      "outputs": [
        {
          "output_type": "execute_result",
          "data": {
            "text/plain": [
              "('123456', 'Maria Joaquina', [7, 8, 9], '2342342', 'Ana Clara', [7, 7, 7])"
            ]
          },
          "metadata": {},
          "execution_count": 18
        }
      ]
    },
    {
      "cell_type": "code",
      "source": [
        "# conjuntos \n",
        "\n",
        "letras = {'a', 'b', 'c', 'd', 'e', 'f'}\n",
        "vogais = {'a', 'e', 'i', 'o', 'u'}"
      ],
      "metadata": {
        "id": "Cqay6sPdDg11"
      },
      "execution_count": 19,
      "outputs": []
    },
    {
      "cell_type": "code",
      "source": [
        "print(f\"Letras: {letras}\")\n",
        "print(f\"Vogais: {vogais}\")"
      ],
      "metadata": {
        "colab": {
          "base_uri": "https://localhost:8080/"
        },
        "id": "GMxRU-YiECzY",
        "outputId": "e6353419-f65d-4e91-fe92-b261187f751d"
      },
      "execution_count": 20,
      "outputs": [
        {
          "output_type": "stream",
          "name": "stdout",
          "text": [
            "Letras: {'a', 'e', 'f', 'b', 'c', 'd'}\n",
            "Vogais: {'a', 'e', 'i', 'o', 'u'}\n"
          ]
        }
      ]
    },
    {
      "cell_type": "code",
      "source": [
        "letras_e_vogais = letras.union(vogais)\n",
        "print(letras_e_vogais)"
      ],
      "metadata": {
        "colab": {
          "base_uri": "https://localhost:8080/"
        },
        "id": "J_T3pNHPEGwS",
        "outputId": "f7441f95-969e-41f0-b0c3-2fd6c797e142"
      },
      "execution_count": 21,
      "outputs": [
        {
          "output_type": "stream",
          "name": "stdout",
          "text": [
            "{'a', 'e', 'i', 'o', 'f', 'b', 'c', 'd', 'u'}\n"
          ]
        }
      ]
    },
    {
      "cell_type": "code",
      "source": [
        "letras_e_vogais"
      ],
      "metadata": {
        "colab": {
          "base_uri": "https://localhost:8080/"
        },
        "id": "IErj_aPNEOK5",
        "outputId": "1010dcf3-fde5-464f-bd04-13978fed0c00"
      },
      "execution_count": 22,
      "outputs": [
        {
          "output_type": "execute_result",
          "data": {
            "text/plain": [
              "{'a', 'b', 'c', 'd', 'e', 'f', 'i', 'o', 'u'}"
            ]
          },
          "metadata": {},
          "execution_count": 22
        }
      ]
    },
    {
      "cell_type": "code",
      "source": [
        "letras_e_vogais"
      ],
      "metadata": {
        "colab": {
          "base_uri": "https://localhost:8080/"
        },
        "id": "0HZYUd6UEQNr",
        "outputId": "4d1583b6-83a2-4853-b200-d000b7e592bf"
      },
      "execution_count": 23,
      "outputs": [
        {
          "output_type": "execute_result",
          "data": {
            "text/plain": [
              "{'a', 'b', 'c', 'd', 'e', 'f', 'i', 'o', 'u'}"
            ]
          },
          "metadata": {},
          "execution_count": 23
        }
      ]
    },
    {
      "cell_type": "code",
      "source": [],
      "metadata": {
        "id": "miA-HO_QERaj"
      },
      "execution_count": null,
      "outputs": []
    }
  ]
}