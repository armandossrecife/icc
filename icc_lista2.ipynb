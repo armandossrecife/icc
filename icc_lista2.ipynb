{
  "nbformat": 4,
  "nbformat_minor": 0,
  "metadata": {
    "colab": {
      "provenance": [],
      "authorship_tag": "ABX9TyOC6tO8oIzyq8GVH611KHf9",
      "include_colab_link": true
    },
    "kernelspec": {
      "name": "python3",
      "display_name": "Python 3"
    },
    "language_info": {
      "name": "python"
    }
  },
  "cells": [
    {
      "cell_type": "markdown",
      "metadata": {
        "id": "view-in-github",
        "colab_type": "text"
      },
      "source": [
        "<a href=\"https://colab.research.google.com/github/armandossrecife/icc/blob/main/icc_lista2.ipynb\" target=\"_parent\"><img src=\"https://colab.research.google.com/assets/colab-badge.svg\" alt=\"Open In Colab\"/></a>"
      ]
    },
    {
      "cell_type": "markdown",
      "source": [
        "# 2a. Lista"
      ],
      "metadata": {
        "id": "Pe9GoLcmUCAH"
      }
    },
    {
      "cell_type": "markdown",
      "source": [
        "## Exercício 1"
      ],
      "metadata": {
        "id": "Q_fIXNhhUG8u"
      }
    },
    {
      "cell_type": "markdown",
      "source": [
        "Crie um programa em python que manipula alunos e as notas de uma disciplina.\n",
        "\n",
        "Um aluno tem uma matrícula, um nome e 4 notas.\n",
        "\n",
        "Um aluno pode ser representado por uma tupla nome e lista_de_notas.\n",
        "\n",
        "Uma disciplina pode ser representada por um dicionário de alunos, \n",
        "onde cada item tem como chave a matrícula do aluno e o valor é a tupla que representa o aluno.\n",
        "\n",
        "O programa deve ler as informações de 3 alunos e, para cada aluno, deve-se informar 4 notas.\n",
        "\n",
        "Lembre-se que as informações de aluno e suas notas devem ser salvas em um dicionário de alunos.\n",
        "\n",
        "Liste apenas os nomes dos alunos com suas respectivas notas e média (aritimética) de cada aluno.\n",
        "\n",
        "Por fim, informe a média (Aritmética) geral da disciplina."
      ],
      "metadata": {
        "id": "f9bg_X8FT8HL"
      }
    },
    {
      "cell_type": "code",
      "source": [
        "QTD_ALUNOS = 3\n",
        "QTD_NOTAS_POR_ALUNO = 4\n",
        "\n",
        "# Dicionario para armazenar as informacoes de alunos\n",
        "alunos = {}\n",
        "\n",
        "# Solicita as informações dos alunos\n",
        "for i in range(QTD_ALUNOS):\n",
        "    matricula = input(f\"Informe a matrícula do aluno {i+1}: \")\n",
        "    nome = input(f\"Informe o nome do aluno {i+1}: \")\n",
        "    notas = []\n",
        "    for j in range(QTD_NOTAS_POR_ALUNO):\n",
        "        nota = float(input(f\"Informe a nota {j+1} do aluno {i+1}: \"))\n",
        "        notas.append(nota)\n",
        "    alunos[matricula] = (nome, notas)\n",
        "\n",
        "# Imprime as informações de cada aluno e suas médias\n",
        "for matricula, aluno in alunos.items():\n",
        "    nome = aluno[0]\n",
        "    notas = aluno[1]\n",
        "    media = sum(notas) / len(notas)\n",
        "    print(f\"Aluno: {nome} | Notas: {notas} | Média: {media:.2f}\")\n",
        "\n",
        "# Calcula e imprime a média geral da disciplina\n",
        "notas_gerais = []\n",
        "for aluno in alunos.values():\n",
        "    notas_gerais += aluno[1]\n",
        "\n",
        "media_geral = sum(notas_gerais) / len(notas_gerais)\n",
        "print(f\"Média geral da disciplina: {media_geral:.2f}\")"
      ],
      "metadata": {
        "colab": {
          "base_uri": "https://localhost:8080/"
        },
        "id": "HeLhH7GOT_Q6",
        "outputId": "d915f92e-9fb2-47d5-e976-3e3935b170f6"
      },
      "execution_count": 4,
      "outputs": [
        {
          "output_type": "stream",
          "name": "stdout",
          "text": [
            "Informe a matrícula do aluno 1: 1\n",
            "Informe o nome do aluno 1: Maria Joaquina\n",
            "Informe a nota 1 do aluno 1: 10\n",
            "Informe a nota 2 do aluno 1: 10\n",
            "Informe a nota 3 do aluno 1: 10\n",
            "Informe a nota 4 do aluno 1: 10\n",
            "Informe a matrícula do aluno 2: 2\n",
            "Informe o nome do aluno 2: Ana Júlia\n",
            "Informe a nota 1 do aluno 2: 9\n",
            "Informe a nota 2 do aluno 2: 9\n",
            "Informe a nota 3 do aluno 2: 9\n",
            "Informe a nota 4 do aluno 2: 9\n",
            "Informe a matrícula do aluno 3: 3\n",
            "Informe o nome do aluno 3: Carla Dias\n",
            "Informe a nota 1 do aluno 3: 8\n",
            "Informe a nota 2 do aluno 3: 8\n",
            "Informe a nota 3 do aluno 3: 8\n",
            "Informe a nota 4 do aluno 3: 8\n",
            "Aluno: Maria Joaquina | Notas: [10.0, 10.0, 10.0, 10.0] | Média: 10.00\n",
            "Aluno: Ana Júlia | Notas: [9.0, 9.0, 9.0, 9.0] | Média: 9.00\n",
            "Aluno: Carla Dias | Notas: [8.0, 8.0, 8.0, 8.0] | Média: 8.00\n",
            "Média geral da disciplina: 9.00\n"
          ]
        }
      ]
    },
    {
      "cell_type": "code",
      "source": [],
      "metadata": {
        "id": "WNhdiAC1Yvff"
      },
      "execution_count": null,
      "outputs": []
    }
  ]
}