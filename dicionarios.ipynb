{
  "nbformat": 4,
  "nbformat_minor": 0,
  "metadata": {
    "colab": {
      "provenance": [],
      "authorship_tag": "ABX9TyPLvWoWGeuVceBgfFhhyIG0",
      "include_colab_link": true
    },
    "kernelspec": {
      "name": "python3",
      "display_name": "Python 3"
    },
    "language_info": {
      "name": "python"
    }
  },
  "cells": [
    {
      "cell_type": "markdown",
      "metadata": {
        "id": "view-in-github",
        "colab_type": "text"
      },
      "source": [
        "<a href=\"https://colab.research.google.com/github/armandossrecife/icc/blob/main/dicionarios.ipynb\" target=\"_parent\"><img src=\"https://colab.research.google.com/assets/colab-badge.svg\" alt=\"Open In Colab\"/></a>"
      ]
    },
    {
      "cell_type": "markdown",
      "source": [
        "# Introdução a Dicionários com Python"
      ],
      "metadata": {
        "id": "ipXbAbKXqexR"
      }
    },
    {
      "cell_type": "code",
      "source": [
        "clientes = {}"
      ],
      "metadata": {
        "id": "695eQ4Eqqida"
      },
      "execution_count": 1,
      "outputs": []
    },
    {
      "cell_type": "code",
      "source": [
        "#cpf e nome\n",
        "# 7777773333:'Maria'\n",
        "# 8888888222:'João'\n",
        "# 8888383833:'Ana Clara'"
      ],
      "metadata": {
        "id": "oUuNn3XQqqDy"
      },
      "execution_count": null,
      "outputs": []
    },
    {
      "cell_type": "code",
      "source": [
        "clientes = {\n",
        "    '7777773333':'Maria',\n",
        "    '8888888222':'João',\n",
        "    '8888383833':'Ana Clara'\n",
        "}"
      ],
      "metadata": {
        "id": "bCHbXmJOrjV_"
      },
      "execution_count": 2,
      "outputs": []
    },
    {
      "cell_type": "code",
      "source": [
        "len(clientes)"
      ],
      "metadata": {
        "colab": {
          "base_uri": "https://localhost:8080/"
        },
        "id": "H08VCbJYsX_o",
        "outputId": "2d091a2e-939d-4c42-9342-573b44127e32"
      },
      "execution_count": 8,
      "outputs": [
        {
          "output_type": "execute_result",
          "data": {
            "text/plain": [
              "3"
            ]
          },
          "metadata": {},
          "execution_count": 8
        }
      ]
    },
    {
      "cell_type": "code",
      "source": [
        "print(clientes)"
      ],
      "metadata": {
        "colab": {
          "base_uri": "https://localhost:8080/"
        },
        "id": "rlKwHl8zrpG_",
        "outputId": "2a09dafa-2bb8-48f6-9691-7c769b103068"
      },
      "execution_count": 3,
      "outputs": [
        {
          "output_type": "stream",
          "name": "stdout",
          "text": [
            "{'7777773333': 'Maria', '8888888222': 'João', '8888383833': 'Ana Clara'}\n"
          ]
        }
      ]
    },
    {
      "cell_type": "code",
      "source": [
        "print(clientes['7777773333'])"
      ],
      "metadata": {
        "colab": {
          "base_uri": "https://localhost:8080/"
        },
        "id": "lSvaiLZcrqE1",
        "outputId": "bae61fd9-9524-4779-960c-2a8303daa9e4"
      },
      "execution_count": 4,
      "outputs": [
        {
          "output_type": "stream",
          "name": "stdout",
          "text": [
            "Maria\n"
          ]
        }
      ]
    },
    {
      "cell_type": "code",
      "source": [
        "print(clientes['8888888222'])"
      ],
      "metadata": {
        "colab": {
          "base_uri": "https://localhost:8080/"
        },
        "id": "jkwQ2Dmir1w2",
        "outputId": "8f13af6e-2ae5-4775-8150-abcc3ae5e862"
      },
      "execution_count": 5,
      "outputs": [
        {
          "output_type": "stream",
          "name": "stdout",
          "text": [
            "João\n"
          ]
        }
      ]
    },
    {
      "cell_type": "code",
      "source": [
        "print(clientes['8888383833'])"
      ],
      "metadata": {
        "colab": {
          "base_uri": "https://localhost:8080/"
        },
        "id": "BP5vnKbSr7dh",
        "outputId": "b577162a-5abd-4868-c212-4a0cc43df592"
      },
      "execution_count": 7,
      "outputs": [
        {
          "output_type": "stream",
          "name": "stdout",
          "text": [
            "Ana Clara\n"
          ]
        }
      ]
    },
    {
      "cell_type": "code",
      "source": [
        "for item in clientes.items():\n",
        "  print(f'Conteúdo: {item}, tipo no python: {type(item)}')"
      ],
      "metadata": {
        "colab": {
          "base_uri": "https://localhost:8080/"
        },
        "id": "xH-n0C28r9jl",
        "outputId": "306dcf8c-e9ae-418a-bd49-f7c47b7ec71e"
      },
      "execution_count": 13,
      "outputs": [
        {
          "output_type": "stream",
          "name": "stdout",
          "text": [
            "Conteúdo: ('7777773333', 'Maria'), tipo no python: <class 'tuple'>\n",
            "Conteúdo: ('8888888222', 'João'), tipo no python: <class 'tuple'>\n",
            "Conteúdo: ('8888383833', 'Ana Clara'), tipo no python: <class 'tuple'>\n",
            "Conteúdo: ('798461111', 'Armando'), tipo no python: <class 'tuple'>\n"
          ]
        }
      ]
    },
    {
      "cell_type": "code",
      "source": [
        "clientes['798461111'] = 'Armando'"
      ],
      "metadata": {
        "id": "fpgXdYXjsy3H"
      },
      "execution_count": 11,
      "outputs": []
    },
    {
      "cell_type": "code",
      "source": [
        "for item in clientes.items():\n",
        "  print(item)"
      ],
      "metadata": {
        "colab": {
          "base_uri": "https://localhost:8080/"
        },
        "id": "GIlHMrbatEcc",
        "outputId": "e3c989de-4bc0-4089-abbc-862bc5d5c535"
      },
      "execution_count": 12,
      "outputs": [
        {
          "output_type": "stream",
          "name": "stdout",
          "text": [
            "('7777773333', 'Maria')\n",
            "('8888888222', 'João')\n",
            "('8888383833', 'Ana Clara')\n",
            "('798461111', 'Armando')\n"
          ]
        }
      ]
    },
    {
      "cell_type": "code",
      "source": [
        "clientes['798461111'] = 'Armando Soares Sousa'"
      ],
      "metadata": {
        "id": "qgIg8Ab_tsDI"
      },
      "execution_count": 14,
      "outputs": []
    },
    {
      "cell_type": "code",
      "source": [
        "for item in clientes.items():\n",
        "  print(item)"
      ],
      "metadata": {
        "colab": {
          "base_uri": "https://localhost:8080/"
        },
        "id": "dUoObi5ytzNt",
        "outputId": "4ec8c8bb-a2a7-4b95-eb7b-f1796e375409"
      },
      "execution_count": 15,
      "outputs": [
        {
          "output_type": "stream",
          "name": "stdout",
          "text": [
            "('7777773333', 'Maria')\n",
            "('8888888222', 'João')\n",
            "('8888383833', 'Ana Clara')\n",
            "('798461111', 'Armando Soares Sousa')\n"
          ]
        }
      ]
    },
    {
      "cell_type": "code",
      "source": [
        "clientes['8888888222'] = 'João da Silva Torres'"
      ],
      "metadata": {
        "id": "fEZ1gbkat3z6"
      },
      "execution_count": 16,
      "outputs": []
    },
    {
      "cell_type": "code",
      "source": [
        "for item in clientes.items():\n",
        "  print(item)"
      ],
      "metadata": {
        "colab": {
          "base_uri": "https://localhost:8080/"
        },
        "id": "0DeHOYTut_tA",
        "outputId": "af08e653-a80f-4b36-c577-1cfb2700324d"
      },
      "execution_count": 17,
      "outputs": [
        {
          "output_type": "stream",
          "name": "stdout",
          "text": [
            "('7777773333', 'Maria')\n",
            "('8888888222', 'João da Silva Torres')\n",
            "('8888383833', 'Ana Clara')\n",
            "('798461111', 'Armando Soares Sousa')\n"
          ]
        }
      ]
    },
    {
      "cell_type": "code",
      "source": [
        "len(clientes)"
      ],
      "metadata": {
        "colab": {
          "base_uri": "https://localhost:8080/"
        },
        "id": "29DqAPbNuJmd",
        "outputId": "15d93801-69d6-40f6-bed9-d8c38bf266fb"
      },
      "execution_count": 18,
      "outputs": [
        {
          "output_type": "execute_result",
          "data": {
            "text/plain": [
              "4"
            ]
          },
          "metadata": {},
          "execution_count": 18
        }
      ]
    },
    {
      "cell_type": "code",
      "source": [
        "clientes_vips = {}"
      ],
      "metadata": {
        "id": "UYUYnZXauDlI"
      },
      "execution_count": 19,
      "outputs": []
    },
    {
      "cell_type": "code",
      "source": [
        "print(clientes_vips)"
      ],
      "metadata": {
        "colab": {
          "base_uri": "https://localhost:8080/"
        },
        "id": "bZzLpHG3uV9N",
        "outputId": "7498c210-4d24-4e89-c010-046302af9dfd"
      },
      "execution_count": 20,
      "outputs": [
        {
          "output_type": "stream",
          "name": "stdout",
          "text": [
            "{}\n"
          ]
        }
      ]
    },
    {
      "cell_type": "code",
      "source": [
        "clientes_vips['798461111'] = 'Armando Soares Sousa'"
      ],
      "metadata": {
        "id": "bPMyDOPYuYn2"
      },
      "execution_count": 21,
      "outputs": []
    },
    {
      "cell_type": "code",
      "source": [
        "print(clientes_vips)"
      ],
      "metadata": {
        "colab": {
          "base_uri": "https://localhost:8080/"
        },
        "id": "5p-aNepWugMw",
        "outputId": "f490cf32-aa29-48ae-cc58-5b32452a0588"
      },
      "execution_count": 22,
      "outputs": [
        {
          "output_type": "stream",
          "name": "stdout",
          "text": [
            "{'798461111': 'Armando Soares Sousa'}\n"
          ]
        }
      ]
    },
    {
      "cell_type": "code",
      "source": [
        "for item in clientes_vips.items():\n",
        "  print(item)"
      ],
      "metadata": {
        "colab": {
          "base_uri": "https://localhost:8080/"
        },
        "id": "Z_Qe08p7uizK",
        "outputId": "36f9d3f2-6066-4471-ae0b-a442047c620a"
      },
      "execution_count": 23,
      "outputs": [
        {
          "output_type": "stream",
          "name": "stdout",
          "text": [
            "('798461111', 'Armando Soares Sousa')\n"
          ]
        }
      ]
    },
    {
      "cell_type": "code",
      "source": [
        "for chave, valor in clientes_vips.items():\n",
        "  print(chave, valor)"
      ],
      "metadata": {
        "colab": {
          "base_uri": "https://localhost:8080/"
        },
        "id": "l95murgourjD",
        "outputId": "3c9e1abf-2f0e-478d-ef24-5a52132280af"
      },
      "execution_count": 24,
      "outputs": [
        {
          "output_type": "stream",
          "name": "stdout",
          "text": [
            "798461111 Armando Soares Sousa\n"
          ]
        }
      ]
    },
    {
      "cell_type": "code",
      "source": [
        "for k, v in clientes.items():\n",
        "  print(k, v)"
      ],
      "metadata": {
        "colab": {
          "base_uri": "https://localhost:8080/"
        },
        "id": "A4n5U3MLvNh3",
        "outputId": "7bb5ea68-d4ad-4183-e559-f30917b7be66"
      },
      "execution_count": 27,
      "outputs": [
        {
          "output_type": "stream",
          "name": "stdout",
          "text": [
            "7777773333 Maria\n",
            "8888888222 João da Silva Torres\n",
            "8888383833 Ana Clara\n",
            "798461111 Armando Soares Sousa\n"
          ]
        }
      ]
    },
    {
      "cell_type": "code",
      "source": [
        "# Percorrendo um dicinário por seus itens\n",
        "for item in clientes.items():\n",
        "  print(item)"
      ],
      "metadata": {
        "colab": {
          "base_uri": "https://localhost:8080/"
        },
        "id": "4MBe2CzxwO25",
        "outputId": "059d8d30-2f2b-4741-9ded-479ba191a50b"
      },
      "execution_count": 31,
      "outputs": [
        {
          "output_type": "stream",
          "name": "stdout",
          "text": [
            "('7777773333', 'Maria')\n",
            "('8888888222', 'João da Silva Torres')\n",
            "('8888383833', 'Ana Clara')\n",
            "('798461111', 'Armando Soares Sousa')\n"
          ]
        }
      ]
    },
    {
      "cell_type": "code",
      "source": [
        "# Percorrendo apenas as chaves dos itens do dicionario\n",
        "for chave in clientes.keys():\n",
        "  print(chave)"
      ],
      "metadata": {
        "colab": {
          "base_uri": "https://localhost:8080/"
        },
        "id": "K68_dbMvvSWa",
        "outputId": "7c8dea2c-d40c-4eb9-d9a1-c27862ccda11"
      },
      "execution_count": 32,
      "outputs": [
        {
          "output_type": "stream",
          "name": "stdout",
          "text": [
            "7777773333\n",
            "8888888222\n",
            "8888383833\n",
            "798461111\n"
          ]
        }
      ]
    },
    {
      "cell_type": "code",
      "source": [
        "# Percorrendo apenas os valores dos itens do dicionário\n",
        "for valor in clientes.values():\n",
        "  print(valor)"
      ],
      "metadata": {
        "colab": {
          "base_uri": "https://localhost:8080/"
        },
        "id": "SF61nsVWwGFj",
        "outputId": "6d01c8ac-a5c6-4b87-87f6-c6646e235ffd"
      },
      "execution_count": 33,
      "outputs": [
        {
          "output_type": "stream",
          "name": "stdout",
          "text": [
            "Maria\n",
            "João da Silva Torres\n",
            "Ana Clara\n",
            "Armando Soares Sousa\n"
          ]
        }
      ]
    },
    {
      "cell_type": "code",
      "source": [
        "for k, v in clientes.items():\n",
        "  print(f'Chave: {k}, valor: {v}')"
      ],
      "metadata": {
        "colab": {
          "base_uri": "https://localhost:8080/"
        },
        "id": "wBKxyBoSyGSJ",
        "outputId": "beb878a5-5721-4b1a-bd6b-7c88fa8a16af"
      },
      "execution_count": 40,
      "outputs": [
        {
          "output_type": "stream",
          "name": "stdout",
          "text": [
            "Chave: 8888888222, valor: João da Silva Torres\n",
            "Chave: 8888383833, valor: Ana Clara\n",
            "Chave: 798461111, valor: Armando Soares Sousa\n"
          ]
        }
      ]
    },
    {
      "cell_type": "code",
      "source": [
        "for k, v in clientes.items():\n",
        "  print(f'Chave: {k}, valor: {v}')"
      ],
      "metadata": {
        "colab": {
          "base_uri": "https://localhost:8080/"
        },
        "id": "CkCGRUCqyP6B",
        "outputId": "32fc26a0-b013-4340-e117-d383d5a581db"
      },
      "execution_count": 42,
      "outputs": [
        {
          "output_type": "stream",
          "name": "stdout",
          "text": [
            "Chave: 8888888222, valor: João da Silva Torres\n",
            "Chave: 798461111, valor: Armando Soares Sousa\n"
          ]
        }
      ]
    },
    {
      "cell_type": "code",
      "source": [
        "clientes.pop('8888383833')"
      ],
      "metadata": {
        "colab": {
          "base_uri": "https://localhost:8080/",
          "height": 36
        },
        "id": "w0R5g3aIyJhn",
        "outputId": "4f637e87-d0ff-4b43-be93-931c7a42b681"
      },
      "execution_count": 41,
      "outputs": [
        {
          "output_type": "execute_result",
          "data": {
            "text/plain": [
              "'Ana Clara'"
            ],
            "application/vnd.google.colaboratory.intrinsic+json": {
              "type": "string"
            }
          },
          "metadata": {},
          "execution_count": 41
        }
      ]
    },
    {
      "cell_type": "code",
      "source": [
        "# percorrendo os itens do dicionario usando o unpacking de tuplas\n",
        "for k, v in clientes.items():\n",
        "  print(f'Chave: {k}, valor: {v}')"
      ],
      "metadata": {
        "colab": {
          "base_uri": "https://localhost:8080/"
        },
        "id": "VRCF5dbVwAtG",
        "outputId": "4be81fa3-ff49-498b-dc05-5f500c746304"
      },
      "execution_count": 35,
      "outputs": [
        {
          "output_type": "stream",
          "name": "stdout",
          "text": [
            "Chave: 7777773333, valor: Maria\n",
            "Chave: 8888888222, valor: João da Silva Torres\n",
            "Chave: 8888383833, valor: Ana Clara\n",
            "Chave: 798461111, valor: Armando Soares Sousa\n"
          ]
        }
      ]
    },
    {
      "cell_type": "code",
      "source": [
        "clientes.pop('7777773333')"
      ],
      "metadata": {
        "colab": {
          "base_uri": "https://localhost:8080/",
          "height": 36
        },
        "id": "NSi94NcOyBHH",
        "outputId": "50f56583-1f00-47fb-a751-9f5e27c191d9"
      },
      "execution_count": 39,
      "outputs": [
        {
          "output_type": "execute_result",
          "data": {
            "text/plain": [
              "'Maria'"
            ],
            "application/vnd.google.colaboratory.intrinsic+json": {
              "type": "string"
            }
          },
          "metadata": {},
          "execution_count": 39
        }
      ]
    },
    {
      "cell_type": "code",
      "source": [
        "clientes_vips"
      ],
      "metadata": {
        "colab": {
          "base_uri": "https://localhost:8080/"
        },
        "id": "cE-dDJjfxbHs",
        "outputId": "3d1753dc-0784-4a57-a483-38383140f39b"
      },
      "execution_count": 37,
      "outputs": [
        {
          "output_type": "execute_result",
          "data": {
            "text/plain": [
              "{'798461111': 'Armando Soares Sousa'}"
            ]
          },
          "metadata": {},
          "execution_count": 37
        }
      ]
    },
    {
      "cell_type": "code",
      "source": [
        "'23423423' in clientes_vips"
      ],
      "metadata": {
        "colab": {
          "base_uri": "https://localhost:8080/"
        },
        "id": "4qmPMPYQwtx_",
        "outputId": "3c2c65f2-704e-4ec4-c560-c89e8ce2d5b2"
      },
      "execution_count": 36,
      "outputs": [
        {
          "output_type": "execute_result",
          "data": {
            "text/plain": [
              "False"
            ]
          },
          "metadata": {},
          "execution_count": 36
        }
      ]
    },
    {
      "cell_type": "code",
      "source": [
        "'798461111' in clientes_vips"
      ],
      "metadata": {
        "colab": {
          "base_uri": "https://localhost:8080/"
        },
        "id": "i7xrNmIYxZf7",
        "outputId": "265ccedb-fc43-45c7-e841-786a17ea41f0"
      },
      "execution_count": 38,
      "outputs": [
        {
          "output_type": "execute_result",
          "data": {
            "text/plain": [
              "True"
            ]
          },
          "metadata": {},
          "execution_count": 38
        }
      ]
    }
  ]
}