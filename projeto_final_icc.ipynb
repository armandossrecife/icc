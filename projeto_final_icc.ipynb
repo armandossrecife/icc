{
  "nbformat": 4,
  "nbformat_minor": 0,
  "metadata": {
    "colab": {
      "provenance": [],
      "include_colab_link": true
    },
    "kernelspec": {
      "name": "python3",
      "display_name": "Python 3"
    },
    "language_info": {
      "name": "python"
    }
  },
  "cells": [
    {
      "cell_type": "markdown",
      "metadata": {
        "id": "view-in-github",
        "colab_type": "text"
      },
      "source": [
        "<a href=\"https://colab.research.google.com/github/armandossrecife/icc/blob/main/projeto_final_icc.ipynb\" target=\"_parent\"><img src=\"https://colab.research.google.com/assets/colab-badge.svg\" alt=\"Open In Colab\"/></a>"
      ]
    },
    {
      "cell_type": "markdown",
      "source": [
        "Este dataset possui informações da plataformas de alugueis disponíveis na Internet referente aos valores de alugueis da cidade do Rio de Janeiro em 2020. \n",
        "\n",
        "Existem alguns dados que estão faltando, com isso, é preciso fazer um processo de limpeza dos dados para poder fazer uma análise mais precisa.\n",
        "\n",
        "O link dos dados pode ser obtido a partir da seguinte URL: \n",
        "https://raw.githubusercontent.com/armandossrecife/teste/main/aluguel.csv\n"
      ],
      "metadata": {
        "id": "7wOWoskArWqG"
      }
    },
    {
      "cell_type": "markdown",
      "source": [
        "# Importe as bibliiotecas necessárias para a análise de dados\n",
        "\n",
        "- Pandas, Numpy e Matplotlib"
      ],
      "metadata": {
        "id": "3rc5d_U-zeTy"
      }
    },
    {
      "cell_type": "code",
      "source": [],
      "metadata": {
        "id": "-obv0OEe8ai1"
      },
      "execution_count": null,
      "outputs": []
    },
    {
      "cell_type": "markdown",
      "source": [
        "## Importe os dados do dataset para ser analisado"
      ],
      "metadata": {
        "id": "J8jJr2P_lMCq"
      }
    },
    {
      "cell_type": "code",
      "source": [],
      "metadata": {
        "id": "b13yaxN7lXle"
      },
      "execution_count": null,
      "outputs": []
    },
    {
      "cell_type": "markdown",
      "source": [
        "# 1. Crie um dataframe a partir do arquivo de dados\n",
        "\n",
        "Por exemplo: \n",
        "\n",
        "df_alugueis_rj = ?"
      ],
      "metadata": {
        "id": "9dom--ehrbtQ"
      }
    },
    {
      "cell_type": "code",
      "source": [],
      "metadata": {
        "id": "lkaiLvmllUp7"
      },
      "execution_count": null,
      "outputs": []
    },
    {
      "cell_type": "markdown",
      "source": [
        "# 2.Faça um relatório contendo as seguintes informações:"
      ],
      "metadata": {
        "id": "vPcIKhTcw83A"
      }
    },
    {
      "cell_type": "markdown",
      "source": [
        "## 2.1 Crie um relatório relativo as colunas e linhas do arquivo de dados."
      ],
      "metadata": {
        "id": "g8qP3SVXwp7n"
      }
    },
    {
      "cell_type": "markdown",
      "source": [
        "- Quantidade de colunas do dataframe\n",
        "\n",
        "- Quantidade de linhas do dataframe\n",
        "\n",
        "- Lista de colunas do dataframe\n",
        "\n",
        "- Lista de índices do dataframe"
      ],
      "metadata": {
        "id": "BezU5AsQw0wH"
      }
    },
    {
      "cell_type": "markdown",
      "source": [
        "## 2.2 Informações básicas e descrição dos dados numéricos"
      ],
      "metadata": {
        "id": "7-YGLYQlxAvb"
      }
    },
    {
      "cell_type": "markdown",
      "source": [
        "- Informações básicas do dataframe (df.info())\n",
        "\n",
        "- Descrição básicas dos tipos numérics do dataframe (df.desc())\n",
        "\n",
        "- Existem dados nulos no dataframe? se sim, quais são as colunas que possuem dados nulos? Para cada coluna que possui dados nulos, quantos dados nulos cada uma tem?"
      ],
      "metadata": {
        "id": "zZJ3wS7qxGOa"
      }
    },
    {
      "cell_type": "markdown",
      "source": [
        "### Tratamento das colunas com valores NaN (Nulos)\n",
        "\n",
        "https://pandas.pydata.org/docs/reference/api/pandas.isnull.html\n",
        "https://pandas.pydata.org/docs/reference/api/pandas.notna.html#pandas.notna"
      ],
      "metadata": {
        "id": "V1gYvrQP0Fs4"
      }
    },
    {
      "cell_type": "code",
      "source": [
        "# Checa os valores \"ausentes\""
      ],
      "metadata": {
        "id": "6qxTgxruyc1Q"
      },
      "execution_count": null,
      "outputs": []
    },
    {
      "cell_type": "markdown",
      "source": [
        "### Remova os registros (linhas) que possuam dados nulos."
      ],
      "metadata": {
        "id": "yZLK94co1Bgu"
      }
    },
    {
      "cell_type": "code",
      "source": [],
      "metadata": {
        "id": "RbUrLpAm0Zwh"
      },
      "execution_count": null,
      "outputs": []
    },
    {
      "cell_type": "markdown",
      "source": [
        "#3. Quais os valores máximo, mínimo e a média dos valores de alugueis?\n"
      ],
      "metadata": {
        "id": "919piMTv3g_S"
      }
    },
    {
      "cell_type": "markdown",
      "source": [
        "##3.1 Quais são os valores mínimo e máximo dos alugueis válidos (dados não nulos)?"
      ],
      "metadata": {
        "id": "GeXaajsL4VVI"
      }
    },
    {
      "cell_type": "code",
      "source": [],
      "metadata": {
        "id": "2REJmFEg5IPF"
      },
      "execution_count": null,
      "outputs": []
    },
    {
      "cell_type": "markdown",
      "source": [
        "##3.2 Gere um boxplot dos valores dos alugueis. Existem valores que deveriam ser desconsiderados? Por que?"
      ],
      "metadata": {
        "id": "o1B8kUbEyAv4"
      }
    },
    {
      "cell_type": "code",
      "source": [],
      "metadata": {
        "id": "IWKhz0g2_YvP"
      },
      "execution_count": null,
      "outputs": []
    },
    {
      "cell_type": "markdown",
      "source": [
        "##3.3 O histograma pode ajudar na análise dos valores de alugueis para identificar valores muito além da média? Justifique"
      ],
      "metadata": {
        "id": "SpDbu6Fg_mKa"
      }
    },
    {
      "cell_type": "markdown",
      "source": [
        "#4. Quais são os tipos de imóveis disponíveis neste arquivo de dados?"
      ],
      "metadata": {
        "id": "cYrpt17l3mmJ"
      }
    },
    {
      "cell_type": "markdown",
      "source": [
        "sugestão: unique()\n",
        "\n",
        "https://pandas.pydata.org/docs/reference/api/pandas.unique.html"
      ],
      "metadata": {
        "id": "6eVPAe1p0zd7"
      }
    },
    {
      "cell_type": "code",
      "source": [],
      "metadata": {
        "id": "nKqmRgo1oZv5"
      },
      "execution_count": null,
      "outputs": []
    },
    {
      "cell_type": "markdown",
      "source": [
        "#5. Quais são os bairros disponíveis neste arquivo de dados?"
      ],
      "metadata": {
        "id": "ao8IOYIK4DjB"
      }
    },
    {
      "cell_type": "code",
      "source": [],
      "metadata": {
        "id": "PbF3ZBWQ3zUg"
      },
      "execution_count": null,
      "outputs": []
    },
    {
      "cell_type": "markdown",
      "source": [
        "#6. Gere um novo dataframe contendo apenas os registros to dipo Apartamento."
      ],
      "metadata": {
        "id": "ecDNUBcg4qk0"
      }
    },
    {
      "cell_type": "code",
      "source": [],
      "metadata": {
        "id": "8hOyUibr6QAW"
      },
      "execution_count": null,
      "outputs": []
    },
    {
      "cell_type": "markdown",
      "source": [
        "##6.1 Qual o valor médio, min e max dos registros do tipo apartamento?"
      ],
      "metadata": {
        "id": "SubIQNM449HO"
      }
    },
    {
      "cell_type": "code",
      "source": [],
      "metadata": {
        "id": "TZEi-2Xd54BN"
      },
      "execution_count": null,
      "outputs": []
    },
    {
      "cell_type": "markdown",
      "source": [
        "##6.2 Gere um boxplot dos valores de alugueis dos tipos \"Apartamento\". Existem valores que podem ser desconsiderados? Por que?"
      ],
      "metadata": {
        "id": "bxdQF8A6yhvB"
      }
    },
    {
      "cell_type": "code",
      "source": [],
      "metadata": {
        "id": "S_am_iDq_6Cn"
      },
      "execution_count": null,
      "outputs": []
    },
    {
      "cell_type": "markdown",
      "source": [
        "## 6.3. Crie um gráfico para mostrar a distribuição de frequência dos valores dos alugueis dos apartamentos. Sugestão: pode criar 5 classes de valores para a distribuição de frequência."
      ],
      "metadata": {
        "id": "74ppiBiazEdx"
      }
    },
    {
      "cell_type": "code",
      "source": [],
      "metadata": {
        "id": "kivwTglKzV5H"
      },
      "execution_count": null,
      "outputs": []
    }
  ]
}