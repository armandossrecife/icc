{
  "nbformat": 4,
  "nbformat_minor": 0,
  "metadata": {
    "interpreter": {
      "hash": "58bc13ec4dd135858b8220102d0ad3358f57eb64d131366ec25c4d4365eacf63"
    },
    "kernelspec": {
      "display_name": "Python 3.6.3 64-bit",
      "name": "python3"
    },
    "language_info": {
      "codemirror_mode": {
        "name": "ipython",
        "version": 3
      },
      "file_extension": ".py",
      "mimetype": "text/x-python",
      "name": "python",
      "nbconvert_exporter": "python",
      "pygments_lexer": "ipython3",
      "version": "3.6.3"
    },
    "orig_nbformat": 4,
    "colab": {
      "provenance": [],
      "include_colab_link": true
    }
  },
  "cells": [
    {
      "cell_type": "markdown",
      "metadata": {
        "id": "view-in-github",
        "colab_type": "text"
      },
      "source": [
        "<a href=\"https://colab.research.google.com/github/armandossrecife/icc/blob/main/IntroducaoPOOcomPython.ipynb\" target=\"_parent\"><img src=\"https://colab.research.google.com/assets/colab-badge.svg\" alt=\"Open In Colab\"/></a>"
      ]
    },
    {
      "cell_type": "markdown",
      "metadata": {
        "id": "0j7wFxlhJd0j"
      },
      "source": [
        "# Fundamentos de Programação Orientada a Objetos com Python"
      ]
    },
    {
      "cell_type": "markdown",
      "metadata": {
        "id": "vLP_so5FJd0o"
      },
      "source": [
        "## POO com Python\n",
        "\n",
        "Paradigma que trabalha baseado em objetos. Os objetos podem conter dados e operações.\n",
        "\n",
        "Um objeto pode conter propriedades (atributos) ou operações (métodos)"
      ]
    },
    {
      "cell_type": "markdown",
      "metadata": {
        "id": "fBWYIvDAJd0p"
      },
      "source": [
        "https://docs.python.org/3/tutorial/classes.html"
      ]
    },
    {
      "cell_type": "markdown",
      "metadata": {
        "id": "z8LnL6scJd0q"
      },
      "source": [
        "### Definição de classe em Python"
      ]
    },
    {
      "cell_type": "markdown",
      "source": [
        "Criando uma classe\n",
        "\n",
        "Definindo uma classe com um construtor init inicializando abributos\n",
        "\n",
        "Obs: Neste caso, ao instanciar uma classe é preciso informar os valores dos atributos\n",
        "\n",
        "O parâmetro **self** é uma referência à instância atual da classe e é usado para acessar variáveis que pertencem à classe."
      ],
      "metadata": {
        "id": "3isDHOr9_tLs"
      }
    },
    {
      "cell_type": "code",
      "source": [
        "class Pessoa:\n",
        "  # metodo que define as propriedades de pessoa\n",
        "  def __init__(self, nome, idade, profissao):\n",
        "    self.nome = nome \n",
        "    self.idade = idade\n",
        "    self.profissao = profissao\n",
        "\n",
        "# Instancia pessoa1 a partir da classe Pessoa, passando os dados de Maria\n",
        "pessoa1 = Pessoa('Maria', 27, 'Arquiteta')\n",
        "\n",
        "# Instancia pessoa2 a partir da classe Pessoa, passando os dados de Ana\n",
        "pessoa2 = Pessoa('Ana', 23, 'Contadora')"
      ],
      "metadata": {
        "id": "UCpcF3Prf_Ta"
      },
      "execution_count": 16,
      "outputs": []
    },
    {
      "cell_type": "markdown",
      "source": [
        "Criando uma classe de forma simplificada\n",
        "\n",
        "Definindo atributos de uma classe\n",
        "\n",
        "Obs: os atributos de uma classe, por padrão, devem ser inicializados."
      ],
      "metadata": {
        "id": "Ajd41SSt_6NU"
      }
    },
    {
      "cell_type": "code",
      "source": [
        "# A classe Pessoa tambem pode ser criada da forma simplificada abaixo:\n",
        "# mas as propriedades precisam ser inicializadas\n",
        "class Pessoa:\n",
        "  nome=''\n",
        "  idade=''\n",
        "  profissao=''\n",
        "\n",
        "# Instancia pessoa1 a partir da classe Pessoa, passando os dados de Maria\n",
        "pessoa1 = Pessoa()\n",
        "pessoa1.nome = 'Maria'\n",
        "pessoa1.idade = 27\n",
        "pessoa1.profissao = 'Arquiteta'"
      ],
      "metadata": {
        "id": "V5N0A-FS-UWB"
      },
      "execution_count": 17,
      "outputs": []
    },
    {
      "cell_type": "markdown",
      "source": [
        "A forma mais correta e usar o metodo __init__() e criar metodos para acessar as propriedades"
      ],
      "metadata": {
        "id": "P2LZ5pqt__54"
      }
    },
    {
      "cell_type": "code",
      "source": [
        "# A forma mais correta e usar o metodo __init__() e criar metodos para acessar as propriedades\n",
        "class Pessoa:\n",
        "  # metodo que define as propriedades de pessoa\n",
        "  def __init__(self, nome, idade, profissao):\n",
        "    self.nome = nome \n",
        "    self.idade = idade\n",
        "    self.profissao = profissao\n",
        "  # metodo que pega o nome da pessoa\n",
        "  def get_nome(self):\n",
        "    return self.nome\n",
        "  # metodo que pega a idade da pessoa\n",
        "  def get_idade(self):\n",
        "    return self.idade\n",
        "  # metodo que pega a profissa da pessoa\n",
        "  def get_profissao(self):\n",
        "    return self.profissao\n",
        "\n",
        "pessoa1 = Pessoa('Maria', 27, 'Arquiteta')\n",
        "pessoa2 = Pessoa('Ana', 23, 'Contadora')\n",
        "\n",
        "# Mostra os dados do objeto pessoa1\n",
        "print(f'Nome: {pessoa1.get_nome()}, profissão: {pessoa1.get_profissao()}')\n",
        "\n",
        "# Mostra os dados do objeto pessoa2\n",
        "print(f'Nome: {pessoa2.get_nome()}, profissão: {pessoa2.get_profissao()}')"
      ],
      "metadata": {
        "colab": {
          "base_uri": "https://localhost:8080/"
        },
        "id": "zN7g4-xHhqOV",
        "outputId": "ca972d9a-cf37-4a40-c3cc-9c94619c3b08"
      },
      "execution_count": 18,
      "outputs": [
        {
          "output_type": "stream",
          "name": "stdout",
          "text": [
            "Nome: Maria, profissão: Arquiteta\n",
            "Nome: Ana, profissão: Contadora\n"
          ]
        }
      ]
    },
    {
      "cell_type": "markdown",
      "source": [
        "Criando a classe Retangulo"
      ],
      "metadata": {
        "id": "QExzmLq-AIP7"
      }
    },
    {
      "cell_type": "code",
      "source": [
        "class Retangulo:\n",
        "    # metodo que inicializa as propriedades de retangulo\n",
        "    def __init__(self, base, altura):\n",
        "        self.base = base\n",
        "        self.altura = altura\n",
        "\n",
        "    # metodo que faz o calculo da area\n",
        "    def area(self):\n",
        "        return self.base * self.altura\n",
        "\n",
        "    # metodo que faz o calculo do perimetro\n",
        "    def perimetro(self):\n",
        "        return 2 * (self.base + self.altura)"
      ],
      "metadata": {
        "id": "Z6_IJoAPkJkk"
      },
      "execution_count": 19,
      "outputs": []
    },
    {
      "cell_type": "code",
      "source": [
        "retangulo1 = Retangulo(50, 10)\n",
        "retangulo2 = Retangulo(25, 15)\n",
        "\n",
        "print(f'Área do retângulo1: {retangulo1.area()} m2, perímetro: {retangulo1.perimetro()} metros.')\n",
        "print(f'Área do retângulo2: {retangulo2.area()} m2, perímetro: {retangulo2.perimetro()} metros')"
      ],
      "metadata": {
        "colab": {
          "base_uri": "https://localhost:8080/"
        },
        "id": "u9JMvOtOlI4l",
        "outputId": "292ce907-7e99-495a-bddb-767542b4d39d"
      },
      "execution_count": 20,
      "outputs": [
        {
          "output_type": "stream",
          "name": "stdout",
          "text": [
            "Área do retângulo1: 500 m2, perímetro: 120 metros.\n",
            "Área do retângulo2: 375 m2, perímetro: 80 metros\n"
          ]
        }
      ]
    },
    {
      "cell_type": "markdown",
      "source": [
        "Criando a classe Aluno"
      ],
      "metadata": {
        "id": "AROYRxVDAMPu"
      }
    },
    {
      "cell_type": "code",
      "source": [
        "class Aluno:\n",
        "  def __init__(self, matricula, nome, notas):\n",
        "    self.matricula = matricula\n",
        "    self.nome = nome\n",
        "    self.notas = notas\n",
        "\n",
        "  def calcula_media(self):\n",
        "    soma_notas = sum(self.notas)\n",
        "    qtd_notas = len(self.notas)\n",
        "    media = soma_notas/qtd_notas\n",
        "    return media"
      ],
      "metadata": {
        "id": "CuvhJpLgp_8m"
      },
      "execution_count": 21,
      "outputs": []
    },
    {
      "cell_type": "code",
      "source": [
        "# Cria uma lista para armazenar alunos\n",
        "lista_alunos = []\n",
        "\n",
        "# Instancia o aluno1\n",
        "aluno1 = Aluno('123456', 'Carla', [10,9,8.5])\n",
        "# Instancia o aluno2\n",
        "aluno2 = Aluno('3333456', 'Francisco', [9,7.5,6.5])\n",
        "# Instancia o aluno3\n",
        "aluno3 = Aluno('33356444', 'José', [9,9,9])\n",
        "\n",
        "# insere os 3 alunos na lista de alunos\n",
        "lista_alunos.append(aluno1)\n",
        "lista_alunos.append(aluno2)\n",
        "lista_alunos.append(aluno3)\n",
        "\n",
        "# Mostra os dados de todos os alunos salvos na lista\n",
        "for elemento in lista_alunos:\n",
        "  print(f'Matrícula: {elemento.matricula}, Nome: {elemento.nome}, Notas: {elemento.notas}, Média: {elemento.calcula_media()}')"
      ],
      "metadata": {
        "colab": {
          "base_uri": "https://localhost:8080/"
        },
        "id": "XYZPRE1Rqzis",
        "outputId": "293f147a-c636-4901-d308-ea9f603f92aa"
      },
      "execution_count": 22,
      "outputs": [
        {
          "output_type": "stream",
          "name": "stdout",
          "text": [
            "Matrícula: 123456, Nome: Carla, Notas: [10, 9, 8.5], Média: 9.166666666666666\n",
            "Matrícula: 3333456, Nome: Francisco, Notas: [9, 7.5, 6.5], Média: 7.666666666666667\n",
            "Matrícula: 33356444, Nome: José, Notas: [9, 9, 9], Média: 9.0\n"
          ]
        }
      ]
    },
    {
      "cell_type": "markdown",
      "source": [
        "Método especial __str__\n",
        "\n",
        "Obs: Mostra os dados definidos no método ao imprimir(exibir) a referência do objeto\n",
        "\n",
        "O método __str__ no python representa os objetos de classe como uma string - ele pode ser usado para classes."
      ],
      "metadata": {
        "id": "ILuT_UaXBglT"
      }
    },
    {
      "cell_type": "code",
      "source": [
        "class Aluno:\n",
        "  def __init__(self, matricula, nome, notas):\n",
        "    self.matricula = matricula\n",
        "    self.nome = nome\n",
        "    self.notas = notas\n",
        "\n",
        "  def calcula_media(self):\n",
        "    soma_notas = sum(self.notas)\n",
        "    qtd_notas = len(self.notas)\n",
        "    media = soma_notas/qtd_notas\n",
        "    return media\n",
        "\n",
        "  def __str__(self):\n",
        "    return '(' + self.matricula + ',' + self.nome + ')'"
      ],
      "metadata": {
        "id": "l6W2LV_XATo3"
      },
      "execution_count": 23,
      "outputs": []
    },
    {
      "cell_type": "code",
      "source": [
        "# Instancia o aluno1\n",
        "aluno1 = Aluno('123456', 'Carla', [10,9,8.5])\n",
        "\n",
        "print(aluno1)"
      ],
      "metadata": {
        "colab": {
          "base_uri": "https://localhost:8080/"
        },
        "id": "qnMn-5NBBASK",
        "outputId": "ec85116d-0f54-4c85-c498-22b67f6b47f3"
      },
      "execution_count": 24,
      "outputs": [
        {
          "output_type": "stream",
          "name": "stdout",
          "text": [
            "(123456,Carla)\n"
          ]
        }
      ]
    }
  ]
}