{
  "nbformat": 4,
  "nbformat_minor": 0,
  "metadata": {
    "colab": {
      "provenance": [],
      "authorship_tag": "ABX9TyNmigcDcMPFfySASPcOfXRH",
      "include_colab_link": true
    },
    "kernelspec": {
      "name": "python3",
      "display_name": "Python 3"
    },
    "language_info": {
      "name": "python"
    }
  },
  "cells": [
    {
      "cell_type": "markdown",
      "metadata": {
        "id": "view-in-github",
        "colab_type": "text"
      },
      "source": [
        "<a href=\"https://colab.research.google.com/github/armandossrecife/icc/blob/main/Guia_exercicio1_listas.ipynb\" target=\"_parent\"><img src=\"https://colab.research.google.com/assets/colab-badge.svg\" alt=\"Open In Colab\"/></a>"
      ]
    },
    {
      "cell_type": "markdown",
      "source": [
        "Exercício sobre Listas:\n",
        "\n",
        "Faça um programa em Python que salve 3 alunos em duas listas de disciplinas. Mostre a lista de nomes dos alunos em cada disciplina. Calcule a média aritmética de cada aluno e, para cada disciplina, mostre a lista de alunos com suas respectivas médias. Ao final, para cada disciplina, mostre o aluno que obteve a maior média final. \n",
        "\n",
        "Exemplo de detalhamento do exercício: \n",
        "\n",
        "1. Crie uma lista para armazenar nomes de alunos matriculados na disciplina ICC, logo depois crie uma nova lista para armazenar nomes de alunos matriculados na disciplina Cálculo I. \n",
        "\n",
        "2. Insira 3 alunos na lista de ICC e depois 3 alunos na lista de Cálculo I.\n",
        "\n",
        "3. Cada aluno matriculado possui 3 notas. \n",
        "\n",
        "4. Para cada aluno matriculado nas disciplinas de ICC e Cálculo I, insira 3 notas. \n",
        "\n",
        "5. Mostre a lista de nomes dos alunos da disciplina ICC. \n",
        "\n",
        "6. Mostre a lista de nomes dos alunos da disciplina Cálculo I. \n",
        "\n",
        "7. Faça o cálculo da média aritmética de cada aluno e, para cada disciplina, mostre a lista de alunos com suas respectivas médias. \n",
        "\n",
        "8. Para cada disciplina, mostre o aluno que obteve a maior média final. "
      ],
      "metadata": {
        "id": "4rC4xD-VzY-u"
      }
    },
    {
      "cell_type": "markdown",
      "source": [
        "1. Crie uma lista para armazenar nomes de alunos matriculados na disciplina ICC, logo depois crie uma nova lista para armazenar nomes de alunos matriculados na disciplina Cálculo I."
      ],
      "metadata": {
        "id": "9x-bMlRIE1-d"
      }
    },
    {
      "cell_type": "code",
      "source": [
        "ICC = []\n",
        "CalculoI = []"
      ],
      "metadata": {
        "id": "qQ7toxRJE0fW"
      },
      "execution_count": null,
      "outputs": []
    },
    {
      "cell_type": "markdown",
      "source": [
        "2. Insira 3 alunos na lista de ICC e depois 3 alunos na lista de Cálculo I."
      ],
      "metadata": {
        "id": "McYzuGHgE8lt"
      }
    },
    {
      "cell_type": "code",
      "source": [],
      "metadata": {
        "id": "e96jzWjlE8Af"
      },
      "execution_count": null,
      "outputs": []
    },
    {
      "cell_type": "markdown",
      "source": [
        "3. Cada aluno matriculado possui 3 notas. \n",
        "\n",
        "4. Para cada aluno matriculado nas disciplinas de ICC e Cálculo I, insira 3 notas. "
      ],
      "metadata": {
        "id": "qGA1Ft_rFAz2"
      }
    },
    {
      "cell_type": "code",
      "execution_count": null,
      "metadata": {
        "id": "yNfLWJojt6vz"
      },
      "outputs": [],
      "source": []
    },
    {
      "cell_type": "markdown",
      "source": [
        "5. Mostre a lista de nomes dos alunos da disciplina ICC.\n",
        "\n",
        "6. Mostre a lista de nomes dos alunos da disciplina Cálculo I."
      ],
      "metadata": {
        "id": "Hmm1uN6dFNuv"
      }
    },
    {
      "cell_type": "code",
      "source": [],
      "metadata": {
        "id": "-q5KGYehFHfe"
      },
      "execution_count": null,
      "outputs": []
    },
    {
      "cell_type": "markdown",
      "source": [
        "7. Faça o cálculo da média aritmética de cada aluno e, para cada disciplina, mostre a lista de alunos com suas respectivas médias."
      ],
      "metadata": {
        "id": "XHaagV0gFS0C"
      }
    },
    {
      "cell_type": "code",
      "source": [],
      "metadata": {
        "id": "oJx1Dj2bxTfl"
      },
      "execution_count": null,
      "outputs": []
    },
    {
      "cell_type": "markdown",
      "source": [
        "8. Para cada disciplina, mostre o aluno que obteve a maior média final."
      ],
      "metadata": {
        "id": "0EbIZMy7FWP5"
      }
    },
    {
      "cell_type": "code",
      "source": [],
      "metadata": {
        "id": "unJKorzrvBzf"
      },
      "execution_count": null,
      "outputs": []
    }
  ]
}