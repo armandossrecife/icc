{
  "nbformat": 4,
  "nbformat_minor": 0,
  "metadata": {
    "colab": {
      "provenance": [],
      "authorship_tag": "ABX9TyNYqrCKrMyilQywIlctuq6m",
      "include_colab_link": true
    },
    "kernelspec": {
      "name": "python3",
      "display_name": "Python 3"
    },
    "language_info": {
      "name": "python"
    }
  },
  "cells": [
    {
      "cell_type": "markdown",
      "metadata": {
        "id": "view-in-github",
        "colab_type": "text"
      },
      "source": [
        "<a href=\"https://colab.research.google.com/github/armandossrecife/icc/blob/main/funcoes.ipynb\" target=\"_parent\"><img src=\"https://colab.research.google.com/assets/colab-badge.svg\" alt=\"Open In Colab\"/></a>"
      ]
    },
    {
      "cell_type": "code",
      "execution_count": 1,
      "metadata": {
        "colab": {
          "base_uri": "https://localhost:8080/"
        },
        "id": "TgRCZ73jR7od",
        "outputId": "c3e16edd-5f2e-48ad-e527-f9633e6ca6e3"
      },
      "outputs": [
        {
          "output_type": "stream",
          "name": "stdout",
          "text": [
            "teste...\n"
          ]
        }
      ],
      "source": [
        "print('teste...')"
      ]
    },
    {
      "cell_type": "code",
      "source": [
        "print('Armando')\n",
        "\n",
        "idade = 20\n",
        "\n",
        "if idade > 18:\n",
        "  print('A pessoa é maior de idade')\n",
        "else:\n",
        "  print('A pessoa é menor de idade')\n",
        "\n",
        "print('outra instrução')\n",
        "print('outra instrução')\n",
        "print('outra instrução')\n",
        "print('outra instrução')\n",
        "print('outra instrução')\n"
      ],
      "metadata": {
        "colab": {
          "base_uri": "https://localhost:8080/"
        },
        "id": "pVxAA4ZoR-qm",
        "outputId": "c07a1f4c-1be6-4e3d-ceff-a1deb83516f7"
      },
      "execution_count": 2,
      "outputs": [
        {
          "output_type": "stream",
          "name": "stdout",
          "text": [
            "Armando\n",
            "A pessoa é maior de idade\n",
            "outra instrução\n",
            "outra instrução\n",
            "outra instrução\n",
            "outra instrução\n",
            "outra instrução\n"
          ]
        }
      ]
    },
    {
      "cell_type": "code",
      "source": [
        "def f(x):\n",
        "  return x+1"
      ],
      "metadata": {
        "id": "HXVIrFZBTrwU"
      },
      "execution_count": 3,
      "outputs": []
    },
    {
      "cell_type": "code",
      "source": [
        "print(f(1))"
      ],
      "metadata": {
        "colab": {
          "base_uri": "https://localhost:8080/"
        },
        "id": "d5hNzEhYTzLo",
        "outputId": "cfcccd6d-4302-4dd3-a855-ed2b7cf5d167"
      },
      "execution_count": 4,
      "outputs": [
        {
          "output_type": "stream",
          "name": "stdout",
          "text": [
            "2\n"
          ]
        }
      ]
    },
    {
      "cell_type": "code",
      "source": [
        "def minha_funcao(x,z):\n",
        "  x = 2*z;\n",
        "  return x"
      ],
      "metadata": {
        "id": "pyu8nLbJT1ij"
      },
      "execution_count": 5,
      "outputs": []
    },
    {
      "cell_type": "code",
      "source": [
        "print(minha_funcao(1,1))"
      ],
      "metadata": {
        "colab": {
          "base_uri": "https://localhost:8080/"
        },
        "id": "hAGE69q9UAYg",
        "outputId": "fef60e77-980d-41e0-8487-8a9657b873fd"
      },
      "execution_count": 6,
      "outputs": [
        {
          "output_type": "stream",
          "name": "stdout",
          "text": [
            "2\n"
          ]
        }
      ]
    },
    {
      "cell_type": "code",
      "source": [
        "def repete_palavra(nome):\n",
        "  print(nome)\n",
        "  print(nome)\n",
        "  print(nome)"
      ],
      "metadata": {
        "id": "hPJ_NRsiUC4W"
      },
      "execution_count": 7,
      "outputs": []
    },
    {
      "cell_type": "code",
      "source": [
        "print(repete_palavra('Armando'))"
      ],
      "metadata": {
        "colab": {
          "base_uri": "https://localhost:8080/"
        },
        "id": "0e4pYpLuURkb",
        "outputId": "0588a5cc-b851-477a-9ad1-c6aa5ab005f8"
      },
      "execution_count": 8,
      "outputs": [
        {
          "output_type": "stream",
          "name": "stdout",
          "text": [
            "Armando\n",
            "Armando\n",
            "Armando\n",
            "None\n"
          ]
        }
      ]
    },
    {
      "cell_type": "code",
      "source": [
        "repete_palavra('Armando')"
      ],
      "metadata": {
        "colab": {
          "base_uri": "https://localhost:8080/"
        },
        "id": "QOd-Gd--UZjG",
        "outputId": "506a258f-6e0b-4288-e33b-4a8bc9e5ce79"
      },
      "execution_count": 9,
      "outputs": [
        {
          "output_type": "stream",
          "name": "stdout",
          "text": [
            "Armando\n",
            "Armando\n",
            "Armando\n"
          ]
        }
      ]
    },
    {
      "cell_type": "code",
      "source": [
        "def bem_vindo():\n",
        "  print('Bem vindo ao Python')\n",
        "  print('O python é uma linguagem de programação muito fácil!')"
      ],
      "metadata": {
        "id": "1Asas7xxUmbO"
      },
      "execution_count": 10,
      "outputs": []
    },
    {
      "cell_type": "code",
      "source": [
        "bem_vindo()"
      ],
      "metadata": {
        "colab": {
          "base_uri": "https://localhost:8080/"
        },
        "id": "DppipvnMUWE7",
        "outputId": "2810f38c-bbf0-48c3-94ee-b4593e7d6f4b"
      },
      "execution_count": 11,
      "outputs": [
        {
          "output_type": "stream",
          "name": "stdout",
          "text": [
            "Bem vindo ao Python\n",
            "O python é uma linguagem de programação muito fácil!\n"
          ]
        }
      ]
    },
    {
      "cell_type": "code",
      "source": [
        "for i in range(5):\n",
        "  bem_vindo()"
      ],
      "metadata": {
        "colab": {
          "base_uri": "https://localhost:8080/"
        },
        "id": "RrTxGDdSU05Z",
        "outputId": "980fd6dd-a578-4abb-e036-d7926536c599"
      },
      "execution_count": 12,
      "outputs": [
        {
          "output_type": "stream",
          "name": "stdout",
          "text": [
            "Bem vindo ao Python\n",
            "O python é uma linguagem de programação muito fácil!\n",
            "Bem vindo ao Python\n",
            "O python é uma linguagem de programação muito fácil!\n",
            "Bem vindo ao Python\n",
            "O python é uma linguagem de programação muito fácil!\n",
            "Bem vindo ao Python\n",
            "O python é uma linguagem de programação muito fácil!\n",
            "Bem vindo ao Python\n",
            "O python é uma linguagem de programação muito fácil!\n"
          ]
        }
      ]
    },
    {
      "cell_type": "code",
      "source": [
        "def nome_completo(primeiro, meio, ultimo):\n",
        "  nome = primeiro + ' ' + meio + ' ' + ultimo\n",
        "  nome = nome.upper()\n",
        "  print(nome)"
      ],
      "metadata": {
        "id": "D3S8_OwdU7Bv"
      },
      "execution_count": 13,
      "outputs": []
    },
    {
      "cell_type": "code",
      "source": [
        "nome_completo('Armando', 'Soares', 'Sousa')"
      ],
      "metadata": {
        "colab": {
          "base_uri": "https://localhost:8080/"
        },
        "id": "d8o898YjVm8y",
        "outputId": "c9a967aa-a35f-4afb-e2ca-88b89bceaaa1"
      },
      "execution_count": 14,
      "outputs": [
        {
          "output_type": "stream",
          "name": "stdout",
          "text": [
            "ARMANDO SOARES SOUSA\n"
          ]
        }
      ]
    },
    {
      "cell_type": "code",
      "source": [
        "def soma_inteiros(lista_inteiros):\n",
        "  soma = 0\n",
        "  for item in lista_inteiros:\n",
        "    soma = soma + item\n",
        "  return soma"
      ],
      "metadata": {
        "id": "9AZcZaFQVq7F"
      },
      "execution_count": 15,
      "outputs": []
    },
    {
      "cell_type": "code",
      "source": [
        "soma_inteiros([1,3,7,9])"
      ],
      "metadata": {
        "colab": {
          "base_uri": "https://localhost:8080/"
        },
        "id": "AF4iqoxTWahM",
        "outputId": "c0414eca-d0d3-46aa-d0fa-8962563f4d9a"
      },
      "execution_count": 16,
      "outputs": [
        {
          "output_type": "execute_result",
          "data": {
            "text/plain": [
              "20"
            ]
          },
          "metadata": {},
          "execution_count": 16
        }
      ]
    },
    {
      "cell_type": "code",
      "source": [
        "def bem_vindo_usuario(nome='Usuário'):  \n",
        "  print(f'Caro {nome} seja bem vindo ao meu programa')\n",
        "  print('O meu programa é muito bom!')"
      ],
      "metadata": {
        "id": "qH9iomgHWfsX"
      },
      "execution_count": 19,
      "outputs": []
    },
    {
      "cell_type": "code",
      "source": [
        "login_usuario = 'armando'\n",
        "bem_vindo_usuario(login_usuario)"
      ],
      "metadata": {
        "colab": {
          "base_uri": "https://localhost:8080/"
        },
        "id": "ozI4tzkoW5NQ",
        "outputId": "279648ac-1c4e-4c35-8867-0d2eb812f3b5"
      },
      "execution_count": 18,
      "outputs": [
        {
          "output_type": "stream",
          "name": "stdout",
          "text": [
            "Caro armando seja bem vindo ao meu programa\n",
            "O meu programa é muito bom!\n"
          ]
        }
      ]
    },
    {
      "cell_type": "code",
      "source": [
        "bem_vindo_usuario()"
      ],
      "metadata": {
        "colab": {
          "base_uri": "https://localhost:8080/"
        },
        "id": "HatzD_tOXEX2",
        "outputId": "5d10f187-dce3-4be2-c376-a28a22a98aa8"
      },
      "execution_count": 20,
      "outputs": [
        {
          "output_type": "stream",
          "name": "stdout",
          "text": [
            "Caro Usuário seja bem vindo ao meu programa\n",
            "O meu programa é muito bom!\n"
          ]
        }
      ]
    },
    {
      "cell_type": "code",
      "source": [
        "def area_retangulo(base, altura):\n",
        "  area = base*altura\n",
        "  return area"
      ],
      "metadata": {
        "id": "6qwSC1WSXRlO"
      },
      "execution_count": 21,
      "outputs": []
    },
    {
      "cell_type": "code",
      "source": [
        "area_retangulo(5,10)"
      ],
      "metadata": {
        "colab": {
          "base_uri": "https://localhost:8080/"
        },
        "id": "XuFX9qTmXoTw",
        "outputId": "2b1188f3-5fec-458b-e148-6537e10d3189"
      },
      "execution_count": 22,
      "outputs": [
        {
          "output_type": "execute_result",
          "data": {
            "text/plain": [
              "50"
            ]
          },
          "metadata": {},
          "execution_count": 22
        }
      ]
    },
    {
      "cell_type": "code",
      "source": [
        "area_retangulo(altura=5, base=10)"
      ],
      "metadata": {
        "colab": {
          "base_uri": "https://localhost:8080/"
        },
        "id": "0kl8b9fyXq8R",
        "outputId": "39c62236-bae6-44d0-a150-667e31788b14"
      },
      "execution_count": 23,
      "outputs": [
        {
          "output_type": "execute_result",
          "data": {
            "text/plain": [
              "50"
            ]
          },
          "metadata": {},
          "execution_count": 23
        }
      ]
    },
    {
      "cell_type": "code",
      "source": [
        "def nome_completo_em_maiusculo(*nome):\n",
        "  # nome recebe uma tupla de N valores\n",
        "  for item in nome: \n",
        "    print(item.upper())\n"
      ],
      "metadata": {
        "id": "qqW67xfWYmW2"
      },
      "execution_count": 31,
      "outputs": []
    },
    {
      "cell_type": "code",
      "source": [
        "nome_completo_em_maiusculo('Armando', 'Soares', 'Sousa')"
      ],
      "metadata": {
        "colab": {
          "base_uri": "https://localhost:8080/"
        },
        "id": "UFwpgUEXZDEb",
        "outputId": "b0f7a9d7-6702-4e55-b55b-f26a364b6d79"
      },
      "execution_count": 32,
      "outputs": [
        {
          "output_type": "stream",
          "name": "stdout",
          "text": [
            "ARMANDO\n",
            "SOARES\n",
            "SOUSA\n"
          ]
        }
      ]
    },
    {
      "cell_type": "code",
      "source": [
        "nome_completo_em_maiusculo('Maria', 'Esther', 'Amorim', 'Martins', 'Soares', 'Sousa')"
      ],
      "metadata": {
        "colab": {
          "base_uri": "https://localhost:8080/"
        },
        "id": "wdEwsQ15ZJNd",
        "outputId": "2c91da89-5db3-4b9f-e52a-82d141261296"
      },
      "execution_count": 33,
      "outputs": [
        {
          "output_type": "stream",
          "name": "stdout",
          "text": [
            "MARIA\n",
            "ESTHER\n",
            "AMORIM\n",
            "MARTINS\n",
            "SOARES\n",
            "SOUSA\n"
          ]
        }
      ]
    },
    {
      "cell_type": "code",
      "source": [
        "def guarda_dados_cliente(**dados):\n",
        "  for k, v in dados.items():\n",
        "    print(k, v)"
      ],
      "metadata": {
        "id": "Ss-TpHFWZV04"
      },
      "execution_count": 34,
      "outputs": []
    },
    {
      "cell_type": "code",
      "source": [
        "guarda_dados_cliente(cpf='777888999343', nome='Armando Soares')"
      ],
      "metadata": {
        "colab": {
          "base_uri": "https://localhost:8080/"
        },
        "id": "vrnc05LMaegd",
        "outputId": "769f6389-7bc1-4178-a931-42927cd28b1c"
      },
      "execution_count": 35,
      "outputs": [
        {
          "output_type": "stream",
          "name": "stdout",
          "text": [
            "cpf 777888999343\n",
            "nome Armando Soares\n"
          ]
        }
      ]
    },
    {
      "cell_type": "code",
      "source": [
        "guarda_dados_cliente(cpf='77773423423', nome='Maria Joaquina', email='mj@gmail.com')"
      ],
      "metadata": {
        "colab": {
          "base_uri": "https://localhost:8080/"
        },
        "id": "zVPbI5iaak-k",
        "outputId": "1f35639f-4943-4680-aa1d-c94b9e8a37c4"
      },
      "execution_count": 36,
      "outputs": [
        {
          "output_type": "stream",
          "name": "stdout",
          "text": [
            "cpf 77773423423\n",
            "nome Maria Joaquina\n",
            "email mj@gmail.com\n"
          ]
        }
      ]
    },
    {
      "cell_type": "code",
      "source": [
        "guarda_dados_cliente(cpf='45345345', nome='José da Silva', email='js@gmail.com', lista_telefones=['(86)934534534', '(86)2342343'])"
      ],
      "metadata": {
        "colab": {
          "base_uri": "https://localhost:8080/"
        },
        "id": "M6UibFCCa4uG",
        "outputId": "40b146c2-01c2-41e9-eb57-c3818107f207"
      },
      "execution_count": 37,
      "outputs": [
        {
          "output_type": "stream",
          "name": "stdout",
          "text": [
            "cpf 45345345\n",
            "nome José da Silva\n",
            "email js@gmail.com\n",
            "lista_telefones ['(86)934534534', '(86)2342343']\n"
          ]
        }
      ]
    },
    {
      "cell_type": "code",
      "source": [],
      "metadata": {
        "id": "fRUu6E57bHC3"
      },
      "execution_count": null,
      "outputs": []
    }
  ]
}