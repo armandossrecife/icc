{
  "nbformat": 4,
  "nbformat_minor": 0,
  "metadata": {
    "colab": {
      "provenance": [],
      "authorship_tag": "ABX9TyOuxYeQDjcT2BxrVqL8QOeD",
      "include_colab_link": true
    },
    "kernelspec": {
      "name": "python3",
      "display_name": "Python 3"
    },
    "language_info": {
      "name": "python"
    }
  },
  "cells": [
    {
      "cell_type": "markdown",
      "metadata": {
        "id": "view-in-github",
        "colab_type": "text"
      },
      "source": [
        "<a href=\"https://colab.research.google.com/github/armandossrecife/icc/blob/main/pratica_2.ipynb\" target=\"_parent\"><img src=\"https://colab.research.google.com/assets/colab-badge.svg\" alt=\"Open In Colab\"/></a>"
      ]
    },
    {
      "cell_type": "markdown",
      "source": [
        "Prática 2 - Criando um registro simplificado de alunos e notas de uma disciplina"
      ],
      "metadata": {
        "id": "13Z_9U18BddJ"
      }
    },
    {
      "cell_type": "code",
      "source": [
        "alunos = ['Armando', 'Maria', 'Ana']\n",
        "print(alunos)\n",
        "\n",
        "retangulo = (10, 5)"
      ],
      "metadata": {
        "id": "3eiocRUGkBUL",
        "outputId": "40852f64-0570-455c-9d4c-faf36c363a69",
        "colab": {
          "base_uri": "https://localhost:8080/"
        }
      },
      "execution_count": 3,
      "outputs": [
        {
          "output_type": "stream",
          "name": "stdout",
          "text": [
            "['Armando', 'Maria', 'Ana']\n"
          ]
        }
      ]
    },
    {
      "cell_type": "code",
      "source": [
        "print(retangulo[0], retangulo[1])"
      ],
      "metadata": {
        "id": "MJceE3VlkXOZ",
        "outputId": "5650732e-1718-49dd-ddf6-e222c9be6d6d",
        "colab": {
          "base_uri": "https://localhost:8080/"
        }
      },
      "execution_count": 5,
      "outputs": [
        {
          "output_type": "stream",
          "name": "stdout",
          "text": [
            "10 5\n"
          ]
        }
      ]
    },
    {
      "cell_type": "markdown",
      "source": [
        "# 1) Defina uma tupla para representar os dados de um Aluno"
      ],
      "metadata": {
        "id": "TURBOeD8-RZB"
      }
    },
    {
      "cell_type": "markdown",
      "source": [
        "## Dados: matricula, nome, e-mail\n",
        "\n",
        "### Crie 3 alunos fictícios (sugestão: use uma tupla para representar um aluno)"
      ],
      "metadata": {
        "id": "64MxGInm-m_b"
      }
    },
    {
      "cell_type": "code",
      "execution_count": 8,
      "metadata": {
        "id": "D7BOQ_a3-QGu",
        "outputId": "12e1fdf4-c471-4808-f3f6-71a27a7783e0",
        "colab": {
          "base_uri": "https://localhost:8080/"
        }
      },
      "outputs": [
        {
          "output_type": "stream",
          "name": "stdout",
          "text": [
            "('2020123', 'Maria Joaquina', 'mj@gmail.com')\n",
            "('2020124', 'Ana Carla', 'ac@gmail.com')\n",
            "('2020125', 'Carlos Eduardo', 'ce@gmail.com')\n"
          ]
        }
      ],
      "source": [
        "aluno1 = ('2020123', 'Maria Joaquina', 'mj@gmail.com')\n",
        "aluno2 = ('2020124', 'Ana Carla', 'ac@gmail.com')\n",
        "aluno3 = ('2020125', 'Carlos Eduardo', 'ce@gmail.com')\n",
        "print(aluno1)\n",
        "print(aluno2)\n",
        "print(aluno3)"
      ]
    },
    {
      "cell_type": "code",
      "source": [
        "print(f'Matricula: {aluno1[0]}')\n",
        "print(f'Nome: {aluno1[1]}')\n",
        "print(f'email: {aluno1[2]}')"
      ],
      "metadata": {
        "id": "8vA6LCs2lVOT",
        "outputId": "c0c152d5-79f5-4873-d1e9-ac7705ca2ecf",
        "colab": {
          "base_uri": "https://localhost:8080/"
        }
      },
      "execution_count": 9,
      "outputs": [
        {
          "output_type": "stream",
          "name": "stdout",
          "text": [
            "Matricula: 2020123\n",
            "Nome: Maria Joaquina\n",
            "email: mj@gmail.com\n"
          ]
        }
      ]
    },
    {
      "cell_type": "markdown",
      "source": [
        "# 2) Crie uma lista para representar os alunos matriculados na disciplina"
      ],
      "metadata": {
        "id": "yIrIhYB0-syB"
      }
    },
    {
      "cell_type": "code",
      "source": [
        "lista_alunos = []"
      ],
      "metadata": {
        "id": "R3kfNF-e-rnC"
      },
      "execution_count": 10,
      "outputs": []
    },
    {
      "cell_type": "code",
      "source": [
        "print(lista_alunos)"
      ],
      "metadata": {
        "id": "kwc8M5fdlsZA",
        "outputId": "d97c0d0c-131d-4380-fe05-85f98730ab86",
        "colab": {
          "base_uri": "https://localhost:8080/"
        }
      },
      "execution_count": 11,
      "outputs": [
        {
          "output_type": "stream",
          "name": "stdout",
          "text": [
            "[]\n"
          ]
        }
      ]
    },
    {
      "cell_type": "markdown",
      "source": [
        "## Adicione os 3 alunos na lista"
      ],
      "metadata": {
        "id": "MPk4zvWA-_pr"
      }
    },
    {
      "cell_type": "code",
      "source": [
        "lista_alunos.append(aluno1)\n",
        "lista_alunos.append(aluno2)\n",
        "lista_alunos.append(aluno3)\n",
        "\n",
        "print(lista_alunos)"
      ],
      "metadata": {
        "id": "59bs2oS4-1Rc",
        "outputId": "7a131c7a-70f8-47fa-865d-82be95bdbeaa",
        "colab": {
          "base_uri": "https://localhost:8080/"
        }
      },
      "execution_count": 13,
      "outputs": [
        {
          "output_type": "stream",
          "name": "stdout",
          "text": [
            "[('2020123', 'Maria Joaquina', 'mj@gmail.com'), ('2020124', 'Ana Carla', 'ac@gmail.com'), ('2020125', 'Carlos Eduardo', 'ce@gmail.com')]\n"
          ]
        }
      ]
    },
    {
      "cell_type": "code",
      "source": [
        "print(aluno1, len(aluno1))"
      ],
      "metadata": {
        "id": "8gpiRRZlmXuz",
        "outputId": "2e5b16f2-7b81-4864-83fa-93f4e974bb23",
        "colab": {
          "base_uri": "https://localhost:8080/"
        }
      },
      "execution_count": 16,
      "outputs": [
        {
          "output_type": "stream",
          "name": "stdout",
          "text": [
            "('2020123', 'Maria Joaquina', 'mj@gmail.com') 3\n"
          ]
        }
      ]
    },
    {
      "cell_type": "code",
      "source": [
        "print(len(lista_alunos))"
      ],
      "metadata": {
        "id": "ldSm-bTlmJHK",
        "outputId": "feeef820-5258-479c-be2c-198b067b6c20",
        "colab": {
          "base_uri": "https://localhost:8080/"
        }
      },
      "execution_count": 14,
      "outputs": [
        {
          "output_type": "stream",
          "name": "stdout",
          "text": [
            "3\n"
          ]
        }
      ]
    },
    {
      "cell_type": "markdown",
      "source": [
        "## Mostre os alunos da lista"
      ],
      "metadata": {
        "id": "2qWEe-TUBIdm"
      }
    },
    {
      "cell_type": "code",
      "source": [
        "print(lista_alunos)"
      ],
      "metadata": {
        "id": "AQJzIdgvBM3N",
        "outputId": "cfbee356-4d14-4785-8045-db4a478a8487",
        "colab": {
          "base_uri": "https://localhost:8080/"
        }
      },
      "execution_count": 19,
      "outputs": [
        {
          "output_type": "stream",
          "name": "stdout",
          "text": [
            "[('2020123', 'Maria Joaquina', 'mj@gmail.com'), ('2020124', 'Ana Carla', 'ac@gmail.com'), ('2020125', 'Carlos Eduardo', 'ce@gmail.com')]\n"
          ]
        }
      ]
    },
    {
      "cell_type": "code",
      "source": [
        "for aluno in lista_alunos:\n",
        "  print(aluno)"
      ],
      "metadata": {
        "id": "Iw2LNqUam6gJ",
        "outputId": "4fc272fd-fe6d-49a2-b1e6-0d4d196423dd",
        "colab": {
          "base_uri": "https://localhost:8080/"
        }
      },
      "execution_count": 20,
      "outputs": [
        {
          "output_type": "stream",
          "name": "stdout",
          "text": [
            "('2020123', 'Maria Joaquina', 'mj@gmail.com')\n",
            "('2020124', 'Ana Carla', 'ac@gmail.com')\n",
            "('2020125', 'Carlos Eduardo', 'ce@gmail.com')\n"
          ]
        }
      ]
    },
    {
      "cell_type": "code",
      "source": [
        "for aluno in lista_alunos:\n",
        "  print(f'Nome: {aluno[1]}')"
      ],
      "metadata": {
        "id": "ei_4UXprnHbh",
        "outputId": "aa421527-7432-4d6a-dd1c-e89d08c1ed77",
        "colab": {
          "base_uri": "https://localhost:8080/"
        }
      },
      "execution_count": 21,
      "outputs": [
        {
          "output_type": "stream",
          "name": "stdout",
          "text": [
            "Nome: Maria Joaquina\n",
            "Nome: Ana Carla\n",
            "Nome: Carlos Eduardo\n"
          ]
        }
      ]
    },
    {
      "cell_type": "markdown",
      "source": [
        "# 3) Crie uma lista de 4 notas para cada aluno"
      ],
      "metadata": {
        "id": "U5gFwJ0z_SzX"
      }
    },
    {
      "cell_type": "code",
      "source": [
        "notas_aluno1 = [10,8,7,9]\n",
        "notas_aluno2 = [9,9,9,9]\n",
        "notas_aluno3 = [10,10,10,10]\n",
        "\n",
        "print(notas_aluno1)\n",
        "print(notas_aluno2)\n",
        "print(notas_aluno3)"
      ],
      "metadata": {
        "id": "kDFD7W5K_J6X",
        "outputId": "2717e968-a64f-4fbb-b68d-f9b891e9a4d5",
        "colab": {
          "base_uri": "https://localhost:8080/"
        }
      },
      "execution_count": 24,
      "outputs": [
        {
          "output_type": "stream",
          "name": "stdout",
          "text": [
            "[10, 8, 7, 9]\n",
            "[9, 9, 9, 9]\n",
            "[10, 10, 10, 10]\n"
          ]
        }
      ]
    },
    {
      "cell_type": "markdown",
      "source": [
        "# 4) Crie uma tupla que represente um aluno e suas notas"
      ],
      "metadata": {
        "id": "urrRPpPG_ibQ"
      }
    },
    {
      "cell_type": "code",
      "source": [
        "aluno1_notas = (aluno1, notas_aluno1)\n",
        "aluno2_notas = (aluno2, notas_aluno2)\n",
        "aluno3_notas = (aluno3, notas_aluno3)\n",
        "print(aluno1_notas)\n",
        "print(aluno2_notas)\n",
        "print(aluno3_notas)"
      ],
      "metadata": {
        "id": "6q27K107_bZg",
        "outputId": "38aae594-1ed4-4c1d-9708-977349faba3e",
        "colab": {
          "base_uri": "https://localhost:8080/"
        }
      },
      "execution_count": 30,
      "outputs": [
        {
          "output_type": "stream",
          "name": "stdout",
          "text": [
            "(('2020123', 'Maria Joaquina', 'mj@gmail.com'), [10, 8, 7, 9])\n",
            "(('2020124', 'Ana Carla', 'ac@gmail.com'), [9, 9, 9, 9])\n",
            "(('2020125', 'Carlos Eduardo', 'ce@gmail.com'), [10, 10, 10, 10])\n"
          ]
        }
      ]
    },
    {
      "cell_type": "code",
      "source": [
        "len(aluno1_notas)"
      ],
      "metadata": {
        "id": "ClhVzJKaobKF",
        "outputId": "13a17858-3414-44fb-c315-ae700cc362d0",
        "colab": {
          "base_uri": "https://localhost:8080/"
        }
      },
      "execution_count": 26,
      "outputs": [
        {
          "output_type": "execute_result",
          "data": {
            "text/plain": [
              "2"
            ]
          },
          "metadata": {},
          "execution_count": 26
        }
      ]
    },
    {
      "cell_type": "code",
      "source": [
        "print(aluno1_notas[0])\n",
        "print(aluno1_notas[1])"
      ],
      "metadata": {
        "id": "O4UbreEzogFP",
        "outputId": "06ed47d0-a418-406d-da34-5d5127c720b2",
        "colab": {
          "base_uri": "https://localhost:8080/"
        }
      },
      "execution_count": 28,
      "outputs": [
        {
          "output_type": "stream",
          "name": "stdout",
          "text": [
            "('2020123', 'Maria Joaquina', 'mj@gmail.com')\n",
            "[10, 8, 7, 9]\n"
          ]
        }
      ]
    },
    {
      "cell_type": "markdown",
      "source": [
        "# 5) Crie uma lista que represente os alunos e as notas da disciplina"
      ],
      "metadata": {
        "id": "yHgE4mAP_5A6"
      }
    },
    {
      "cell_type": "code",
      "source": [
        "lista_alunos_notas = []"
      ],
      "metadata": {
        "id": "kZzgAWoa_9N7"
      },
      "execution_count": 31,
      "outputs": []
    },
    {
      "cell_type": "code",
      "source": [
        "print(lista_alunos)"
      ],
      "metadata": {
        "id": "sIpmNeqQpHIK",
        "outputId": "31cfe5fc-9662-4efe-a2b9-1441fd6f4c3d",
        "colab": {
          "base_uri": "https://localhost:8080/"
        }
      },
      "execution_count": 32,
      "outputs": [
        {
          "output_type": "stream",
          "name": "stdout",
          "text": [
            "[('2020123', 'Maria Joaquina', 'mj@gmail.com'), ('2020124', 'Ana Carla', 'ac@gmail.com'), ('2020125', 'Carlos Eduardo', 'ce@gmail.com')]\n"
          ]
        }
      ]
    },
    {
      "cell_type": "markdown",
      "source": [
        "## Adicione os alunos e suas notas na lista de notas da disciplina"
      ],
      "metadata": {
        "id": "w7lvy2ULABkk"
      }
    },
    {
      "cell_type": "code",
      "source": [
        "lista_alunos_notas.append(aluno1_notas)\n",
        "lista_alunos_notas.append(aluno2_notas)\n",
        "lista_alunos_notas.append(aluno3_notas)"
      ],
      "metadata": {
        "id": "5fkWkxPFAAAD"
      },
      "execution_count": 33,
      "outputs": []
    },
    {
      "cell_type": "code",
      "source": [
        "for aluno in lista_alunos_notas:\n",
        "  print(aluno)"
      ],
      "metadata": {
        "id": "XBuo0qEUpc49",
        "outputId": "72e47c18-f35d-4896-8da9-275d6c20fe7c",
        "colab": {
          "base_uri": "https://localhost:8080/"
        }
      },
      "execution_count": 34,
      "outputs": [
        {
          "output_type": "stream",
          "name": "stdout",
          "text": [
            "(('2020123', 'Maria Joaquina', 'mj@gmail.com'), [10, 8, 7, 9])\n",
            "(('2020124', 'Ana Carla', 'ac@gmail.com'), [9, 9, 9, 9])\n",
            "(('2020125', 'Carlos Eduardo', 'ce@gmail.com'), [10, 10, 10, 10])\n"
          ]
        }
      ]
    },
    {
      "cell_type": "markdown",
      "source": [
        "# 6) Imprima os alunos com suas respectivas notas"
      ],
      "metadata": {
        "id": "bYQJko6NAUZm"
      }
    },
    {
      "cell_type": "code",
      "source": [
        "for item in lista_alunos_notas:\n",
        "  print(f'Dados do aluno: {item[0]}, Notas: {item[1]}')"
      ],
      "metadata": {
        "id": "1EgBiBIUAk2w",
        "outputId": "3c05c712-bfee-436c-ca9d-dea41ac90ece",
        "colab": {
          "base_uri": "https://localhost:8080/"
        }
      },
      "execution_count": 37,
      "outputs": [
        {
          "output_type": "stream",
          "name": "stdout",
          "text": [
            "Dados do aluno: ('2020123', 'Maria Joaquina', 'mj@gmail.com'), Notas: [10, 8, 7, 9]\n",
            "Dados do aluno: ('2020124', 'Ana Carla', 'ac@gmail.com'), Notas: [9, 9, 9, 9]\n",
            "Dados do aluno: ('2020125', 'Carlos Eduardo', 'ce@gmail.com'), Notas: [10, 10, 10, 10]\n"
          ]
        }
      ]
    },
    {
      "cell_type": "code",
      "source": [],
      "metadata": {
        "id": "D02aQQCspps6"
      },
      "execution_count": null,
      "outputs": []
    }
  ]
}