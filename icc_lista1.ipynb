{
  "nbformat": 4,
  "nbformat_minor": 0,
  "metadata": {
    "colab": {
      "provenance": [],
      "authorship_tag": "ABX9TyP3zzG8ne1/2378kL7pu08o",
      "include_colab_link": true
    },
    "kernelspec": {
      "name": "python3",
      "display_name": "Python 3"
    },
    "language_info": {
      "name": "python"
    }
  },
  "cells": [
    {
      "cell_type": "markdown",
      "metadata": {
        "id": "view-in-github",
        "colab_type": "text"
      },
      "source": [
        "<a href=\"https://colab.research.google.com/github/armandossrecife/icc/blob/main/icc_lista1.ipynb\" target=\"_parent\"><img src=\"https://colab.research.google.com/assets/colab-badge.svg\" alt=\"Open In Colab\"/></a>"
      ]
    },
    {
      "cell_type": "markdown",
      "source": [
        "# 1a. Lista"
      ],
      "metadata": {
        "id": "Pe9GoLcmUCAH"
      }
    },
    {
      "cell_type": "markdown",
      "source": [
        "## Exercício 1"
      ],
      "metadata": {
        "id": "Q_fIXNhhUG8u"
      }
    },
    {
      "cell_type": "markdown",
      "source": [
        "Faça um programa em Python que leia um número inteiro positivo e mostre os n primeiros números pares até o número lido.\n"
      ],
      "metadata": {
        "id": "f9bg_X8FT8HL"
      }
    },
    {
      "cell_type": "code",
      "source": [
        "# Ler um numero inteiro positivo\n",
        "numero = int(input(\"Digite um número inteiro positivo: \"))\n",
        "\n",
        "# Mostra o n primeiros numeros pares ate o numero informado\n",
        "for i in range(numero):\n",
        "    valor_gerado = i*2\n",
        "    if valor_gerado <= numero:\n",
        "      print(f'{valor_gerado}')"
      ],
      "metadata": {
        "colab": {
          "base_uri": "https://localhost:8080/"
        },
        "id": "HeLhH7GOT_Q6",
        "outputId": "17d82a52-5ee2-4391-b9f1-0f38160e1bdd"
      },
      "execution_count": 6,
      "outputs": [
        {
          "output_type": "stream",
          "name": "stdout",
          "text": [
            "Digite um número inteiro positivo: 10\n",
            "0\n",
            "2\n",
            "4\n",
            "6\n",
            "8\n",
            "10\n"
          ]
        }
      ]
    },
    {
      "cell_type": "markdown",
      "source": [
        "## Exercício 2"
      ],
      "metadata": {
        "id": "TQJKERP_Vn2_"
      }
    },
    {
      "cell_type": "markdown",
      "source": [
        "Faça um programa em Python que leia um número inteiro positivo e mostre os n primeiros números ímpares até o número lido."
      ],
      "metadata": {
        "id": "oTAeDrApVpqN"
      }
    },
    {
      "cell_type": "code",
      "source": [
        "# Ler um numero inteiro positivo\n",
        "numero = int(input(\"Digite um número inteiro positivo: \"))\n",
        "\n",
        "# Mostra o n primeiros numeros impares ate o numero informado\n",
        "for i in range(numero):\n",
        "    valor_gerado = i*2+1\n",
        "    if valor_gerado <= numero:\n",
        "      print(f'{valor_gerado}')"
      ],
      "metadata": {
        "colab": {
          "base_uri": "https://localhost:8080/"
        },
        "id": "hWzvq_LuUiCN",
        "outputId": "1fbf34bd-cb25-44cf-8812-24ff4f40f78e"
      },
      "execution_count": 7,
      "outputs": [
        {
          "output_type": "stream",
          "name": "stdout",
          "text": [
            "Digite um número inteiro positivo: 10\n",
            "1\n",
            "3\n",
            "5\n",
            "7\n",
            "9\n"
          ]
        }
      ]
    },
    {
      "cell_type": "markdown",
      "source": [
        "## Exercício 3"
      ],
      "metadata": {
        "id": "l5zy2XcPV7t2"
      }
    },
    {
      "cell_type": "markdown",
      "source": [
        "Faça um programa que pergunte ao usuário quantos termos da sequência de Fibonnacci você deseja imprimir. Informe a quantidade de termos e logo depois imprima os números correspondentes da sequência de Fibonnacci."
      ],
      "metadata": {
        "id": "pSM6AXWmV_eO"
      }
    },
    {
      "cell_type": "code",
      "source": [
        "# Quantidade de termos de Fibonacci\n",
        "qtd_termos_fibo = int(input(\"Quantos termos da sequência de Fibonacci você deseja imprimir? \"))\n",
        "\n",
        "# Inicializando os primeiros dois termos da sequencia\n",
        "termo1, termo2 = 0, 1\n",
        "\n",
        "# Imprimindo os primeiros \"qtd_termos_fibo\" termos da sequencia\n",
        "print(\"Sequência de Fibonacci:\")\n",
        "for i in range(qtd_termos_fibo):\n",
        "    print(termo1)\n",
        "    proximo_termo = termo1 + termo2\n",
        "    termo1, termo2 = termo2, proximo_termo"
      ],
      "metadata": {
        "colab": {
          "base_uri": "https://localhost:8080/"
        },
        "id": "BvMBz9WMV3ya",
        "outputId": "48353688-b9ee-45e0-d5d4-2794d6814973"
      },
      "execution_count": 8,
      "outputs": [
        {
          "output_type": "stream",
          "name": "stdout",
          "text": [
            "Quantos termos da sequência de Fibonacci você deseja imprimir? 10\n",
            "Sequência de Fibonacci:\n",
            "0\n",
            "1\n",
            "1\n",
            "2\n",
            "3\n",
            "5\n",
            "8\n",
            "13\n",
            "21\n",
            "34\n"
          ]
        }
      ]
    },
    {
      "cell_type": "markdown",
      "source": [
        "## Exercício 4"
      ],
      "metadata": {
        "id": "lYwbAXa-Wuli"
      }
    },
    {
      "cell_type": "markdown",
      "source": [
        "Crie um programa em Linguagem Python que solicite a senha de um usuário e depois, peça pra digitar novamente até que as duas senhas sejam correspondentes."
      ],
      "metadata": {
        "id": "sNh4IMRXWxbB"
      }
    },
    {
      "cell_type": "code",
      "source": [
        "senha = input(\"Digite uma senha: \")\n",
        "senha_confirmada = \"\"\n",
        "\n",
        "while senha != senha_confirmada:\n",
        "    senha_confirmada = input(\"Digite a senha novamente: \")\n",
        "    if senha != senha_confirmada:\n",
        "        print(\"As senhas não correspondem. Tente novamente.\")\n",
        "\n",
        "print(\"Senha confirmada com sucesso!\")"
      ],
      "metadata": {
        "colab": {
          "base_uri": "https://localhost:8080/"
        },
        "id": "ftK8NPhAWnR_",
        "outputId": "9a83d275-18e1-450f-8962-f9582f5f0615"
      },
      "execution_count": 9,
      "outputs": [
        {
          "output_type": "stream",
          "name": "stdout",
          "text": [
            "Digite uma senha: 123456\n",
            "Digite a senha novamente: 12345\n",
            "As senhas não correspondem. Tente novamente.\n",
            "Digite a senha novamente: 123456\n",
            "Senha confirmada com sucesso!\n"
          ]
        }
      ]
    },
    {
      "cell_type": "code",
      "source": [],
      "metadata": {
        "id": "7kpOCGi7W7pF"
      },
      "execution_count": null,
      "outputs": []
    }
  ]
}