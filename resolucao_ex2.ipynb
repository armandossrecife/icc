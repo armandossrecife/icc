{
  "nbformat": 4,
  "nbformat_minor": 0,
  "metadata": {
    "colab": {
      "provenance": [],
      "authorship_tag": "ABX9TyOP0ObWxVw0Z9y2wkI0hy3b",
      "include_colab_link": true
    },
    "kernelspec": {
      "name": "python3",
      "display_name": "Python 3"
    },
    "language_info": {
      "name": "python"
    }
  },
  "cells": [
    {
      "cell_type": "markdown",
      "metadata": {
        "id": "view-in-github",
        "colab_type": "text"
      },
      "source": [
        "<a href=\"https://colab.research.google.com/github/armandossrecife/icc/blob/main/resolucao_ex2.ipynb\" target=\"_parent\"><img src=\"https://colab.research.google.com/assets/colab-badge.svg\" alt=\"Open In Colab\"/></a>"
      ]
    },
    {
      "cell_type": "code",
      "execution_count": 1,
      "metadata": {
        "colab": {
          "base_uri": "https://localhost:8080/"
        },
        "id": "buUcRk_6hjIA",
        "outputId": "05ec3312-a496-4893-e06f-0d6bb03087bc"
      },
      "outputs": [
        {
          "output_type": "stream",
          "name": "stdout",
          "text": [
            "teste...\n"
          ]
        }
      ],
      "source": [
        "print(\"teste...\")"
      ]
    },
    {
      "cell_type": "code",
      "source": [
        "lista_numeros = [10,101,2,4, 0, 55, 3.14, 2.7]\n",
        "\n",
        "print(lista_numeros)"
      ],
      "metadata": {
        "colab": {
          "base_uri": "https://localhost:8080/"
        },
        "id": "eLQ8z-sxmodW",
        "outputId": "97e6ca32-bbf9-4d6a-c109-79c15a093996"
      },
      "execution_count": 3,
      "outputs": [
        {
          "output_type": "stream",
          "name": "stdout",
          "text": [
            "[10, 101, 2, 4, 0, 55, 3.14, 2.7]\n"
          ]
        }
      ]
    },
    {
      "cell_type": "code",
      "source": [
        "max(lista_numeros)"
      ],
      "metadata": {
        "colab": {
          "base_uri": "https://localhost:8080/"
        },
        "id": "3v1qk2lKnZKf",
        "outputId": "169e605b-83a7-427c-99b8-89b2b020e881"
      },
      "execution_count": 4,
      "outputs": [
        {
          "output_type": "execute_result",
          "data": {
            "text/plain": [
              "101"
            ]
          },
          "metadata": {},
          "execution_count": 4
        }
      ]
    },
    {
      "cell_type": "code",
      "source": [
        "min(lista_numeros)"
      ],
      "metadata": {
        "colab": {
          "base_uri": "https://localhost:8080/"
        },
        "id": "rsfY0nV8nsGc",
        "outputId": "927a88f0-eea4-4323-d4d2-a9e6be1e85cb"
      },
      "execution_count": 5,
      "outputs": [
        {
          "output_type": "execute_result",
          "data": {
            "text/plain": [
              "0"
            ]
          },
          "metadata": {},
          "execution_count": 5
        }
      ]
    },
    {
      "cell_type": "code",
      "source": [
        "lista_numeros"
      ],
      "metadata": {
        "colab": {
          "base_uri": "https://localhost:8080/"
        },
        "id": "qPlnqpg0p56f",
        "outputId": "b41f6dc9-2bbc-47a2-b65c-2d725e7f08f1"
      },
      "execution_count": 8,
      "outputs": [
        {
          "output_type": "execute_result",
          "data": {
            "text/plain": [
              "[10, 101, 2, 4, 0, 55, 3.14, 2.7]"
            ]
          },
          "metadata": {},
          "execution_count": 8
        }
      ]
    },
    {
      "cell_type": "code",
      "source": [
        "def maior_numero(lista):\n",
        "  return max(lista)"
      ],
      "metadata": {
        "id": "XTgi2EVQn1CE"
      },
      "execution_count": 10,
      "outputs": []
    },
    {
      "cell_type": "code",
      "source": [
        "maior_numero(lista_numeros)"
      ],
      "metadata": {
        "colab": {
          "base_uri": "https://localhost:8080/"
        },
        "id": "Mj7ih4m4qao1",
        "outputId": "9232f8e7-a5fe-4db0-ab6c-4ab8df19cdbb"
      },
      "execution_count": 11,
      "outputs": [
        {
          "output_type": "execute_result",
          "data": {
            "text/plain": [
              "101"
            ]
          },
          "metadata": {},
          "execution_count": 11
        }
      ]
    },
    {
      "cell_type": "code",
      "source": [
        "lista_nomes = ['Maria dos Santos', 'Ana Cláudia', 'Francisco da silva']\n",
        "\n",
        "nova_lista = []\n",
        "\n",
        "for nome in lista_nomes:\n",
        "  print(nome.upper())\n",
        "  nova_lista.append(nome.upper())"
      ],
      "metadata": {
        "colab": {
          "base_uri": "https://localhost:8080/"
        },
        "id": "3lMsw208qdox",
        "outputId": "c2dfa479-0208-465e-9098-5d567eb7b23b"
      },
      "execution_count": 16,
      "outputs": [
        {
          "output_type": "stream",
          "name": "stdout",
          "text": [
            "MARIA DOS SANTOS\n",
            "ANA CLÁUDIA\n",
            "FRANCISCO DA SILVA\n"
          ]
        }
      ]
    },
    {
      "cell_type": "code",
      "source": [
        "print(nova_lista)"
      ],
      "metadata": {
        "colab": {
          "base_uri": "https://localhost:8080/"
        },
        "id": "mQZ_34vRq_ZE",
        "outputId": "cc552421-898d-40bd-e068-fd38a7297a9f"
      },
      "execution_count": 17,
      "outputs": [
        {
          "output_type": "stream",
          "name": "stdout",
          "text": [
            "['MARIA DOS SANTOS', 'ANA CLÁUDIA', 'FRANCISCO DA SILVA']\n"
          ]
        }
      ]
    },
    {
      "cell_type": "code",
      "source": [
        "def nomes_em_maiusculo(lista_de_nomes):\n",
        "  nova_lista = []\n",
        "  for nome in lista_de_nomes:\n",
        "    nova_lista.append(nome.upper())\n",
        "\n",
        "  return nova_lista"
      ],
      "metadata": {
        "id": "NoqTMSgirp8P"
      },
      "execution_count": 18,
      "outputs": []
    },
    {
      "cell_type": "code",
      "source": [
        "nomes_em_maiusculo(['Armando', 'Maria', 'ana'])"
      ],
      "metadata": {
        "colab": {
          "base_uri": "https://localhost:8080/"
        },
        "id": "tPuTbSbPsc2B",
        "outputId": "b0963f0f-3f1e-4aeb-8b1e-1d54c0890877"
      },
      "execution_count": 19,
      "outputs": [
        {
          "output_type": "execute_result",
          "data": {
            "text/plain": [
              "['ARMANDO', 'MARIA', 'ANA']"
            ]
          },
          "metadata": {},
          "execution_count": 19
        }
      ]
    },
    {
      "cell_type": "code",
      "source": [
        "print(nomes_em_maiusculo(['Armando']))"
      ],
      "metadata": {
        "colab": {
          "base_uri": "https://localhost:8080/"
        },
        "id": "Jhk1epEbsjOS",
        "outputId": "354fe14f-27a2-42ef-9db0-dc0bcb3e04bf"
      },
      "execution_count": 20,
      "outputs": [
        {
          "output_type": "stream",
          "name": "stdout",
          "text": [
            "['ARMANDO']\n"
          ]
        }
      ]
    },
    {
      "cell_type": "code",
      "source": [
        "def nomes_em_minusculo(lista_de_nomes):\n",
        "  nova_lista = []\n",
        "  for nome in lista_de_nomes:\n",
        "    nova_lista.append(nome.lower())\n",
        "\n",
        "  return nova_lista"
      ],
      "metadata": {
        "id": "X4q7EsR2s3aY"
      },
      "execution_count": 21,
      "outputs": []
    },
    {
      "cell_type": "code",
      "source": [
        "print(nomes_em_minusculo(['Armando', 'Soares']))"
      ],
      "metadata": {
        "colab": {
          "base_uri": "https://localhost:8080/"
        },
        "id": "BbbaK5xVtVxj",
        "outputId": "03197b66-e7ec-47aa-a282-087f89a75e64"
      },
      "execution_count": 22,
      "outputs": [
        {
          "output_type": "stream",
          "name": "stdout",
          "text": [
            "['armando', 'soares']\n"
          ]
        }
      ]
    },
    {
      "cell_type": "code",
      "source": [
        "# Como calcular a raiz quadrada dos elementos de uma lista numérica?\n",
        "\n",
        "lista_numeros = [2, 4, 6, 10, 20, -1, -4]\n",
        "\n",
        "print(lista_numeros)"
      ],
      "metadata": {
        "colab": {
          "base_uri": "https://localhost:8080/"
        },
        "id": "7eoGpbwhtc__",
        "outputId": "68a5fcd0-7690-4fae-ce26-135388fd5d05"
      },
      "execution_count": 23,
      "outputs": [
        {
          "output_type": "stream",
          "name": "stdout",
          "text": [
            "[2, 4, 6, 10, 20, -1, -4]\n"
          ]
        }
      ]
    },
    {
      "cell_type": "code",
      "source": [
        "# é preciso importar o pacote de matemática do python\n",
        "import math"
      ],
      "metadata": {
        "id": "LRALjdmot2NZ"
      },
      "execution_count": 25,
      "outputs": []
    },
    {
      "cell_type": "code",
      "source": [
        "math.sqrt(16)"
      ],
      "metadata": {
        "colab": {
          "base_uri": "https://localhost:8080/"
        },
        "id": "kTMVy6OmuYx5",
        "outputId": "e235a5ad-0b67-4970-e884-d34d921c2585"
      },
      "execution_count": 26,
      "outputs": [
        {
          "output_type": "execute_result",
          "data": {
            "text/plain": [
              "4.0"
            ]
          },
          "metadata": {},
          "execution_count": 26
        }
      ]
    },
    {
      "cell_type": "code",
      "source": [
        "nova_lista = []\n",
        "\n",
        "for numero in lista_numeros:\n",
        "  if numero>=0: \n",
        "    print(f'A raiz quadrada do {numero} é: {math.sqrt(numero)}')\n",
        "    resultado = math.sqrt(numero)\n",
        "    nova_lista.append(resultado)\n",
        "\n",
        "print(f'Lista original: {lista_numeros}')\n",
        "print(f'Lista de raiz quadrada: {nova_lista}')"
      ],
      "metadata": {
        "colab": {
          "base_uri": "https://localhost:8080/"
        },
        "id": "qTdmMg1Tul6V",
        "outputId": "e47a67c3-33ad-4e3b-b857-1f0a81759810"
      },
      "execution_count": 31,
      "outputs": [
        {
          "output_type": "stream",
          "name": "stdout",
          "text": [
            "A raiz quadrada do 2 é: 1.4142135623730951\n",
            "A raiz quadrada do 4 é: 2.0\n",
            "A raiz quadrada do 6 é: 2.449489742783178\n",
            "A raiz quadrada do 10 é: 3.1622776601683795\n",
            "A raiz quadrada do 20 é: 4.47213595499958\n",
            "Lista original: [2, 4, 6, 10, 20, -1, -4]\n",
            "Lista de raiz quadrada: [1.4142135623730951, 2.0, 2.449489742783178, 3.1622776601683795, 4.47213595499958]\n"
          ]
        }
      ]
    },
    {
      "cell_type": "code",
      "source": [
        "def calcula_rq_da_lista(lista):\n",
        "  nova_lista = []\n",
        "\n",
        "  for numero in lista:\n",
        "    if numero >= 0:\n",
        "      resultado = math.sqrt(numero)\n",
        "      nova_lista.append(resultado)\n",
        "    else:\n",
        "      nova_lista.append(None)\n",
        "\n",
        "  return nova_lista"
      ],
      "metadata": {
        "id": "PhPtcEHXwC33"
      },
      "execution_count": 44,
      "outputs": []
    },
    {
      "cell_type": "code",
      "source": [
        "calcula_rq_da_lista([0, 2, 4, 9])"
      ],
      "metadata": {
        "colab": {
          "base_uri": "https://localhost:8080/"
        },
        "id": "eXsWmiGRw17u",
        "outputId": "b1612d2a-856b-49f3-9790-55bbf89d78b5"
      },
      "execution_count": 38,
      "outputs": [
        {
          "output_type": "execute_result",
          "data": {
            "text/plain": [
              "[0.0, 1.4142135623730951, 2.0, 3.0]"
            ]
          },
          "metadata": {},
          "execution_count": 38
        }
      ]
    },
    {
      "cell_type": "code",
      "source": [
        "calcula_rq_da_lista([-4, 0, 2, 4, 9, -1])"
      ],
      "metadata": {
        "colab": {
          "base_uri": "https://localhost:8080/"
        },
        "id": "oc_dEvfHuzmK",
        "outputId": "c0f59cbb-79c8-4664-e7c0-4b3b586a36a9"
      },
      "execution_count": 46,
      "outputs": [
        {
          "output_type": "execute_result",
          "data": {
            "text/plain": [
              "[None, 0.0, 1.4142135623730951, 2.0, 3.0, None]"
            ]
          },
          "metadata": {},
          "execution_count": 46
        }
      ]
    },
    {
      "cell_type": "code",
      "source": [
        "print(len([0, 2, 4, 9, -1]))\n",
        "print(len(calcula_rq_da_lista([0, 2, 4, 9, -1])))"
      ],
      "metadata": {
        "colab": {
          "base_uri": "https://localhost:8080/"
        },
        "id": "ADyZsDnaxDA5",
        "outputId": "ef7cf994-ec0e-4147-d579-e529fa093963"
      },
      "execution_count": 45,
      "outputs": [
        {
          "output_type": "stream",
          "name": "stdout",
          "text": [
            "5\n",
            "5\n"
          ]
        }
      ]
    },
    {
      "cell_type": "code",
      "source": [
        "print(len([-4, 0, 2, 4, 9, -1]))\n",
        "print(len(calcula_rq_da_lista([-4, 0, 2, 4, 9, -1])))"
      ],
      "metadata": {
        "colab": {
          "base_uri": "https://localhost:8080/"
        },
        "id": "KaBn1flnxgOk",
        "outputId": "d30d2008-8acc-4f23-f128-776296becdc4"
      },
      "execution_count": 47,
      "outputs": [
        {
          "output_type": "stream",
          "name": "stdout",
          "text": [
            "6\n",
            "6\n"
          ]
        }
      ]
    },
    {
      "cell_type": "code",
      "source": [
        "math.exp(10)"
      ],
      "metadata": {
        "colab": {
          "base_uri": "https://localhost:8080/"
        },
        "id": "BcrQg14xyBfA",
        "outputId": "718a8288-e728-41cc-f603-0876d87f13c8"
      },
      "execution_count": 48,
      "outputs": [
        {
          "output_type": "execute_result",
          "data": {
            "text/plain": [
              "22026.465794806718"
            ]
          },
          "metadata": {},
          "execution_count": 48
        }
      ]
    },
    {
      "cell_type": "code",
      "source": [
        "def calcula_neperiano(valor):\n",
        "  return math.exp(valor)"
      ],
      "metadata": {
        "id": "VBnqWidezI6q"
      },
      "execution_count": 49,
      "outputs": []
    },
    {
      "cell_type": "code",
      "source": [
        "calcula_neperiano(10)"
      ],
      "metadata": {
        "colab": {
          "base_uri": "https://localhost:8080/"
        },
        "id": "BTIf4aUZzRH5",
        "outputId": "cda80dc5-6a59-45da-c80c-dfda21d931a1"
      },
      "execution_count": 50,
      "outputs": [
        {
          "output_type": "execute_result",
          "data": {
            "text/plain": [
              "22026.465794806718"
            ]
          },
          "metadata": {},
          "execution_count": 50
        }
      ]
    },
    {
      "cell_type": "code",
      "source": [
        "lista_notas = [(1,1,1), (2,2,2), (3,3,3)]\n",
        "\n",
        "print(lista_notas)"
      ],
      "metadata": {
        "colab": {
          "base_uri": "https://localhost:8080/"
        },
        "id": "3OSiNtctzTOb",
        "outputId": "d02db1a0-4f8b-4680-8ba0-7ee29fdfabfb"
      },
      "execution_count": 51,
      "outputs": [
        {
          "output_type": "stream",
          "name": "stdout",
          "text": [
            "[(1, 1, 1), (2, 2, 2), (3, 3, 3)]\n"
          ]
        }
      ]
    },
    {
      "cell_type": "code",
      "source": [
        "print(f'1a tupla: {lista_notas[0]}')\n",
        "print(f'2a tupla: {lista_notas[1]}')\n",
        "print(f'3a tupla: {lista_notas[2]}')"
      ],
      "metadata": {
        "colab": {
          "base_uri": "https://localhost:8080/"
        },
        "id": "HWLW9hO9zq4d",
        "outputId": "c229b137-14c3-4770-b0fb-5d8bb49fd8fa"
      },
      "execution_count": 55,
      "outputs": [
        {
          "output_type": "stream",
          "name": "stdout",
          "text": [
            "1a tupla: (1, 1, 1)\n",
            "2a tupla: (2, 2, 2)\n",
            "3a tupla: (3, 3, 3)\n"
          ]
        }
      ]
    },
    {
      "cell_type": "code",
      "source": [
        "for nota in lista_notas[0]:\n",
        "  print(nota)"
      ],
      "metadata": {
        "colab": {
          "base_uri": "https://localhost:8080/"
        },
        "id": "tWS24I1Jzs8p",
        "outputId": "d2df1679-9dad-47cc-9636-0853c45c87f6"
      },
      "execution_count": 57,
      "outputs": [
        {
          "output_type": "stream",
          "name": "stdout",
          "text": [
            "1\n",
            "1\n",
            "1\n"
          ]
        }
      ]
    },
    {
      "cell_type": "code",
      "source": [
        "sum(lista_notas[0])"
      ],
      "metadata": {
        "colab": {
          "base_uri": "https://localhost:8080/"
        },
        "id": "FTyN7_lS0QZm",
        "outputId": "e81bc39c-6d23-430e-a206-b6ad87a5c283"
      },
      "execution_count": 58,
      "outputs": [
        {
          "output_type": "execute_result",
          "data": {
            "text/plain": [
              "3"
            ]
          },
          "metadata": {},
          "execution_count": 58
        }
      ]
    },
    {
      "cell_type": "code",
      "source": [
        "len(lista_notas[0])"
      ],
      "metadata": {
        "colab": {
          "base_uri": "https://localhost:8080/"
        },
        "id": "9CFQSjkW0FkV",
        "outputId": "8d6a3e37-4d62-470d-fdc7-57a0ba1c07c8"
      },
      "execution_count": 59,
      "outputs": [
        {
          "output_type": "execute_result",
          "data": {
            "text/plain": [
              "3"
            ]
          },
          "metadata": {},
          "execution_count": 59
        }
      ]
    },
    {
      "cell_type": "code",
      "source": [
        "sum(lista_notas[0]) / len(lista_notas[0])"
      ],
      "metadata": {
        "colab": {
          "base_uri": "https://localhost:8080/"
        },
        "id": "eTvBetjA0aan",
        "outputId": "03593dec-6832-4bef-dda7-782b2ace0e88"
      },
      "execution_count": 60,
      "outputs": [
        {
          "output_type": "execute_result",
          "data": {
            "text/plain": [
              "1.0"
            ]
          },
          "metadata": {},
          "execution_count": 60
        }
      ]
    },
    {
      "cell_type": "code",
      "source": [
        "nova_lista = []\n",
        "for tupla in lista_notas: \n",
        "  print(tupla)\n",
        "  soma_da_tupla = sum(tupla)\n",
        "  tamanho_tupla = len(tupla)\n",
        "  media_tupla = soma_da_tupla / tamanho_tupla\n",
        "  nova_lista.append(media_tupla)\n",
        "  print(f'Média: {media_tupla}')\n",
        "\n",
        "print(f'Lista de notas: {lista_notas}')\n",
        "print(f'Lista com as médias: {nova_lista}')"
      ],
      "metadata": {
        "colab": {
          "base_uri": "https://localhost:8080/"
        },
        "id": "bbr1n5uj0hb5",
        "outputId": "20b185a0-bb2b-46bc-9ac8-fd88ebed778e"
      },
      "execution_count": 64,
      "outputs": [
        {
          "output_type": "stream",
          "name": "stdout",
          "text": [
            "(1, 1, 1)\n",
            "Média: 1.0\n",
            "(2, 2, 2)\n",
            "Média: 2.0\n",
            "(3, 3, 3)\n",
            "Média: 3.0\n",
            "Lista de notas: [(1, 1, 1), (2, 2, 2), (3, 3, 3)]\n",
            "Lista com as médias: [1.0, 2.0, 3.0]\n"
          ]
        }
      ]
    },
    {
      "cell_type": "code",
      "source": [
        "def calcula_medias_nas_tuplas(lista):\n",
        "  nova_lista = []\n",
        "\n",
        "  for tupla in lista:\n",
        "    soma_da_tupla = sum(tupla)\n",
        "    tamanho_tupla = len(tupla)\n",
        "    media_tupla = soma_da_tupla / tamanho_tupla\n",
        "    nova_lista.append(media_tupla)\n",
        "\n",
        "  return nova_lista"
      ],
      "metadata": {
        "id": "fV-K2Gdy0ubN"
      },
      "execution_count": 65,
      "outputs": []
    },
    {
      "cell_type": "code",
      "source": [
        "calcula_medias_nas_tuplas([(1, 1, 1), (2, 2, 2), (3, 3, 3), (10, 9,8)])"
      ],
      "metadata": {
        "colab": {
          "base_uri": "https://localhost:8080/"
        },
        "id": "ihp_AecM16WJ",
        "outputId": "61c192a6-71da-4c94-d37e-a3afb2697fcc"
      },
      "execution_count": 67,
      "outputs": [
        {
          "output_type": "execute_result",
          "data": {
            "text/plain": [
              "[1.0, 2.0, 3.0, 9.0]"
            ]
          },
          "metadata": {},
          "execution_count": 67
        }
      ]
    },
    {
      "cell_type": "code",
      "source": [
        "dic_aluno = {}\n",
        "\n",
        "# 1o. aluno\n",
        "dic_aluno['20222343'] = [10, 8, 9] \n",
        "\n",
        "# 2o. aluno\n",
        "dic_aluno['202222223'] = [7, 8, 9, 7] \n",
        "\n",
        "# 3o. aluno\n",
        "dic_aluno['202033333'] = [7, 8, 9, 7, 8,6]"
      ],
      "metadata": {
        "id": "Y4f_nmwI18sM"
      },
      "execution_count": 68,
      "outputs": []
    },
    {
      "cell_type": "code",
      "source": [
        "print(dic_aluno)"
      ],
      "metadata": {
        "colab": {
          "base_uri": "https://localhost:8080/"
        },
        "id": "dDQb-aCV3EtV",
        "outputId": "4b965927-a956-42c1-dc87-b1641fe437cc"
      },
      "execution_count": 69,
      "outputs": [
        {
          "output_type": "stream",
          "name": "stdout",
          "text": [
            "{'20222343': [10, 8, 9], '202222223': [7, 8, 9, 7], '202033333': [7, 8, 9, 7, 8, 6]}\n"
          ]
        }
      ]
    },
    {
      "cell_type": "code",
      "source": [
        "dicionario_aux = {} # guardar o resultado das medias de cada aluno\n",
        "\n",
        "for matricula, notas in dic_aluno.items():\n",
        "  soma_notas = sum(notas)\n",
        "  qtd_notas = len(notas)\n",
        "  media_notas = soma_notas/qtd_notas\n",
        "  print(f'Matricula: {matricula}, notas: {notas}, média: {media_notas}')\n",
        "  dicionario_aux[matricula] = media_notas\n",
        "\n",
        "print(f'Dicionario resultante: {dicionario_aux}')"
      ],
      "metadata": {
        "colab": {
          "base_uri": "https://localhost:8080/"
        },
        "id": "1tgeR8Ec3FYf",
        "outputId": "abbce3a2-58f7-4951-e994-b9e68316c704"
      },
      "execution_count": 75,
      "outputs": [
        {
          "output_type": "stream",
          "name": "stdout",
          "text": [
            "Matricula: 20222343, notas: [10, 8, 9], média: 9.0\n",
            "Matricula: 202222223, notas: [7, 8, 9, 7], média: 7.75\n",
            "Matricula: 202033333, notas: [7, 8, 9, 7, 8, 6], média: 7.5\n",
            "Dicionario resultante: {'20222343': 9.0, '202222223': 7.75, '202033333': 7.5}\n"
          ]
        }
      ]
    },
    {
      "cell_type": "code",
      "source": [
        "def calcula_media_dic(dicionario_notas):\n",
        "  dicionario_aux = {} # guardar o resultado das medias de cada aluno\n",
        "\n",
        "  for matricula, notas in dicionario_notas.items():\n",
        "    soma_notas = sum(notas)\n",
        "    qtd_notas = len(notas)\n",
        "    media_notas = soma_notas/qtd_notas\n",
        "    dicionario_aux[matricula] = media_notas\n",
        "  return dicionario_aux"
      ],
      "metadata": {
        "id": "yF6exjzq3M3U"
      },
      "execution_count": 76,
      "outputs": []
    },
    {
      "cell_type": "code",
      "source": [
        "calcula_media_dic(dic_aluno)"
      ],
      "metadata": {
        "colab": {
          "base_uri": "https://localhost:8080/"
        },
        "id": "npmrVOzo5AeA",
        "outputId": "2df9595d-ea61-40f6-f9a2-c8a9971ca25a"
      },
      "execution_count": 77,
      "outputs": [
        {
          "output_type": "execute_result",
          "data": {
            "text/plain": [
              "{'20222343': 9.0, '202222223': 7.75, '202033333': 7.5}"
            ]
          },
          "metadata": {},
          "execution_count": 77
        }
      ]
    },
    {
      "cell_type": "code",
      "source": [
        "dic_aluno['2002342123'] = [10,10, 10, 10, 10, 10, 10, 10]\n",
        "\n"
      ],
      "metadata": {
        "id": "myOvRVe45I1p"
      },
      "execution_count": 78,
      "outputs": []
    },
    {
      "cell_type": "code",
      "source": [
        "calcula_media_dic(dic_aluno)"
      ],
      "metadata": {
        "colab": {
          "base_uri": "https://localhost:8080/"
        },
        "id": "ECJo4B4r5Dxv",
        "outputId": "38597c91-67e5-49cb-92b7-0ca00fb6ce8d"
      },
      "execution_count": 79,
      "outputs": [
        {
          "output_type": "execute_result",
          "data": {
            "text/plain": [
              "{'20222343': 9.0, '202222223': 7.75, '202033333': 7.5, '2002342123': 10.0}"
            ]
          },
          "metadata": {},
          "execution_count": 79
        }
      ]
    }
  ]
}