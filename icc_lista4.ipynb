{
  "nbformat": 4,
  "nbformat_minor": 0,
  "metadata": {
    "colab": {
      "provenance": [],
      "authorship_tag": "ABX9TyPorKCuMdJqMcPKEp3Bcu8J",
      "include_colab_link": true
    },
    "kernelspec": {
      "name": "python3",
      "display_name": "Python 3"
    },
    "language_info": {
      "name": "python"
    }
  },
  "cells": [
    {
      "cell_type": "markdown",
      "metadata": {
        "id": "view-in-github",
        "colab_type": "text"
      },
      "source": [
        "<a href=\"https://colab.research.google.com/github/armandossrecife/icc/blob/main/icc_lista4.ipynb\" target=\"_parent\"><img src=\"https://colab.research.google.com/assets/colab-badge.svg\" alt=\"Open In Colab\"/></a>"
      ]
    },
    {
      "cell_type": "markdown",
      "source": [
        "## 4a Lista"
      ],
      "metadata": {
        "id": "tobK3v2Yn86r"
      }
    },
    {
      "cell_type": "markdown",
      "source": [
        "### Exercício 1 (Dicionário de contatos e arquivo texto)\n",
        "\n",
        "Crie um programa em python que manipula contatos em um arquivo texto.\n",
        "\n",
        "Um contato tem cpf, nome e uma lista de telefones.\n",
        "\n",
        "Os contatos podem ser representados por um dicionário de contatos. \n",
        "\n",
        "Por exemplo:\n",
        "dict_contatos = {\n",
        "'78987654323': ('Maria', ['(86)998765432', '(86)998767788']), '88887654323': ('Ana', ['(85)977765432', '(86)988887788'])\n",
        "}\n",
        "\n",
        "Um contato pode ser representado por uma tupla nome e lista de telefones. \n",
        "\n",
        "O CPF do contato é a chave do dicionário de contatos.\n",
        "\n",
        "O programa deve ter as seguintes funções:\n",
        "\n",
        "Função para ler dados de um contato e registrar no dicionário de contatos.\n",
        "\n",
        "Função para listar os contatos registrados no dicionário de contatos.\n",
        "\n",
        "Função para salvar os dados do dicionário de contatos no arquivo \n",
        "meus_contatos.txt\n",
        "\n",
        "Função para recuperar os dados do arquivo meus_contatos.txt e popular em um novo dicionário de contatos.\n",
        "\n",
        "Ao executar o programa, leia do teclado os dados de 3 contatos diferentes e salve-os no arquivo meus_contatos.txt.\n",
        "\n",
        "Feche o programa e recupere os 3 contatos salvos anteriormente e mostre na tela dos dados completos dos contatos salvos."
      ],
      "metadata": {
        "id": "uACdUkk5oARj"
      }
    },
    {
      "cell_type": "code",
      "execution_count": null,
      "metadata": {
        "id": "sJrZF4yWn8W8"
      },
      "outputs": [],
      "source": [
        "# Função para ler dados de um contato e registrar no dicionário de contatos\n",
        "def adicionar_contato(dict_contatos):\n",
        "    cpf = input(\"Digite o CPF do contato: \")\n",
        "    nome = input(\"Digite o nome do contato: \")\n",
        "    telefones = []\n",
        "    telefone = input(\"Digite o telefone do contato (ou 'sair' para finalizar): \")\n",
        "    while telefone != 'sair':\n",
        "        telefones.append(telefone)\n",
        "        telefone = input(\"Digite outro telefone do contato (ou 'sair' para finalizar): \")\n",
        "    dict_contatos[cpf] = (nome, telefones)\n",
        "    print(\"Contato adicionado com sucesso!\")\n",
        "\n",
        "# Função para listar os contatos registrados no dicionário de contatos\n",
        "def listar_contatos(dict_contatos):\n",
        "    for cpf, contato in dict_contatos.items():\n",
        "        nome, telefones = contato\n",
        "        print(f\"CPF: {cpf} - Nome: {nome} - Telefones: {', '.join(telefones)}\")\n",
        "\n",
        "# Função para salvar os dados do dicionário de contatos no arquivo meus_contatos.txt\n",
        "def salvar_contatos(dict_contatos):\n",
        "    with open(\"meus_contatos.txt\", \"w\") as file:\n",
        "        for cpf, contato in dict_contatos.items():\n",
        "            nome, telefones = contato\n",
        "            file.write(f\"{cpf}|{nome}|{','.join(telefones)}\\n\")\n",
        "    print(\"Contatos salvos com sucesso!\")\n",
        "\n",
        "# Função para recuperar os dados do arquivo meus_contatos.txt e popular em um novo dicionário de contatos\n",
        "def recuperar_contatos():\n",
        "    dict_contatos = {}\n",
        "    try:\n",
        "        with open(\"meus_contatos.txt\", \"r\") as file:\n",
        "            for line in file:\n",
        "                cpf, nome, telefones = line.strip().split(\"|\")\n",
        "                dict_contatos[cpf] = (nome, telefones.split(\",\"))\n",
        "    except FileNotFoundError:\n",
        "        print(\"O arquivo meus_contatos.txt não existe. Nenhum contato recuperado.\")\n",
        "    return dict_contatos"
      ]
    },
    {
      "cell_type": "code",
      "source": [
        "# Dicionário de contatos\n",
        "dict_contatos = {}\n",
        "\n",
        "# Lendo os dados de 3 contatos e salvando no dicionário de contatos\n",
        "for i in range(3):\n",
        "    print(f\"Adicionando contato {i+1}:\")\n",
        "    adicionar_contato(dict_contatos)\n",
        "\n",
        "# Salvando os contatos no arquivo meus_contatos.txt\n",
        "salvar_contatos(dict_contatos)\n",
        "\n",
        "# Recuperando os contatos do arquivo meus_contatos.txt\n",
        "dict_contatos_recuperados = recuperar_contatos()\n",
        "\n",
        "# Listando os contatos recuperados\n",
        "print(\"Contatos recuperados:\")\n",
        "listar_contatos(dict_contatos_recuperados)"
      ],
      "metadata": {
        "colab": {
          "base_uri": "https://localhost:8080/"
        },
        "id": "V8GJnuRRpD6I",
        "outputId": "4167fb7a-8b00-404f-b50c-f20629b0b8e9"
      },
      "execution_count": null,
      "outputs": [
        {
          "output_type": "stream",
          "name": "stdout",
          "text": [
            "Adicionando contato 1:\n",
            "Digite o CPF do contato: 77777777\n",
            "Digite o nome do contato: Maria Joaquina\n",
            "Digite o telefone do contato (ou 'sair' para finalizar): 994556677\n",
            "Digite outro telefone do contato (ou 'sair' para finalizar): 987654321\n",
            "Digite outro telefone do contato (ou 'sair' para finalizar): sair\n",
            "Contato adicionado com sucesso!\n",
            "Adicionando contato 2:\n",
            "Digite o CPF do contato: 23423423\n",
            "Digite o nome do contato: Ana Carla\n",
            "Digite o telefone do contato (ou 'sair' para finalizar): 9876789876\n",
            "Digite outro telefone do contato (ou 'sair' para finalizar): sair\n",
            "Contato adicionado com sucesso!\n",
            "Adicionando contato 3:\n",
            "Digite o CPF do contato: 333333\n",
            "Digite o nome do contato: Carla Silva\n",
            "Digite o telefone do contato (ou 'sair' para finalizar): 7766554433\n",
            "Digite outro telefone do contato (ou 'sair' para finalizar): sair\n",
            "Contato adicionado com sucesso!\n",
            "Contatos salvos com sucesso!\n",
            "Contatos recuperados:\n",
            "CPF: 77777777 - Nome: Maria Joaquina - Telefones: 994556677, 987654321\n",
            "CPF: 23423423 - Nome: Ana Carla - Telefones: 9876789876\n",
            "CPF: 333333 - Nome: Carla Silva - Telefones: 7766554433\n"
          ]
        }
      ]
    }
  ]
}