{
  "nbformat": 4,
  "nbformat_minor": 0,
  "metadata": {
    "colab": {
      "provenance": [],
      "authorship_tag": "ABX9TyPHjFxPCQPATiPkQP+iImqs",
      "include_colab_link": true
    },
    "kernelspec": {
      "name": "python3",
      "display_name": "Python 3"
    },
    "language_info": {
      "name": "python"
    }
  },
  "cells": [
    {
      "cell_type": "markdown",
      "metadata": {
        "id": "view-in-github",
        "colab_type": "text"
      },
      "source": [
        "<a href=\"https://colab.research.google.com/github/armandossrecife/icc/blob/main/exercicio1_listas.ipynb\" target=\"_parent\"><img src=\"https://colab.research.google.com/assets/colab-badge.svg\" alt=\"Open In Colab\"/></a>"
      ]
    },
    {
      "cell_type": "markdown",
      "source": [
        "Exercício sobre Listas:\n",
        "\n",
        "Faça um programa em Python que salve 3 alunos em duas listas de disciplinas. Mostre a lista de nomes dos alunos em cada disciplina. Calcule a média aritmética de cada aluno e, para cada disciplina, mostre a lista de alunos com suas respectivas médias. Ao final, para cada disciplina, mostre o aluno que obteve a maior média final. \n",
        "\n",
        "Exemplo de detalhamento do exercício: \n",
        "\n",
        "1. Crie uma lista para armazenar nomes de alunos matriculados na disciplina ICC, logo depois crie uma nova lista para armazenar nomes de alunos matriculados na disciplina Cálculo I. \n",
        "\n",
        "2. Insira 3 alunos na lista de ICC e depois 3 alunos na lista de Cálculo I.\n",
        "\n",
        "3. Cada aluno matriculado possui 3 notas. \n",
        "\n",
        "4. Para cada aluno matriculado nas disciplinas de ICC e Cálculo I, insira 3 notas. \n",
        "\n",
        "5. Mostre a lista de nomes dos alunos da disciplina ICC. \n",
        "\n",
        "6. Mostre a lista de nomes dos alunos da disciplina Cálculo I. \n",
        "\n",
        "7. Faça o cálculo da média aritmética de cada aluno e, para cada disciplina, mostre a lista de alunos com suas respectivas médias. \n",
        "\n",
        "8. Para cada disciplina, mostre o aluno que obteve a maior média final. "
      ],
      "metadata": {
        "id": "4rC4xD-VzY-u"
      }
    },
    {
      "cell_type": "code",
      "execution_count": 43,
      "metadata": {
        "colab": {
          "base_uri": "https://localhost:8080/"
        },
        "id": "yNfLWJojt6vz",
        "outputId": "3c9cc5fa-1175-4ece-c9cb-1ad00b2cc23a"
      },
      "outputs": [
        {
          "output_type": "stream",
          "name": "stdout",
          "text": [
            "Estudantes de ICC: ['Alice', 'Bob', 'Carol']\n",
            "Estudantes de Cálculo I: ['David', 'Eva', 'Frank']\n"
          ]
        }
      ],
      "source": [
        "ICC = []\n",
        "CalculoI = []\n",
        "\n",
        "ICC = [\"Alice\", \"Bob\", \"Carol\"]\n",
        "CalculoI = [\"David\", \"Eva\", \"Frank\"]\n",
        "\n",
        "ICC_notas = [[7.5, 8.0, 7.0], [9.0, 8.5, 9.5], [8.0, 8.5, 9.0]]\n",
        "CalculoI_notas = [[9.0, 9.0, 8.0], [8.5, 8.0, 8.5], [9.0, 9.5, 9.0]]\n",
        "\n",
        "print(\"Estudantes de ICC:\", ICC)\n",
        "print(\"Estudantes de Cálculo I:\", CalculoI)"
      ]
    },
    {
      "cell_type": "code",
      "source": [
        "ICC_media = []\n",
        "for notas in ICC_notas:\n",
        "    ICC_media.append(sum(notas)/len(notas))\n",
        "\n",
        "CalculoI_media = []\n",
        "for notas in CalculoI_notas:\n",
        "    CalculoI_media.append(sum(notas)/len(notas))\n",
        "\n",
        "print(\"Estudantes de ICC com médias:\")\n",
        "for i in range(len(ICC)):\n",
        "    print(ICC[i], \":\", ICC_media[i])\n",
        "\n",
        "print(\"Estudantes de Cálculo I com médias:\")\n",
        "for i in range(len(CalculoI)):\n",
        "    print(CalculoI[i], \":\", CalculoI_media[i])"
      ],
      "metadata": {
        "colab": {
          "base_uri": "https://localhost:8080/"
        },
        "id": "oJx1Dj2bxTfl",
        "outputId": "52fcf340-44ca-48f3-94f9-14862e69dc77"
      },
      "execution_count": 44,
      "outputs": [
        {
          "output_type": "stream",
          "name": "stdout",
          "text": [
            "Estudantes de ICC com médias:\n",
            "Alice : 7.5\n",
            "Bob : 9.0\n",
            "Carol : 8.5\n",
            "Estudantes de Cálculo I com médias:\n",
            "David : 8.666666666666666\n",
            "Eva : 8.333333333333334\n",
            "Frank : 9.166666666666666\n"
          ]
        }
      ]
    },
    {
      "cell_type": "code",
      "source": [
        "# maior nota de ICC\n",
        "maior_nota_icc = max(ICC_media)\n",
        "indice = 0\n",
        "indice_encontrado = 0\n",
        "for nota in ICC_media:\n",
        "  if nota == maior_nota_icc:\n",
        "    indice_encontrado = indice\n",
        "    break\n",
        "  indice = indice + 1\n",
        "print(f\"índice encontrado: {indice_encontrado}\")\n",
        "print(ICC[indice_encontrado])"
      ],
      "metadata": {
        "colab": {
          "base_uri": "https://localhost:8080/"
        },
        "id": "unJKorzrvBzf",
        "outputId": "9ce2a804-0115-4067-b620-31d776fb2087"
      },
      "execution_count": 45,
      "outputs": [
        {
          "output_type": "stream",
          "name": "stdout",
          "text": [
            "índice encontrado: 1\n",
            "Bob\n"
          ]
        }
      ]
    },
    {
      "cell_type": "code",
      "source": [
        "# maior nota de Calculo\n",
        "maior_nota_calculos = max(CalculoI_media)\n",
        "indice = 0\n",
        "indice_encontrado = 0\n",
        "for nota in CalculoI_media:\n",
        "  if nota == maior_nota_calculos:\n",
        "    indice_encontrado = indice\n",
        "    break\n",
        "  indice = indice + 1\n",
        "print(f\"índice encontrado: {indice_encontrado}\")\n",
        "print(CalculoI[indice_encontrado])"
      ],
      "metadata": {
        "colab": {
          "base_uri": "https://localhost:8080/"
        },
        "id": "-a40EW_hvAY8",
        "outputId": "5c194be9-7276-4fea-fa15-d67607a14d7a"
      },
      "execution_count": 46,
      "outputs": [
        {
          "output_type": "stream",
          "name": "stdout",
          "text": [
            "índice encontrado: 2\n",
            "Frank\n"
          ]
        }
      ]
    },
    {
      "cell_type": "code",
      "source": [
        "# Usando tuplas\n",
        "\n",
        "# step 1\n",
        "ICC = []\n",
        "CalculoI = []\n",
        "\n",
        "# step 2\n",
        "ICC.append((\"João\", [8, 9, 7]))\n",
        "ICC.append((\"Maria\", [7, 8, 9]))\n",
        "ICC.append((\"Pedro\", [9, 7, 8]))\n",
        "\n",
        "CalculoI.append((\"Lucas\", [9, 8, 7]))\n",
        "CalculoI.append((\"Ana\", [7, 9, 8]))\n",
        "CalculoI.append((\"Sofia\", [8, 7, 9]))\n",
        "\n",
        "# step 5\n",
        "print(\"Alunos da disciplina ICC:\")\n",
        "for aluno in ICC:\n",
        "    print(aluno[0])\n",
        "\n",
        "# step 6\n",
        "print(\"\\nAlunos da disciplina Cálculo I:\")\n",
        "for aluno in CalculoI:\n",
        "    print(aluno[0])"
      ],
      "metadata": {
        "colab": {
          "base_uri": "https://localhost:8080/"
        },
        "id": "aGq_DQl6zC5m",
        "outputId": "84f903ca-c28b-4a3e-a528-6099f363c5ac"
      },
      "execution_count": 47,
      "outputs": [
        {
          "output_type": "stream",
          "name": "stdout",
          "text": [
            "Alunos da disciplina ICC:\n",
            "João\n",
            "Maria\n",
            "Pedro\n",
            "\n",
            "Alunos da disciplina Cálculo I:\n",
            "Lucas\n",
            "Ana\n",
            "Sofia\n"
          ]
        }
      ]
    },
    {
      "cell_type": "code",
      "source": [
        "ICC"
      ],
      "metadata": {
        "colab": {
          "base_uri": "https://localhost:8080/"
        },
        "id": "IIBgCM-g1yiS",
        "outputId": "b8ec7412-4319-445c-af74-c8abe00a8670"
      },
      "execution_count": 48,
      "outputs": [
        {
          "output_type": "execute_result",
          "data": {
            "text/plain": [
              "[('João', [8, 9, 7]), ('Maria', [7, 8, 9]), ('Pedro', [9, 7, 8])]"
            ]
          },
          "metadata": {},
          "execution_count": 48
        }
      ]
    },
    {
      "cell_type": "code",
      "source": [
        "CalculoI"
      ],
      "metadata": {
        "colab": {
          "base_uri": "https://localhost:8080/"
        },
        "id": "mdxAF7J610ap",
        "outputId": "4eba40c9-4afb-4c3b-c23b-7c08b80e3aee"
      },
      "execution_count": 49,
      "outputs": [
        {
          "output_type": "execute_result",
          "data": {
            "text/plain": [
              "[('Lucas', [9, 8, 7]), ('Ana', [7, 9, 8]), ('Sofia', [8, 7, 9])]"
            ]
          },
          "metadata": {},
          "execution_count": 49
        }
      ]
    },
    {
      "cell_type": "code",
      "source": [
        "ICC_media = []\n",
        "CalculoI_media = []\n",
        "\n",
        "print(\"Alunos de ICC\")\n",
        "for elemento in ICC:\n",
        "  media_aluno = sum(elemento[1])/len(elemento[1])\n",
        "  print(elemento[0], elemento[1], media_aluno)\n",
        "  ICC_media.append(media_aluno)\n",
        "\n",
        "print(ICC_media)\n",
        "\n",
        "print(\"Alunos de Cálculo\")\n",
        "for elemento in CalculoI:\n",
        "  media_aluno = sum(elemento[1])/len(elemento[1])\n",
        "  print(elemento[0], elemento[1], media_aluno)\n",
        "  CalculoI_media.append(media_aluno)\n",
        "\n",
        "print(CalculoI_media)"
      ],
      "metadata": {
        "colab": {
          "base_uri": "https://localhost:8080/"
        },
        "id": "MxQEsaA52Ggb",
        "outputId": "c9b476f3-3069-410c-d4a0-5260f2020c93"
      },
      "execution_count": 50,
      "outputs": [
        {
          "output_type": "stream",
          "name": "stdout",
          "text": [
            "Alunos de ICC\n",
            "João [8, 9, 7] 8.0\n",
            "Maria [7, 8, 9] 8.0\n",
            "Pedro [9, 7, 8] 8.0\n",
            "[8.0, 8.0, 8.0]\n",
            "Alunos de Cálculo\n",
            "Lucas [9, 8, 7] 8.0\n",
            "Ana [7, 9, 8] 8.0\n",
            "Sofia [8, 7, 9] 8.0\n",
            "[8.0, 8.0, 8.0]\n"
          ]
        }
      ]
    }
  ]
}